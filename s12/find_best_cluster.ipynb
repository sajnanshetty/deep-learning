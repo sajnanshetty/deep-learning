{
 "cells": [
  {
   "cell_type": "code",
   "execution_count": 96,
   "metadata": {},
   "outputs": [],
   "source": [
    "import os\n",
    "import requests\n",
    "import numpy as np\n",
    "import sklearn\n",
    "from sklearn.cluster import KMeans\n",
    "import matplotlib.pyplot as plt\n",
    "# import seaborn\n",
    "import seaborn as sns\n",
    "%matplotlib inline"
   ]
  },
  {
   "cell_type": "code",
   "execution_count": 97,
   "metadata": {},
   "outputs": [],
   "source": [
    "response = requests.get('https://raw.githubusercontent.com/sajnanshetty/deep-learning/master/s12/annotation/data/dog_annotation_coco.json')"
   ]
  },
  {
   "cell_type": "code",
   "execution_count": 98,
   "metadata": {},
   "outputs": [],
   "source": [
    "# parse file\n",
    "annotation_dict = response.json()"
   ]
  },
  {
   "cell_type": "code",
   "execution_count": 99,
   "metadata": {},
   "outputs": [],
   "source": [
    "format_json = {}\n",
    "for image in annotation_dict[\"images\"]:\n",
    "    format_json.update({image[\"id\"]: {\"file_name\": image[\"file_name\"], \"image_x\":  image[\"width\"], \"image_y\": image[\"height\"]}})\n",
    "    "
   ]
  },
  {
   "cell_type": "code",
   "execution_count": 100,
   "metadata": {},
   "outputs": [],
   "source": [
    "bbbox_properties = {}\n",
    "for item in annotation_dict[\"annotations\"]:\n",
    "    bbbox_properties.update({item[\"image_id\"]: {\"bbox_x\": item[\"bbox\"][0],\n",
    "                                                \"bbox_y\": item[\"bbox\"][1],\n",
    "                                                \"bbox_width\": item[\"bbox\"][2],\n",
    "                                               \"bbox_height\": item[\"bbox\"][3]}})"
   ]
  },
  {
   "cell_type": "code",
   "execution_count": 101,
   "metadata": {},
   "outputs": [],
   "source": [
    "bbbox_properties\n",
    "merge_dicts= {}\n",
    "for i in range(1, 51):\n",
    "    val3 = {}\n",
    "    val1 = format_json[i]\n",
    "    val2 = bbbox_properties[i]\n",
    "    val3.update(val1)\n",
    "    val3.update(val2)\n",
    "    merge_dicts.update({i: val3})"
   ]
  },
  {
   "cell_type": "code",
   "execution_count": 102,
   "metadata": {},
   "outputs": [],
   "source": [
    "### Display the data"
   ]
  },
  {
   "cell_type": "code",
   "execution_count": 104,
   "metadata": {},
   "outputs": [
    {
     "data": {
      "text/html": [
       "<div>\n",
       "<style scoped>\n",
       "    .dataframe tbody tr th:only-of-type {\n",
       "        vertical-align: middle;\n",
       "    }\n",
       "\n",
       "    .dataframe tbody tr th {\n",
       "        vertical-align: top;\n",
       "    }\n",
       "\n",
       "    .dataframe thead th {\n",
       "        text-align: right;\n",
       "    }\n",
       "</style>\n",
       "<table border=\"1\" class=\"dataframe\">\n",
       "  <thead>\n",
       "    <tr style=\"text-align: right;\">\n",
       "      <th></th>\n",
       "      <th>file_name</th>\n",
       "      <th>image_x</th>\n",
       "      <th>image_y</th>\n",
       "      <th>bbox_x</th>\n",
       "      <th>bbox_y</th>\n",
       "      <th>bbox_width</th>\n",
       "      <th>bbox_height</th>\n",
       "    </tr>\n",
       "  </thead>\n",
       "  <tbody>\n",
       "    <tr>\n",
       "      <th>1</th>\n",
       "      <td>dog1.jpg</td>\n",
       "      <td>190</td>\n",
       "      <td>265</td>\n",
       "      <td>24</td>\n",
       "      <td>79</td>\n",
       "      <td>149</td>\n",
       "      <td>131</td>\n",
       "    </tr>\n",
       "    <tr>\n",
       "      <th>2</th>\n",
       "      <td>dog2.jpg</td>\n",
       "      <td>276</td>\n",
       "      <td>183</td>\n",
       "      <td>16</td>\n",
       "      <td>21</td>\n",
       "      <td>230</td>\n",
       "      <td>140</td>\n",
       "    </tr>\n",
       "    <tr>\n",
       "      <th>3</th>\n",
       "      <td>dog3.jpg</td>\n",
       "      <td>259</td>\n",
       "      <td>194</td>\n",
       "      <td>14</td>\n",
       "      <td>12</td>\n",
       "      <td>211</td>\n",
       "      <td>161</td>\n",
       "    </tr>\n",
       "    <tr>\n",
       "      <th>4</th>\n",
       "      <td>dog4.jpg</td>\n",
       "      <td>275</td>\n",
       "      <td>184</td>\n",
       "      <td>78</td>\n",
       "      <td>4</td>\n",
       "      <td>155</td>\n",
       "      <td>179</td>\n",
       "    </tr>\n",
       "    <tr>\n",
       "      <th>5</th>\n",
       "      <td>dog5.jpg</td>\n",
       "      <td>259</td>\n",
       "      <td>194</td>\n",
       "      <td>123</td>\n",
       "      <td>29</td>\n",
       "      <td>116</td>\n",
       "      <td>157</td>\n",
       "    </tr>\n",
       "  </tbody>\n",
       "</table>\n",
       "</div>"
      ],
      "text/plain": [
       "  file_name image_x image_y bbox_x bbox_y bbox_width bbox_height\n",
       "1  dog1.jpg     190     265     24     79        149         131\n",
       "2  dog2.jpg     276     183     16     21        230         140\n",
       "3  dog3.jpg     259     194     14     12        211         161\n",
       "4  dog4.jpg     275     184     78      4        155         179\n",
       "5  dog5.jpg     259     194    123     29        116         157"
      ]
     },
     "execution_count": 104,
     "metadata": {},
     "output_type": "execute_result"
    }
   ],
   "source": [
    "df1 = pd.DataFrame.from_dict(merge_dicts).T\n",
    "df1.head(5)"
   ]
  },
  {
   "cell_type": "code",
   "execution_count": 105,
   "metadata": {},
   "outputs": [],
   "source": [
    "normalize_inputs = {}\n",
    "width_divider =['bbox_width', 'bbox_x']\n",
    "height_divider =['bbox_height', 'bbox_y']\n",
    "for i, val in merge_dicts.items():\n",
    "    new_dict = {}\n",
    "    width = val['image_x'] \n",
    "    height = val['image_y']\n",
    "    x = {\"N_\"+key: val[key]/width for key in width_divider}\n",
    "    y = {\"N_\"+key: val[key]/height for key in height_divider}\n",
    "    new_dict.update(x)\n",
    "    new_dict.update(y)\n",
    "    normalize_inputs.update({i: new_dict})\n",
    "    "
   ]
  },
  {
   "cell_type": "code",
   "execution_count": 106,
   "metadata": {},
   "outputs": [],
   "source": [
    "## Display Normalized data"
   ]
  },
  {
   "cell_type": "code",
   "execution_count": 107,
   "metadata": {},
   "outputs": [
    {
     "data": {
      "text/html": [
       "<div>\n",
       "<style scoped>\n",
       "    .dataframe tbody tr th:only-of-type {\n",
       "        vertical-align: middle;\n",
       "    }\n",
       "\n",
       "    .dataframe tbody tr th {\n",
       "        vertical-align: top;\n",
       "    }\n",
       "\n",
       "    .dataframe thead th {\n",
       "        text-align: right;\n",
       "    }\n",
       "</style>\n",
       "<table border=\"1\" class=\"dataframe\">\n",
       "  <thead>\n",
       "    <tr style=\"text-align: right;\">\n",
       "      <th></th>\n",
       "      <th>N_bbox_width</th>\n",
       "      <th>N_bbox_x</th>\n",
       "      <th>N_bbox_height</th>\n",
       "      <th>N_bbox_y</th>\n",
       "    </tr>\n",
       "  </thead>\n",
       "  <tbody>\n",
       "    <tr>\n",
       "      <th>1</th>\n",
       "      <td>0.784211</td>\n",
       "      <td>0.126316</td>\n",
       "      <td>0.494340</td>\n",
       "      <td>0.298113</td>\n",
       "    </tr>\n",
       "    <tr>\n",
       "      <th>2</th>\n",
       "      <td>0.833333</td>\n",
       "      <td>0.057971</td>\n",
       "      <td>0.765027</td>\n",
       "      <td>0.114754</td>\n",
       "    </tr>\n",
       "    <tr>\n",
       "      <th>3</th>\n",
       "      <td>0.814672</td>\n",
       "      <td>0.054054</td>\n",
       "      <td>0.829897</td>\n",
       "      <td>0.061856</td>\n",
       "    </tr>\n",
       "    <tr>\n",
       "      <th>4</th>\n",
       "      <td>0.563636</td>\n",
       "      <td>0.283636</td>\n",
       "      <td>0.972826</td>\n",
       "      <td>0.021739</td>\n",
       "    </tr>\n",
       "    <tr>\n",
       "      <th>5</th>\n",
       "      <td>0.447876</td>\n",
       "      <td>0.474903</td>\n",
       "      <td>0.809278</td>\n",
       "      <td>0.149485</td>\n",
       "    </tr>\n",
       "  </tbody>\n",
       "</table>\n",
       "</div>"
      ],
      "text/plain": [
       "   N_bbox_width  N_bbox_x  N_bbox_height  N_bbox_y\n",
       "1      0.784211  0.126316       0.494340  0.298113\n",
       "2      0.833333  0.057971       0.765027  0.114754\n",
       "3      0.814672  0.054054       0.829897  0.061856\n",
       "4      0.563636  0.283636       0.972826  0.021739\n",
       "5      0.447876  0.474903       0.809278  0.149485"
      ]
     },
     "execution_count": 107,
     "metadata": {},
     "output_type": "execute_result"
    }
   ],
   "source": [
    "df2 = pd.DataFrame.from_dict(normalize_inputs).T\n",
    "df2.head(5)"
   ]
  },
  {
   "cell_type": "code",
   "execution_count": 78,
   "metadata": {},
   "outputs": [],
   "source": [
    "# Take x and y to fim=nd k means clustering"
   ]
  },
  {
   "cell_type": "code",
   "execution_count": 108,
   "metadata": {},
   "outputs": [],
   "source": [
    "normalize_values = normalize_inputs.values()\n",
    "x = [item[\"N_bbox_width\"] for item in normalize_values]\n",
    "y = [item[\"N_bbox_height\"] for item in normalize_values]\n"
   ]
  },
  {
   "cell_type": "code",
   "execution_count": 109,
   "metadata": {},
   "outputs": [
    {
     "data": {
      "image/png": "[encoded data removed]",
      "text/plain": [
       "<Figure size 432x288 with 1 Axes>"
      ]
     },
     "metadata": {
      "needs_background": "light"
     },
     "output_type": "display_data"
    }
   ],
   "source": [
    "plt.scatter(x, y)\n",
    "plt.xlabel(\"bbox width\")\n",
    "plt.ylabel(\"bbox height\")\n",
    "plt.title(\"width v/s height\")\n",
    "plt.show()"
   ]
  },
  {
   "cell_type": "code",
   "execution_count": 81,
   "metadata": {},
   "outputs": [],
   "source": [
    "### plot in log scale"
   ]
  },
  {
   "cell_type": "code",
   "execution_count": 110,
   "metadata": {},
   "outputs": [
    {
     "data": {
      "image/png": "[encoded data removed]",
      "text/plain": [
       "<Figure size 432x288 with 1 Axes>"
      ]
     },
     "metadata": {
      "needs_background": "light"
     },
     "output_type": "display_data"
    }
   ],
   "source": [
    "import numpy as np \n",
    "x1 = np.log(x) \n",
    "y1 = np.log(y) \n",
    "plt.scatter(x1 ,y1)\n",
    "plt.show()"
   ]
  },
  {
   "cell_type": "code",
   "execution_count": 92,
   "metadata": {},
   "outputs": [],
   "source": [
    "## convert to numpy array to work on Kmeans algorithm"
   ]
  },
  {
   "cell_type": "code",
   "execution_count": 111,
   "metadata": {},
   "outputs": [],
   "source": [
    "X = np.array(list(zip(x, y)) )"
   ]
  },
  {
   "cell_type": "code",
   "execution_count": 112,
   "metadata": {},
   "outputs": [],
   "source": [
    "cost = []\n",
    "K = range(1, 11)\n",
    "for k in K:\n",
    "    km = KMeans(n_clusters=k)\n",
    "    km = km.fit(X)\n",
    "    cost.append(km.inertia_)"
   ]
  },
  {
   "cell_type": "code",
   "execution_count": 113,
   "metadata": {},
   "outputs": [
    {
     "data": {
      "image/png": "[encoded data removed]",
      "text/plain": [
       "<Figure size 432x288 with 1 Axes>"
      ]
     },
     "metadata": {
      "needs_background": "light"
     },
     "output_type": "display_data"
    }
   ],
   "source": [
    "plt.plot(K, cost, 'bx-', color ='g', linewidth ='3')\n",
    "plt.xlabel('k')\n",
    "plt.ylabel('wss') #Within-Cluster-Sum of Squared Errors \n",
    "plt.title('Elbow method for optimal k')\n",
    "plt.show()"
   ]
  },
  {
   "cell_type": "code",
   "execution_count": null,
   "metadata": {},
   "outputs": [],
   "source": [
    "# By looking at grapgh K =3 is best suitable"
   ]
  },
  {
   "cell_type": "code",
   "execution_count": 114,
   "metadata": {},
   "outputs": [
    {
     "data": {
      "text/plain": [
       "KMeans(n_clusters=3)"
      ]
     },
     "execution_count": 114,
     "metadata": {},
     "output_type": "execute_result"
    }
   ],
   "source": [
    "kmeans = KMeans(n_clusters=3)\n",
    "kmeans.fit(X)"
   ]
  },
  {
   "cell_type": "code",
   "execution_count": 115,
   "metadata": {},
   "outputs": [
    {
     "name": "stdout",
     "output_type": "stream",
     "text": [
      "[[0.29831118 0.59028987]\n",
      " [0.4647697  0.84415923]\n",
      " [0.76853942 0.76436616]]\n"
     ]
    }
   ],
   "source": [
    "print(kmeans.cluster_centers_)"
   ]
  },
  {
   "cell_type": "code",
   "execution_count": null,
   "metadata": {},
   "outputs": [],
   "source": [
    "## Show the centroid in black color"
   ]
  },
  {
   "cell_type": "code",
   "execution_count": 116,
   "metadata": {},
   "outputs": [
    {
     "data": {
      "text/plain": [
       "<matplotlib.collections.PathCollection at 0x18928bbd908>"
      ]
     },
     "execution_count": 116,
     "metadata": {},
     "output_type": "execute_result"
    },
    {
     "data": {
      "image/png": "[encoded data removed]",
      "text/plain": [
       "<Figure size 432x288 with 1 Axes>"
      ]
     },
     "metadata": {
      "needs_background": "light"
     },
     "output_type": "display_data"
    }
   ],
   "source": [
    "plt.scatter(X[:,0],X[:,1], c=kmeans.labels_, cmap='rainbow')\n",
    "plt.scatter(kmeans.cluster_centers_[:,0],kmeans.cluster_centers_[:,1], color='black', s=200)"
   ]
  },
  {
   "cell_type": "code",
   "execution_count": 46,
   "metadata": {},
   "outputs": [],
   "source": []
  }
 ],
 "metadata": {
  "kernelspec": {
   "display_name": "Python 3",
   "language": "python",
   "name": "python3"
  },
  "language_info": {
   "codemirror_mode": {
    "name": "ipython",
    "version": 3
   },
   "file_extension": ".py",
   "mimetype": "text/x-python",
   "name": "python",
   "nbconvert_exporter": "python",
   "pygments_lexer": "ipython3",
   "version": "3.7.6"
  }
 },
 "nbformat": 4,
 "nbformat_minor": 4
}
