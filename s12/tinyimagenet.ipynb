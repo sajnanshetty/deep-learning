{
  "nbformat": 4,
  "nbformat_minor": 0,
  "metadata": {
    "colab": {
      "name": "eva_s12.ipynb",
      "provenance": [],
      "collapsed_sections": []
    },
    "kernelspec": {
      "name": "python3",
      "display_name": "Python 3"
    },
    "accelerator": "GPU",
    "widgets": {
      "application/vnd.jupyter.widget-state+json": {
        "42f3db5f578e419b92a43ad974f15497": {
          "model_module": "@jupyter-widgets/controls",
          "model_name": "HBoxModel",
          "state": {
            "_view_name": "HBoxView",
            "_dom_classes": [],
            "_model_name": "HBoxModel",
            "_view_module": "@jupyter-widgets/controls",
            "_model_module_version": "1.5.0",
            "_view_count": null,
            "_view_module_version": "1.5.0",
            "box_style": "",
            "layout": "IPY_MODEL_10495c993ae743e8a808fe74cdadce88",
            "_model_module": "@jupyter-widgets/controls",
            "children": [
              "IPY_MODEL_953eb2c20b8d4fc682ee100a84e00050",
              "IPY_MODEL_d505b57fab064cc898e891f3ad7d57be"
            ]
          }
        },
        "10495c993ae743e8a808fe74cdadce88": {
          "model_module": "@jupyter-widgets/base",
          "model_name": "LayoutModel",
          "state": {
            "_view_name": "LayoutView",
            "grid_template_rows": null,
            "right": null,
            "justify_content": null,
            "_view_module": "@jupyter-widgets/base",
            "overflow": null,
            "_model_module_version": "1.2.0",
            "_view_count": null,
            "flex_flow": null,
            "width": null,
            "min_width": null,
            "border": null,
            "align_items": null,
            "bottom": null,
            "_model_module": "@jupyter-widgets/base",
            "top": null,
            "grid_column": null,
            "overflow_y": null,
            "overflow_x": null,
            "grid_auto_flow": null,
            "grid_area": null,
            "grid_template_columns": null,
            "flex": null,
            "_model_name": "LayoutModel",
            "justify_items": null,
            "grid_row": null,
            "max_height": null,
            "align_content": null,
            "visibility": null,
            "align_self": null,
            "height": null,
            "min_height": null,
            "padding": null,
            "grid_auto_rows": null,
            "grid_gap": null,
            "max_width": null,
            "order": null,
            "_view_module_version": "1.2.0",
            "grid_template_areas": null,
            "object_position": null,
            "object_fit": null,
            "grid_auto_columns": null,
            "margin": null,
            "display": null,
            "left": null
          }
        },
        "953eb2c20b8d4fc682ee100a84e00050": {
          "model_module": "@jupyter-widgets/controls",
          "model_name": "FloatProgressModel",
          "state": {
            "_view_name": "ProgressView",
            "style": "IPY_MODEL_752796716d734bf3ba73a2c7d8bc4632",
            "_dom_classes": [],
            "description": "100%",
            "_model_name": "FloatProgressModel",
            "bar_style": "success",
            "max": 120609,
            "_view_module": "@jupyter-widgets/controls",
            "_model_module_version": "1.5.0",
            "value": 120609,
            "_view_count": null,
            "_view_module_version": "1.5.0",
            "orientation": "horizontal",
            "min": 0,
            "description_tooltip": null,
            "_model_module": "@jupyter-widgets/controls",
            "layout": "IPY_MODEL_c4c60d543fa14b56a1a2269d4ab5fb54"
          }
        },
        "d505b57fab064cc898e891f3ad7d57be": {
          "model_module": "@jupyter-widgets/controls",
          "model_name": "HTMLModel",
          "state": {
            "_view_name": "HTMLView",
            "style": "IPY_MODEL_df954c34c54e46839877aa02e4603029",
            "_dom_classes": [],
            "description": "",
            "_model_name": "HTMLModel",
            "placeholder": "​",
            "_view_module": "@jupyter-widgets/controls",
            "_model_module_version": "1.5.0",
            "value": " 120609/120609 [26:59&lt;00:00, 74.48it/s]",
            "_view_count": null,
            "_view_module_version": "1.5.0",
            "description_tooltip": null,
            "_model_module": "@jupyter-widgets/controls",
            "layout": "IPY_MODEL_4c23a884b0ca4ee9aec68fd1afc610fb"
          }
        },
        "752796716d734bf3ba73a2c7d8bc4632": {
          "model_module": "@jupyter-widgets/controls",
          "model_name": "ProgressStyleModel",
          "state": {
            "_view_name": "StyleView",
            "_model_name": "ProgressStyleModel",
            "description_width": "initial",
            "_view_module": "@jupyter-widgets/base",
            "_model_module_version": "1.5.0",
            "_view_count": null,
            "_view_module_version": "1.2.0",
            "bar_color": null,
            "_model_module": "@jupyter-widgets/controls"
          }
        },
        "c4c60d543fa14b56a1a2269d4ab5fb54": {
          "model_module": "@jupyter-widgets/base",
          "model_name": "LayoutModel",
          "state": {
            "_view_name": "LayoutView",
            "grid_template_rows": null,
            "right": null,
            "justify_content": null,
            "_view_module": "@jupyter-widgets/base",
            "overflow": null,
            "_model_module_version": "1.2.0",
            "_view_count": null,
            "flex_flow": null,
            "width": null,
            "min_width": null,
            "border": null,
            "align_items": null,
            "bottom": null,
            "_model_module": "@jupyter-widgets/base",
            "top": null,
            "grid_column": null,
            "overflow_y": null,
            "overflow_x": null,
            "grid_auto_flow": null,
            "grid_area": null,
            "grid_template_columns": null,
            "flex": null,
            "_model_name": "LayoutModel",
            "justify_items": null,
            "grid_row": null,
            "max_height": null,
            "align_content": null,
            "visibility": null,
            "align_self": null,
            "height": null,
            "min_height": null,
            "padding": null,
            "grid_auto_rows": null,
            "grid_gap": null,
            "max_width": null,
            "order": null,
            "_view_module_version": "1.2.0",
            "grid_template_areas": null,
            "object_position": null,
            "object_fit": null,
            "grid_auto_columns": null,
            "margin": null,
            "display": null,
            "left": null
          }
        },
        "df954c34c54e46839877aa02e4603029": {
          "model_module": "@jupyter-widgets/controls",
          "model_name": "DescriptionStyleModel",
          "state": {
            "_view_name": "StyleView",
            "_model_name": "DescriptionStyleModel",
            "description_width": "",
            "_view_module": "@jupyter-widgets/base",
            "_model_module_version": "1.5.0",
            "_view_count": null,
            "_view_module_version": "1.2.0",
            "_model_module": "@jupyter-widgets/controls"
          }
        },
        "4c23a884b0ca4ee9aec68fd1afc610fb": {
          "model_module": "@jupyter-widgets/base",
          "model_name": "LayoutModel",
          "state": {
            "_view_name": "LayoutView",
            "grid_template_rows": null,
            "right": null,
            "justify_content": null,
            "_view_module": "@jupyter-widgets/base",
            "overflow": null,
            "_model_module_version": "1.2.0",
            "_view_count": null,
            "flex_flow": null,
            "width": null,
            "min_width": null,
            "border": null,
            "align_items": null,
            "bottom": null,
            "_model_module": "@jupyter-widgets/base",
            "top": null,
            "grid_column": null,
            "overflow_y": null,
            "overflow_x": null,
            "grid_auto_flow": null,
            "grid_area": null,
            "grid_template_columns": null,
            "flex": null,
            "_model_name": "LayoutModel",
            "justify_items": null,
            "grid_row": null,
            "max_height": null,
            "align_content": null,
            "visibility": null,
            "align_self": null,
            "height": null,
            "min_height": null,
            "padding": null,
            "grid_auto_rows": null,
            "grid_gap": null,
            "max_width": null,
            "order": null,
            "_view_module_version": "1.2.0",
            "grid_template_areas": null,
            "object_position": null,
            "object_fit": null,
            "grid_auto_columns": null,
            "margin": null,
            "display": null,
            "left": null
          }
        },
        "1ed3c977b82545198a8ece99c6d3bad9": {
          "model_module": "@jupyter-widgets/controls",
          "model_name": "HBoxModel",
          "state": {
            "_view_name": "HBoxView",
            "_dom_classes": [],
            "_model_name": "HBoxModel",
            "_view_module": "@jupyter-widgets/controls",
            "_model_module_version": "1.5.0",
            "_view_count": null,
            "_view_module_version": "1.5.0",
            "box_style": "",
            "layout": "IPY_MODEL_ebe5ade3b7bc4077b3e1027b35ef953a",
            "_model_module": "@jupyter-widgets/controls",
            "children": [
              "IPY_MODEL_b5cb9e8ae3c8483089583d277a0183cd",
              "IPY_MODEL_ecafca7f42734c2bbdc9478ac8283e36"
            ]
          }
        },
        "ebe5ade3b7bc4077b3e1027b35ef953a": {
          "model_module": "@jupyter-widgets/base",
          "model_name": "LayoutModel",
          "state": {
            "_view_name": "LayoutView",
            "grid_template_rows": null,
            "right": null,
            "justify_content": null,
            "_view_module": "@jupyter-widgets/base",
            "overflow": null,
            "_model_module_version": "1.2.0",
            "_view_count": null,
            "flex_flow": null,
            "width": null,
            "min_width": null,
            "border": null,
            "align_items": null,
            "bottom": null,
            "_model_module": "@jupyter-widgets/base",
            "top": null,
            "grid_column": null,
            "overflow_y": null,
            "overflow_x": null,
            "grid_auto_flow": null,
            "grid_area": null,
            "grid_template_columns": null,
            "flex": null,
            "_model_name": "LayoutModel",
            "justify_items": null,
            "grid_row": null,
            "max_height": null,
            "align_content": null,
            "visibility": null,
            "align_self": null,
            "height": null,
            "min_height": null,
            "padding": null,
            "grid_auto_rows": null,
            "grid_gap": null,
            "max_width": null,
            "order": null,
            "_view_module_version": "1.2.0",
            "grid_template_areas": null,
            "object_position": null,
            "object_fit": null,
            "grid_auto_columns": null,
            "margin": null,
            "display": null,
            "left": null
          }
        },
        "b5cb9e8ae3c8483089583d277a0183cd": {
          "model_module": "@jupyter-widgets/controls",
          "model_name": "FloatProgressModel",
          "state": {
            "_view_name": "ProgressView",
            "style": "IPY_MODEL_ea1f847c099c45d3abc846ccc09a6166",
            "_dom_classes": [],
            "description": "Loading train folder...: 100%",
            "_model_name": "FloatProgressModel",
            "bar_style": "success",
            "max": 200,
            "_view_module": "@jupyter-widgets/controls",
            "_model_module_version": "1.5.0",
            "value": 200,
            "_view_count": null,
            "_view_module_version": "1.5.0",
            "orientation": "horizontal",
            "min": 0,
            "description_tooltip": null,
            "_model_module": "@jupyter-widgets/controls",
            "layout": "IPY_MODEL_29ea1d7584ab48b3829a8872cb2558db"
          }
        },
        "ecafca7f42734c2bbdc9478ac8283e36": {
          "model_module": "@jupyter-widgets/controls",
          "model_name": "HTMLModel",
          "state": {
            "_view_name": "HTMLView",
            "style": "IPY_MODEL_914121a9c5674780bec4a064fce6a44f",
            "_dom_classes": [],
            "description": "",
            "_model_name": "HTMLModel",
            "placeholder": "​",
            "_view_module": "@jupyter-widgets/controls",
            "_model_module_version": "1.5.0",
            "value": " 200/200 [00:01&lt;00:00, 147.92it/s]",
            "_view_count": null,
            "_view_module_version": "1.5.0",
            "description_tooltip": null,
            "_model_module": "@jupyter-widgets/controls",
            "layout": "IPY_MODEL_c78feee284264e62a4c88d71244b13dc"
          }
        },
        "ea1f847c099c45d3abc846ccc09a6166": {
          "model_module": "@jupyter-widgets/controls",
          "model_name": "ProgressStyleModel",
          "state": {
            "_view_name": "StyleView",
            "_model_name": "ProgressStyleModel",
            "description_width": "initial",
            "_view_module": "@jupyter-widgets/base",
            "_model_module_version": "1.5.0",
            "_view_count": null,
            "_view_module_version": "1.2.0",
            "bar_color": null,
            "_model_module": "@jupyter-widgets/controls"
          }
        },
        "29ea1d7584ab48b3829a8872cb2558db": {
          "model_module": "@jupyter-widgets/base",
          "model_name": "LayoutModel",
          "state": {
            "_view_name": "LayoutView",
            "grid_template_rows": null,
            "right": null,
            "justify_content": null,
            "_view_module": "@jupyter-widgets/base",
            "overflow": null,
            "_model_module_version": "1.2.0",
            "_view_count": null,
            "flex_flow": null,
            "width": null,
            "min_width": null,
            "border": null,
            "align_items": null,
            "bottom": null,
            "_model_module": "@jupyter-widgets/base",
            "top": null,
            "grid_column": null,
            "overflow_y": null,
            "overflow_x": null,
            "grid_auto_flow": null,
            "grid_area": null,
            "grid_template_columns": null,
            "flex": null,
            "_model_name": "LayoutModel",
            "justify_items": null,
            "grid_row": null,
            "max_height": null,
            "align_content": null,
            "visibility": null,
            "align_self": null,
            "height": null,
            "min_height": null,
            "padding": null,
            "grid_auto_rows": null,
            "grid_gap": null,
            "max_width": null,
            "order": null,
            "_view_module_version": "1.2.0",
            "grid_template_areas": null,
            "object_position": null,
            "object_fit": null,
            "grid_auto_columns": null,
            "margin": null,
            "display": null,
            "left": null
          }
        },
        "914121a9c5674780bec4a064fce6a44f": {
          "model_module": "@jupyter-widgets/controls",
          "model_name": "DescriptionStyleModel",
          "state": {
            "_view_name": "StyleView",
            "_model_name": "DescriptionStyleModel",
            "description_width": "",
            "_view_module": "@jupyter-widgets/base",
            "_model_module_version": "1.5.0",
            "_view_count": null,
            "_view_module_version": "1.2.0",
            "_model_module": "@jupyter-widgets/controls"
          }
        },
        "c78feee284264e62a4c88d71244b13dc": {
          "model_module": "@jupyter-widgets/base",
          "model_name": "LayoutModel",
          "state": {
            "_view_name": "LayoutView",
            "grid_template_rows": null,
            "right": null,
            "justify_content": null,
            "_view_module": "@jupyter-widgets/base",
            "overflow": null,
            "_model_module_version": "1.2.0",
            "_view_count": null,
            "flex_flow": null,
            "width": null,
            "min_width": null,
            "border": null,
            "align_items": null,
            "bottom": null,
            "_model_module": "@jupyter-widgets/base",
            "top": null,
            "grid_column": null,
            "overflow_y": null,
            "overflow_x": null,
            "grid_auto_flow": null,
            "grid_area": null,
            "grid_template_columns": null,
            "flex": null,
            "_model_name": "LayoutModel",
            "justify_items": null,
            "grid_row": null,
            "max_height": null,
            "align_content": null,
            "visibility": null,
            "align_self": null,
            "height": null,
            "min_height": null,
            "padding": null,
            "grid_auto_rows": null,
            "grid_gap": null,
            "max_width": null,
            "order": null,
            "_view_module_version": "1.2.0",
            "grid_template_areas": null,
            "object_position": null,
            "object_fit": null,
            "grid_auto_columns": null,
            "margin": null,
            "display": null,
            "left": null
          }
        },
        "80d0be477a87412895d97ad05d9c487a": {
          "model_module": "@jupyter-widgets/controls",
          "model_name": "HBoxModel",
          "state": {
            "_view_name": "HBoxView",
            "_dom_classes": [],
            "_model_name": "HBoxModel",
            "_view_module": "@jupyter-widgets/controls",
            "_model_module_version": "1.5.0",
            "_view_count": null,
            "_view_module_version": "1.5.0",
            "box_style": "",
            "layout": "IPY_MODEL_6ba1100340d74cfb8d06349bf899eb99",
            "_model_module": "@jupyter-widgets/controls",
            "children": [
              "IPY_MODEL_2865ea39f6234130979ff73fc800b108",
              "IPY_MODEL_229a92b1760c4268a9490b62784c382a"
            ]
          }
        },
        "6ba1100340d74cfb8d06349bf899eb99": {
          "model_module": "@jupyter-widgets/base",
          "model_name": "LayoutModel",
          "state": {
            "_view_name": "LayoutView",
            "grid_template_rows": null,
            "right": null,
            "justify_content": null,
            "_view_module": "@jupyter-widgets/base",
            "overflow": null,
            "_model_module_version": "1.2.0",
            "_view_count": null,
            "flex_flow": null,
            "width": null,
            "min_width": null,
            "border": null,
            "align_items": null,
            "bottom": null,
            "_model_module": "@jupyter-widgets/base",
            "top": null,
            "grid_column": null,
            "overflow_y": null,
            "overflow_x": null,
            "grid_auto_flow": null,
            "grid_area": null,
            "grid_template_columns": null,
            "flex": null,
            "_model_name": "LayoutModel",
            "justify_items": null,
            "grid_row": null,
            "max_height": null,
            "align_content": null,
            "visibility": null,
            "align_self": null,
            "height": null,
            "min_height": null,
            "padding": null,
            "grid_auto_rows": null,
            "grid_gap": null,
            "max_width": null,
            "order": null,
            "_view_module_version": "1.2.0",
            "grid_template_areas": null,
            "object_position": null,
            "object_fit": null,
            "grid_auto_columns": null,
            "margin": null,
            "display": null,
            "left": null
          }
        },
        "2865ea39f6234130979ff73fc800b108": {
          "model_module": "@jupyter-widgets/controls",
          "model_name": "FloatProgressModel",
          "state": {
            "_view_name": "ProgressView",
            "style": "IPY_MODEL_67f859fd6c2a421091561c1cd7609997",
            "_dom_classes": [],
            "description": "Loading val folder....: ",
            "_model_name": "FloatProgressModel",
            "bar_style": "success",
            "max": 1,
            "_view_module": "@jupyter-widgets/controls",
            "_model_module_version": "1.5.0",
            "value": 1,
            "_view_count": null,
            "_view_module_version": "1.5.0",
            "orientation": "horizontal",
            "min": 0,
            "description_tooltip": null,
            "_model_module": "@jupyter-widgets/controls",
            "layout": "IPY_MODEL_15baa6132c784d67a0967693aeda82c8"
          }
        },
        "229a92b1760c4268a9490b62784c382a": {
          "model_module": "@jupyter-widgets/controls",
          "model_name": "HTMLModel",
          "state": {
            "_view_name": "HTMLView",
            "style": "IPY_MODEL_9537eaf95b924466bcdead27f9174c0f",
            "_dom_classes": [],
            "description": "",
            "_model_name": "HTMLModel",
            "placeholder": "​",
            "_view_module": "@jupyter-widgets/controls",
            "_model_module_version": "1.5.0",
            "value": " 10000/? [00:00&lt;00:00, 24487.18it/s]",
            "_view_count": null,
            "_view_module_version": "1.5.0",
            "description_tooltip": null,
            "_model_module": "@jupyter-widgets/controls",
            "layout": "IPY_MODEL_eb69a03e15294df1ac7490595938d637"
          }
        },
        "67f859fd6c2a421091561c1cd7609997": {
          "model_module": "@jupyter-widgets/controls",
          "model_name": "ProgressStyleModel",
          "state": {
            "_view_name": "StyleView",
            "_model_name": "ProgressStyleModel",
            "description_width": "initial",
            "_view_module": "@jupyter-widgets/base",
            "_model_module_version": "1.5.0",
            "_view_count": null,
            "_view_module_version": "1.2.0",
            "bar_color": null,
            "_model_module": "@jupyter-widgets/controls"
          }
        },
        "15baa6132c784d67a0967693aeda82c8": {
          "model_module": "@jupyter-widgets/base",
          "model_name": "LayoutModel",
          "state": {
            "_view_name": "LayoutView",
            "grid_template_rows": null,
            "right": null,
            "justify_content": null,
            "_view_module": "@jupyter-widgets/base",
            "overflow": null,
            "_model_module_version": "1.2.0",
            "_view_count": null,
            "flex_flow": null,
            "width": null,
            "min_width": null,
            "border": null,
            "align_items": null,
            "bottom": null,
            "_model_module": "@jupyter-widgets/base",
            "top": null,
            "grid_column": null,
            "overflow_y": null,
            "overflow_x": null,
            "grid_auto_flow": null,
            "grid_area": null,
            "grid_template_columns": null,
            "flex": null,
            "_model_name": "LayoutModel",
            "justify_items": null,
            "grid_row": null,
            "max_height": null,
            "align_content": null,
            "visibility": null,
            "align_self": null,
            "height": null,
            "min_height": null,
            "padding": null,
            "grid_auto_rows": null,
            "grid_gap": null,
            "max_width": null,
            "order": null,
            "_view_module_version": "1.2.0",
            "grid_template_areas": null,
            "object_position": null,
            "object_fit": null,
            "grid_auto_columns": null,
            "margin": null,
            "display": null,
            "left": null
          }
        },
        "9537eaf95b924466bcdead27f9174c0f": {
          "model_module": "@jupyter-widgets/controls",
          "model_name": "DescriptionStyleModel",
          "state": {
            "_view_name": "StyleView",
            "_model_name": "DescriptionStyleModel",
            "description_width": "",
            "_view_module": "@jupyter-widgets/base",
            "_model_module_version": "1.5.0",
            "_view_count": null,
            "_view_module_version": "1.2.0",
            "_model_module": "@jupyter-widgets/controls"
          }
        },
        "eb69a03e15294df1ac7490595938d637": {
          "model_module": "@jupyter-widgets/base",
          "model_name": "LayoutModel",
          "state": {
            "_view_name": "LayoutView",
            "grid_template_rows": null,
            "right": null,
            "justify_content": null,
            "_view_module": "@jupyter-widgets/base",
            "overflow": null,
            "_model_module_version": "1.2.0",
            "_view_count": null,
            "flex_flow": null,
            "width": null,
            "min_width": null,
            "border": null,
            "align_items": null,
            "bottom": null,
            "_model_module": "@jupyter-widgets/base",
            "top": null,
            "grid_column": null,
            "overflow_y": null,
            "overflow_x": null,
            "grid_auto_flow": null,
            "grid_area": null,
            "grid_template_columns": null,
            "flex": null,
            "_model_name": "LayoutModel",
            "justify_items": null,
            "grid_row": null,
            "max_height": null,
            "align_content": null,
            "visibility": null,
            "align_self": null,
            "height": null,
            "min_height": null,
            "padding": null,
            "grid_auto_rows": null,
            "grid_gap": null,
            "max_width": null,
            "order": null,
            "_view_module_version": "1.2.0",
            "grid_template_areas": null,
            "object_position": null,
            "object_fit": null,
            "grid_auto_columns": null,
            "margin": null,
            "display": null,
            "left": null
          }
        }
      }
    }
  },
  "cells": [
    {
      "cell_type": "code",
      "metadata": {
        "id": "KeTyVAteolxP",
        "colab_type": "code",
        "colab": {
          "base_uri": "https://localhost:8080/",
          "height": 122
        },
        "outputId": "c85ede23-3468-4fac-f572-449b5ed4a6f6"
      },
      "source": [
        "from google.colab import drive\n",
        "ROOT = \"/content/gdrive\"\n",
        "drive.mount(ROOT, force_remount=True)"
      ],
      "execution_count": 3,
      "outputs": [
        {
          "output_type": "stream",
          "text": [
            "Go to this URL in a browser: https://accounts.google.com/o/oauth2/auth?client_id=947318989803-6bn6qk8qdgf4n4g3pfee6491hc0brc4i.apps.googleusercontent.com&redirect_uri=urn%3aietf%3awg%3aoauth%3a2.0%3aoob&response_type=code&scope=email%20https%3a%2f%2fwww.googleapis.com%2fauth%2fdocs.test%20https%3a%2f%2fwww.googleapis.com%2fauth%2fdrive%20https%3a%2f%2fwww.googleapis.com%2fauth%2fdrive.photos.readonly%20https%3a%2f%2fwww.googleapis.com%2fauth%2fpeopleapi.readonly\n",
            "\n",
            "Enter your authorization code:\n",
            "··········\n",
            "Mounted at /content/gdrive\n"
          ],
          "name": "stdout"
        }
      ]
    },
    {
      "cell_type": "code",
      "metadata": {
        "id": "4L3j3NFDxep1",
        "colab_type": "code",
        "colab": {}
      },
      "source": [
        "import sys\n",
        "import os\n",
        "folder = '/content/gdrive/My Drive/Colab Notebooks/my_project1/deep-learning/utils'\n",
        "os.chdir(folder)"
      ],
      "execution_count": 4,
      "outputs": []
    },
    {
      "cell_type": "code",
      "metadata": {
        "id": "jQ-V6NbMF3bD",
        "colab_type": "code",
        "colab": {
          "base_uri": "https://localhost:8080/",
          "height": 51
        },
        "outputId": "d1c38781-fcd6-4a34-fc1a-82c104a3a52b"
      },
      "source": [
        "import torch.nn as nn\n",
        "from helper import HelperModel\n",
        "from dataset_info import DataSetInfo\n",
        "from dataloader import DataLoader\n",
        "from models.resnet import ResNet18, ResNet, BasicBlock\n",
        "from models.resnet_tinyimagenet import ResNet18_GradCam\n",
        "from transforms import Transform\n",
        "from train import Train\n",
        "from test import Test\n",
        "from plot import Plot\n",
        "from albumentations import *\n",
        "from albumentations.pytorch import ToTensor\n",
        "from gradcam import *\n",
        "from tinymagenetdataset import ProcessTinyImageNet\n",
        "from torchvisiondataset import TorchVisionDataSet\n",
        "import matplotlib.pyplot as plt\n",
        "from lr_finder import LRFinder\n",
        "from torch.utils.data import random_split"
      ],
      "execution_count": 5,
      "outputs": [
        {
          "output_type": "stream",
          "text": [
            "WARNING:lr_finder:To enable mixed precision training, please install `apex`. Or you can re-install this package by the following command:\n",
            "  pip install torch-lr-finder -v --global-option=\"amp\"\n"
          ],
          "name": "stderr"
        }
      ]
    },
    {
      "cell_type": "code",
      "metadata": {
        "id": "jHoIGLP6o6an",
        "colab_type": "code",
        "colab": {
          "base_uri": "https://localhost:8080/",
          "height": 1000
        },
        "outputId": "c0a94d69-2848-4f5f-9a68-e9618c62657b"
      },
      "source": [
        "model_obj = ResNet18_GradCam(num_classes=200)\n",
        "#import torchvision.models as models\n",
        "#Load Resnet\n",
        "# model_obj = models.resnet18()\n",
        "# model_obj.avgpool = nn.AdaptiveAvgPool2d(1)\n",
        "# model_obj.fc.out_features = 200\n",
        "\n",
        "# create object for Model\n",
        "device = HelperModel.get_device()\n",
        "\n",
        "model = model_obj.to(device)\n",
        "\n",
        "#create object for helper with object\n",
        "helper_obj = HelperModel(model_obj)\n",
        "\n",
        "#display summaru of model\n",
        "helper_obj.display_model_summay(model, (3, 64, 64))\n",
        "\n"
      ],
      "execution_count": 36,
      "outputs": [
        {
          "output_type": "stream",
          "text": [
            "----------------------------------------------------------------\n",
            "        Layer (type)               Output Shape         Param #\n",
            "================================================================\n",
            "            Conv2d-1           [-1, 64, 64, 64]           1,728\n",
            "       BatchNorm2d-2           [-1, 64, 64, 64]             128\n",
            "            Conv2d-3           [-1, 64, 64, 64]          36,864\n",
            "       BatchNorm2d-4           [-1, 64, 64, 64]             128\n",
            "            Conv2d-5           [-1, 64, 64, 64]          36,864\n",
            "       BatchNorm2d-6           [-1, 64, 64, 64]             128\n",
            "        BasicBlock-7           [-1, 64, 64, 64]               0\n",
            "            Conv2d-8           [-1, 64, 64, 64]          36,864\n",
            "       BatchNorm2d-9           [-1, 64, 64, 64]             128\n",
            "           Conv2d-10           [-1, 64, 64, 64]          36,864\n",
            "      BatchNorm2d-11           [-1, 64, 64, 64]             128\n",
            "       BasicBlock-12           [-1, 64, 64, 64]               0\n",
            "           Conv2d-13          [-1, 128, 32, 32]          73,728\n",
            "      BatchNorm2d-14          [-1, 128, 32, 32]             256\n",
            "           Conv2d-15          [-1, 128, 32, 32]         147,456\n",
            "      BatchNorm2d-16          [-1, 128, 32, 32]             256\n",
            "           Conv2d-17          [-1, 128, 32, 32]           8,192\n",
            "      BatchNorm2d-18          [-1, 128, 32, 32]             256\n",
            "       BasicBlock-19          [-1, 128, 32, 32]               0\n",
            "           Conv2d-20          [-1, 128, 32, 32]         147,456\n",
            "      BatchNorm2d-21          [-1, 128, 32, 32]             256\n",
            "           Conv2d-22          [-1, 128, 32, 32]         147,456\n",
            "      BatchNorm2d-23          [-1, 128, 32, 32]             256\n",
            "       BasicBlock-24          [-1, 128, 32, 32]               0\n",
            "           Conv2d-25          [-1, 256, 16, 16]         294,912\n",
            "      BatchNorm2d-26          [-1, 256, 16, 16]             512\n",
            "           Conv2d-27          [-1, 256, 16, 16]         589,824\n",
            "      BatchNorm2d-28          [-1, 256, 16, 16]             512\n",
            "           Conv2d-29          [-1, 256, 16, 16]          32,768\n",
            "      BatchNorm2d-30          [-1, 256, 16, 16]             512\n",
            "       BasicBlock-31          [-1, 256, 16, 16]               0\n",
            "           Conv2d-32          [-1, 256, 16, 16]         589,824\n",
            "      BatchNorm2d-33          [-1, 256, 16, 16]             512\n",
            "           Conv2d-34          [-1, 256, 16, 16]         589,824\n",
            "      BatchNorm2d-35          [-1, 256, 16, 16]             512\n",
            "       BasicBlock-36          [-1, 256, 16, 16]               0\n",
            "           Conv2d-37            [-1, 512, 8, 8]       1,179,648\n",
            "      BatchNorm2d-38            [-1, 512, 8, 8]           1,024\n",
            "           Conv2d-39            [-1, 512, 8, 8]       2,359,296\n",
            "      BatchNorm2d-40            [-1, 512, 8, 8]           1,024\n",
            "           Conv2d-41            [-1, 512, 8, 8]         131,072\n",
            "      BatchNorm2d-42            [-1, 512, 8, 8]           1,024\n",
            "       BasicBlock-43            [-1, 512, 8, 8]               0\n",
            "           Conv2d-44            [-1, 512, 8, 8]       2,359,296\n",
            "      BatchNorm2d-45            [-1, 512, 8, 8]           1,024\n",
            "           Conv2d-46            [-1, 512, 8, 8]       2,359,296\n",
            "      BatchNorm2d-47            [-1, 512, 8, 8]           1,024\n",
            "       BasicBlock-48            [-1, 512, 8, 8]               0\n",
            "           Linear-49                  [-1, 200]         102,600\n",
            "================================================================\n",
            "Total params: 11,271,432\n",
            "Trainable params: 11,271,432\n",
            "Non-trainable params: 0\n",
            "----------------------------------------------------------------\n",
            "Input size (MB): 0.05\n",
            "Forward/backward pass size (MB): 45.00\n",
            "Params size (MB): 43.00\n",
            "Estimated Total Size (MB): 88.05\n",
            "----------------------------------------------------------------\n"
          ],
          "name": "stdout"
        }
      ]
    },
    {
      "cell_type": "code",
      "metadata": {
        "id": "O-TCliNPfsaD",
        "colab_type": "code",
        "colab": {
          "base_uri": "https://localhost:8080/",
          "height": 83,
          "referenced_widgets": [
            "42f3db5f578e419b92a43ad974f15497",
            "10495c993ae743e8a808fe74cdadce88",
            "953eb2c20b8d4fc682ee100a84e00050",
            "d505b57fab064cc898e891f3ad7d57be",
            "752796716d734bf3ba73a2c7d8bc4632",
            "c4c60d543fa14b56a1a2269d4ab5fb54",
            "df954c34c54e46839877aa02e4603029",
            "4c23a884b0ca4ee9aec68fd1afc610fb"
          ]
        },
        "outputId": "2cb76798-b64f-4586-92bd-e0a8dabd692d"
      },
      "source": [
        "url = 'http://cs231n.stanford.edu/tiny-imagenet-200.zip'\n",
        "HelperModel.download_extract_images(url)\n",
        "#!unzip -q tiny-imagenet-200.zip"
      ],
      "execution_count": 5,
      "outputs": [
        {
          "output_type": "stream",
          "text": [
            "Downloading tiny-imagenet-200 data\n"
          ],
          "name": "stdout"
        },
        {
          "output_type": "display_data",
          "data": {
            "application/vnd.jupyter.widget-view+json": {
              "model_id": "42f3db5f578e419b92a43ad974f15497",
              "version_minor": 0,
              "version_major": 2
            },
            "text/plain": [
              "HBox(children=(FloatProgress(value=0.0, max=120609.0), HTML(value='')))"
            ]
          },
          "metadata": {
            "tags": []
          }
        },
        {
          "output_type": "stream",
          "text": [
            "\n"
          ],
          "name": "stdout"
        }
      ]
    },
    {
      "cell_type": "code",
      "metadata": {
        "id": "BYdgR4NWiv54",
        "colab_type": "code",
        "colab": {}
      },
      "source": [
        "from torch.utils.data import Dataset\n",
        "from PIL import Image\n",
        "import numpy as np\n",
        "from tqdm import notebook\n",
        "import random\n",
        "import pdb\n",
        "\n",
        "\n",
        "class ProcessTinyImageNet():\n",
        "\n",
        "    path = \"tiny-imagenet-200/\"\n",
        "    #path ='/content/gdrive/My Drive/tiny-imagenet-200/'\n",
        "\n",
        "    def __init__(self, classes_map):\n",
        "        self.image = []\n",
        "        self.target = []\n",
        "        self.classes = classes_map\n",
        "        self.update_train_val_data()\n",
        "\n",
        "    @staticmethod\n",
        "    def get_train_image_ids():\n",
        "        \"\"\"\n",
        "            returns: ['n02321529',...]\n",
        "        \"\"\"\n",
        "        path = ProcessTinyImageNet.path + \"wnids.txt\"\n",
        "        train_image_ids = [line.strip() for line in open(path)]\n",
        "        return train_image_ids\n",
        "\n",
        "    @staticmethod\n",
        "    def all_class_map():\n",
        "        \"\"\"\n",
        "        eg:\n",
        "        {'n02423022': 'label1'}\n",
        "        \"\"\"\n",
        "        all_class_map = {}\n",
        "        windis = ProcessTinyImageNet.get_train_image_ids()\n",
        "        for line in open(ProcessTinyImageNet.path + \"words.txt\", 'r'):\n",
        "            data = line.split('\\t')[:2]\n",
        "            n_id = data[0]\n",
        "            class_name = data[1].strip()\n",
        "            if n_id in windis:\n",
        "              all_class_map[n_id] = class_name\n",
        "        return all_class_map\n",
        "\n",
        "    @staticmethod\n",
        "    def get_image(image_path):\n",
        "        img = Image.open(image_path)\n",
        "        npimg = np.asarray(img)\n",
        "        if len(npimg.shape) == 2:\n",
        "            npimg = np.repeat(npimg[:, :, np.newaxis], 3, axis=2)\n",
        "        return npimg\n",
        "\n",
        "    def update_train_data(self):\n",
        "        \"\"\"\n",
        "        returns: {'train/n02124075/images/n02124075_10.JPEG': 'Egyptian cat'}\n",
        "        \"\"\"\n",
        "        image_ids = ProcessTinyImageNet.get_train_image_ids()\n",
        "        class_map = self.classes\n",
        "        train_image_path = ProcessTinyImageNet.path + \"train/{image_id}/images/{image_name}.JPEG\"\n",
        "        for image_id in notebook.tqdm(image_ids, desc='Loading train folder...'):\n",
        "            for key_id in range(500):\n",
        "                image_name = image_id + \"_\" + str(key_id)\n",
        "                train_path = train_image_path.format(image_id=image_id, image_name=image_name)\n",
        "                #npimg = ProcessTinyImageNet.get_image(train_path)\n",
        "                train_label = class_map[image_id]\n",
        "                self.image.append(train_path)\n",
        "                self.target.append(train_label)\n",
        "\n",
        "    def update_val_data(self):\n",
        "        \"\"\"\n",
        "        returns: {'val/images/val_10.JPEG': 'swimming trunks, bathing trunks'}\n",
        "        \"\"\"\n",
        "        path = ProcessTinyImageNet.path + \"val/val_annotations.txt\"\n",
        "        class_map = self.classes\n",
        "        val_image_path = ProcessTinyImageNet.path + \"val/images/{image_name}\"\n",
        "        for line in notebook.tqdm(open(path, 'r'), desc='Loading val folder....'):\n",
        "            data = line.split('\\t')[:2]\n",
        "            image_name = data[0].strip()\n",
        "            image_id = data[1].strip()\n",
        "            image_path = val_image_path.format(image_name=image_name)\n",
        "            #npimg = ProcessTinyImageNet.get_image(image_path)\n",
        "            val_label = class_map[image_id]\n",
        "            self.image.append(image_path)\n",
        "            self.target.append(val_label)\n",
        "\n",
        "    def update_train_val_data(self):\n",
        "        self.update_train_data()\n",
        "        self.update_val_data()"
      ],
      "execution_count": 21,
      "outputs": []
    },
    {
      "cell_type": "code",
      "metadata": {
        "id": "5_yWC6bljIlN",
        "colab_type": "code",
        "colab": {
          "base_uri": "https://localhost:8080/",
          "height": 132,
          "referenced_widgets": [
            "1ed3c977b82545198a8ece99c6d3bad9",
            "ebe5ade3b7bc4077b3e1027b35ef953a",
            "b5cb9e8ae3c8483089583d277a0183cd",
            "ecafca7f42734c2bbdc9478ac8283e36",
            "ea1f847c099c45d3abc846ccc09a6166",
            "29ea1d7584ab48b3829a8872cb2558db",
            "914121a9c5674780bec4a064fce6a44f",
            "c78feee284264e62a4c88d71244b13dc",
            "80d0be477a87412895d97ad05d9c487a",
            "6ba1100340d74cfb8d06349bf899eb99",
            "2865ea39f6234130979ff73fc800b108",
            "229a92b1760c4268a9490b62784c382a",
            "67f859fd6c2a421091561c1cd7609997",
            "15baa6132c784d67a0967693aeda82c8",
            "9537eaf95b924466bcdead27f9174c0f",
            "eb69a03e15294df1ac7490595938d637"
          ]
        },
        "outputId": "e75e5358-fdb4-4c85-8b63-1120df31c751"
      },
      "source": [
        "classes_map = ProcessTinyImageNet.all_class_map()\n",
        "obj = ProcessTinyImageNet(classes_map)\n",
        "#targets = torch.as_tensor(obj.target)\n",
        "dataset = list(zip(obj.image, obj.target))\n",
        "random.shuffle(dataset)\n",
        "trainlen = int(len(dataset)*0.7)\n",
        "classes = list(classes_map.values())\n",
        "print(len(dataset), trainlen, len(classes))"
      ],
      "execution_count": 22,
      "outputs": [
        {
          "output_type": "display_data",
          "data": {
            "application/vnd.jupyter.widget-view+json": {
              "model_id": "1ed3c977b82545198a8ece99c6d3bad9",
              "version_minor": 0,
              "version_major": 2
            },
            "text/plain": [
              "HBox(children=(FloatProgress(value=0.0, description='Loading train folder...', max=200.0, style=ProgressStyle(…"
            ]
          },
          "metadata": {
            "tags": []
          }
        },
        {
          "output_type": "stream",
          "text": [
            "\n"
          ],
          "name": "stdout"
        },
        {
          "output_type": "display_data",
          "data": {
            "application/vnd.jupyter.widget-view+json": {
              "model_id": "80d0be477a87412895d97ad05d9c487a",
              "version_minor": 0,
              "version_major": 2
            },
            "text/plain": [
              "HBox(children=(FloatProgress(value=1.0, bar_style='info', description='Loading val folder....', max=1.0, style…"
            ]
          },
          "metadata": {
            "tags": []
          }
        },
        {
          "output_type": "stream",
          "text": [
            "\n",
            "110000 77000 200\n"
          ],
          "name": "stdout"
        }
      ]
    },
    {
      "cell_type": "code",
      "metadata": {
        "id": "AewQeTfFaRew",
        "colab_type": "code",
        "colab": {}
      },
      "source": [
        "import pickle\n",
        "# train_set, test_set, classes = data_set_obj.get_tiny_imagenet_dataset(train_split = 70,train_transforms = train_transforms, test_transforms = test_transforms)\n",
        "# mylist = [dataset, classes]\n",
        "# with open('dataset.pkl', 'wb') as f:\n",
        "#      pickle.dump(mylist, f)\n",
        "\n",
        "with open('dataset.pkl', 'rb') as f:\n",
        "    mylist = pickle.load(f)\n",
        "\n",
        "dataset = mylist[0]\n",
        "classes = mylist[1]"
      ],
      "execution_count": 15,
      "outputs": []
    },
    {
      "cell_type": "code",
      "metadata": {
        "id": "b8Kw-_dfmuhF",
        "colab_type": "code",
        "colab": {}
      },
      "source": [
        "\n",
        "import torch\n",
        "from skimage import io\n",
        "import numpy as np\n",
        "from torch.utils.data import Dataset\n",
        "from sklearn import preprocessing\n",
        "from PIL import Image\n",
        "\n",
        "class TinyImagenetDataset(Dataset):\n",
        "    \"\"\"Face Landmarks dataset.\"\"\"\n",
        "\n",
        "    def __init__(self, data, transform=None):\n",
        "        \"\"\"\n",
        "        Args:\n",
        "            data (string): zipped images and labels.\n",
        "        \"\"\"\n",
        "        self.transform = transform\n",
        "        self.images, self.labels = zip(*data)\n",
        "\n",
        "    def __len__(self):\n",
        "        return len(self.images)\n",
        "\n",
        "    def __getitem__(self, idx):\n",
        "        if torch.is_tensor(idx):\n",
        "            idx = idx.tolist()\n",
        "        image = io.imread(self.images[idx], as_gray=False, pilmode=\"RGB\")\n",
        "        # image = Image.open(self.images)\n",
        "        # npimg = np.asarray(image)\n",
        "        # if (len(npimg.shape) == 2):\n",
        "        #     npimg = np.repeat(npimg[:, :, np.newaxis], 3, axis=2)\n",
        "        le = preprocessing.LabelEncoder()\n",
        "        targets = le.fit_transform(self.labels)\n",
        "        self.labels = torch.as_tensor(targets)\n",
        "        if self.transform:\n",
        "            image = self.transform(image)\n",
        "        return image, self.labels[idx] #label"
      ],
      "execution_count": 23,
      "outputs": []
    },
    {
      "cell_type": "code",
      "metadata": {
        "id": "9fcwgJiyQG1m",
        "colab_type": "code",
        "colab": {}
      },
      "source": [
        "import albumentations as A\n",
        "class Albumentation:\n",
        "  \"\"\"\n",
        "  Helper class to create test and train transforms using Albumentations\n",
        "  \"\"\"\n",
        "  def __init__(self, transforms=[]):\n",
        "    self.transforms = A.Compose(transforms)\n",
        "\n",
        "  def __call__(self, img):\n",
        "    img = np.array(img)\n",
        "    return self.transforms(image=img)['image']\n"
      ],
      "execution_count": 24,
      "outputs": []
    },
    {
      "cell_type": "markdown",
      "metadata": {
        "id": "TdG7kSVerM50",
        "colab_type": "text"
      },
      "source": [
        "### Apply Albumentation"
      ]
    },
    {
      "cell_type": "code",
      "metadata": {
        "id": "C_Kjb6w5rK8_",
        "colab_type": "code",
        "colab": {}
      },
      "source": [
        "patch_size = 32\n",
        "mean = (0.48043839, 0.44820218, 0.39760034)\n",
        "std = (0.27698959, 0.26908774, 0.28216029)\n",
        "custom_transforms = [\n",
        "       PadIfNeeded(min_height=70, min_width=70),\n",
        "       RandomCrop(64, 64, p=1.0),\n",
        "       HorizontalFlip(p=0.25),\n",
        "       Rotate(limit=15, p=0.25),\n",
        "       Normalize(mean=mean, std=std),\n",
        "       Cutout(num_holes=4, max_h_size=16, max_w_size=16),\n",
        "       ToTensor(),\n",
        "    ]\n",
        "\n",
        "train_transforms = Albumentation(custom_transforms)\n",
        "test_transforms = Albumentation(\n",
        "    [\n",
        "     Normalize(mean=mean, std=std),\n",
        "     ToTensor(),\n",
        "     ])\n"
      ],
      "execution_count": 25,
      "outputs": []
    },
    {
      "cell_type": "code",
      "metadata": {
        "id": "RUWSvueUYQWD",
        "colab_type": "code",
        "colab": {}
      },
      "source": [
        "# train_dataset = TorchVisionDataSet(train, transform=train_transforms)\n",
        "# test_dataset = TorchVisionDataSet(test, transform=test_transforms)\n",
        "train_dataset = TinyImagenetDataset(dataset[:trainlen], transform=train_transforms)\n",
        "test_dataset = TinyImagenetDataset(dataset[trainlen:], transform=test_transforms)"
      ],
      "execution_count": 26,
      "outputs": []
    },
    {
      "cell_type": "markdown",
      "metadata": {
        "id": "S-m8OxUPrsXr",
        "colab_type": "text"
      },
      "source": [
        "### Get Train and Test data set"
      ]
    },
    {
      "cell_type": "markdown",
      "metadata": {
        "id": "2chfqtObr6J7",
        "colab_type": "text"
      },
      "source": [
        "### Load the train and test data"
      ]
    },
    {
      "cell_type": "code",
      "metadata": {
        "id": "JYKuGSG_r5MD",
        "colab_type": "code",
        "colab": {
          "base_uri": "https://localhost:8080/",
          "height": 34
        },
        "outputId": "2f812c62-e29a-4dc6-9470-e2585c0eefce"
      },
      "source": [
        "data_loader_obj = DataLoader(train_dataset, test_dataset, batch_size=256)\n",
        "train_loader = data_loader_obj.train_loader\n",
        "test_loader = data_loader_obj.test_loader"
      ],
      "execution_count": 27,
      "outputs": [
        {
          "output_type": "stream",
          "text": [
            "CUDA Available? True\n"
          ],
          "name": "stdout"
        }
      ]
    },
    {
      "cell_type": "code",
      "metadata": {
        "id": "LWtjnRIAaCtW",
        "colab_type": "code",
        "colab": {}
      },
      "source": [
        "import matplotlib.pyplot as plt\n",
        "dataiter = iter(train_loader)\n",
        "images, labels = dataiter.next()\n",
        "# show images\n",
        "#plt.imshow(images)\n",
        "# print labels\n",
        "#print(' '.join('%5s' % classes[labels[j]] for j in range(4)))"
      ],
      "execution_count": 28,
      "outputs": []
    },
    {
      "cell_type": "code",
      "metadata": {
        "id": "8yo5g75SXnLk",
        "colab_type": "code",
        "colab": {
          "base_uri": "https://localhost:8080/",
          "height": 34
        },
        "outputId": "ae152fe2-535b-4b36-d042-f4ce64fe3a9c"
      },
      "source": [
        "print(images.shape)"
      ],
      "execution_count": 20,
      "outputs": [
        {
          "output_type": "stream",
          "text": [
            "torch.Size([256, 3, 64, 64])\n"
          ],
          "name": "stdout"
        }
      ]
    },
    {
      "cell_type": "code",
      "metadata": {
        "id": "kudiq4boX1OC",
        "colab_type": "code",
        "colab": {
          "base_uri": "https://localhost:8080/",
          "height": 34
        },
        "outputId": "765ba895-c61d-46fb-d6ec-3134ace5129c"
      },
      "source": [
        "print(labels.shape)"
      ],
      "execution_count": 21,
      "outputs": [
        {
          "output_type": "stream",
          "text": [
            "torch.Size([256])\n"
          ],
          "name": "stdout"
        }
      ]
    },
    {
      "cell_type": "code",
      "metadata": {
        "id": "zWh1OmzTziyB",
        "colab_type": "code",
        "colab": {}
      },
      "source": [
        "dataiter2 = iter(test_loader)\n",
        "images1, labels1 = dataiter2.next()"
      ],
      "execution_count": 23,
      "outputs": []
    },
    {
      "cell_type": "code",
      "metadata": {
        "id": "TsgKRbyazyM1",
        "colab_type": "code",
        "colab": {
          "base_uri": "https://localhost:8080/",
          "height": 51
        },
        "outputId": "5162f91c-3717-4f20-cc61-5f417e9e6043"
      },
      "source": [
        "print(images1.shape)\n",
        "print(labels1.shape)"
      ],
      "execution_count": 24,
      "outputs": [
        {
          "output_type": "stream",
          "text": [
            "torch.Size([256, 3, 64, 64])\n",
            "torch.Size([256])\n"
          ],
          "name": "stdout"
        }
      ]
    },
    {
      "cell_type": "markdown",
      "metadata": {
        "id": "kgMy3022vXqZ",
        "colab_type": "text"
      },
      "source": [
        "### Display some training images to visualize the effect of cutout"
      ]
    },
    {
      "cell_type": "code",
      "metadata": {
        "id": "Vi2X_SdD9lGR",
        "colab_type": "code",
        "colab": {}
      },
      "source": [
        "optimizer = helper_obj.get_l2_regularizer(weight_decay=0.005, lr=1e-3, momentum=0.9) \n",
        "criterion = nn.CrossEntropyLoss() # As softmax added in model\n",
        "scheduler = torch.optim.lr_scheduler.OneCycleLR(optimizer, max_lr = 0.04083366522928122, total_steps=None, epochs=50,\n",
        "                                                steps_per_epoch=len(train_loader), pct_start=5/50, anneal_strategy='linear',\n",
        "                                                cycle_momentum=False, base_momentum=0.9, max_momentum=0.95, div_factor=10, final_div_factor=10)"
      ],
      "execution_count": 44,
      "outputs": []
    },
    {
      "cell_type": "markdown",
      "metadata": {
        "id": "34rvji1lJmWX",
        "colab_type": "text"
      },
      "source": [
        "### **Run the range test to find the Max lr**"
      ]
    },
    {
      "cell_type": "code",
      "metadata": {
        "id": "4J2yN8QCZWnF",
        "colab_type": "code",
        "colab": {}
      },
      "source": [
        "num_batches = np.floor(len(train_loader.dataset)/256)\n",
        "total_epochs = 2\n",
        "num_iter = total_epochs * num_batches\n",
        "lr_finder = LRFinder(model, optimizer, criterion, device=\"cuda\")\n",
        "lr_finder.range_test(train_loader, start_lr=1e-4, end_lr=1,num_iter=int(num_iter))\n",
        "lr_finder.plot(plot_case=\"acc\")\n",
        "best_lr = lr_finder.get_best_lr(case=\"acc\")"
      ],
      "execution_count": 30,
      "outputs": []
    },
    {
      "cell_type": "code",
      "metadata": {
        "id": "PmW0hjWYwC4Z",
        "colab_type": "code",
        "colab": {}
      },
      "source": [
        "lr_finder.plot(plot_case=\"loss\")\n",
        "best_lr = lr_finder.get_best_lr(case=\"loss\")"
      ],
      "execution_count": null,
      "outputs": []
    },
    {
      "cell_type": "markdown",
      "metadata": {
        "id": "Y_ix7-Wp8Cwy",
        "colab_type": "text"
      },
      "source": [
        "### Reset the model to initial State"
      ]
    },
    {
      "cell_type": "code",
      "metadata": {
        "id": "vOg0N9KFwnwX",
        "colab_type": "code",
        "colab": {}
      },
      "source": [
        "lr_finder.reset()"
      ],
      "execution_count": 27,
      "outputs": []
    },
    {
      "cell_type": "code",
      "metadata": {
        "id": "LUkim4ebQ5Zf",
        "colab_type": "code",
        "colab": {}
      },
      "source": [
        "import torch\n",
        "def save_model(model, optimizer, criterion, scheduler,  epoch, train_acc, train_loss, lr, test_acc, test_loss, file_name):\n",
        "    \"\"\"\n",
        "\n",
        "    :param model: model which needs to be saved\n",
        "    :param file_name: the file name of model eg: 'model_aug.pth'\n",
        "    :return: None\n",
        "    \"\"\"\n",
        "    checkpoint = {'state_dict': model.state_dict(),\n",
        "                  'optimizer': optimizer.state_dict(),\n",
        "                  'scheduler': scheduler.state_dict(),\n",
        "                  'criterion':  criterion,\n",
        "                  'epochs': epoch,\n",
        "                  'train_acc': train_acc,\n",
        "                  'train_loss': train_loss,\n",
        "                  'lr':lr,\n",
        "                  'test_acc': test_acc,\n",
        "                  'test_loss': test_loss\n",
        "                  }\n",
        "    torch.save(checkpoint, file_name)"
      ],
      "execution_count": 28,
      "outputs": []
    },
    {
      "cell_type": "markdown",
      "metadata": {
        "id": "qM00JnruoUhx",
        "colab_type": "text"
      },
      "source": [
        "### Use OneCycleLR for scheduler and train the model"
      ]
    },
    {
      "cell_type": "code",
      "metadata": {
        "id": "DeiUN2OA8uQh",
        "colab_type": "code",
        "colab": {
          "base_uri": "https://localhost:8080/",
          "height": 1000
        },
        "outputId": "6722fde1-3244-4a5c-95f5-055d987c21e1"
      },
      "source": [
        "max_lr = 0.04083366522928122  #best lr from lrfinder w.r.t max accuracy\n",
        "EPOCHS = 50\n",
        "scheduler = torch.optim.lr_scheduler.OneCycleLR(optimizer, max_lr = max_lr, total_steps=None, epochs=EPOCHS,\n",
        "                                                steps_per_epoch=len(train_loader), pct_start=5/EPOCHS, anneal_strategy='linear',\n",
        "                                                cycle_momentum=False, base_momentum=0.9, max_momentum=0.95, div_factor=10, final_div_factor=10)\n",
        "train_obj = Train()\n",
        "test_obj = Test()\n",
        "train_acc = []\n",
        "train_loss = []\n",
        "lr_update = []\n",
        "for epoch in range(1, EPOCHS+1):\n",
        "    lr_update.append(optimizer.param_groups[0]['lr'])\n",
        "    print(\"EPOCH:\", epoch, \"LR: \",lr_update[-1])\n",
        "    train_obj.train(model, device, train_loader, optimizer, criterion, scheduler=scheduler)\n",
        "    if epoch < EPOCHS:\n",
        "        test_obj.test(model, device, test_loader, criterion, misclassfied_required=False, trueclassified_required=False, classes=classes, class_accuracy=90)\n",
        "    else:\n",
        "        # store only last epochsreult for misclassfied and trueclassified images\n",
        "        test_obj.test(model, device, test_loader, criterion, misclassfied_required=True, trueclassified_required=True, classes=classes, class_accuracy=90)\n",
        "    train_acc.append(train_obj.train_acc[-1])\n",
        "    train_loss.append(train_obj.train_losses[-1])\n",
        "    if epoch % 5 == 0:\n",
        "      file_name = \"tiny_imagenet_{0}.pth\".format(epoch)\n",
        "      save_model(model, optimizer, criterion, scheduler,  epoch, train_acc, train_loss, lr_update, test_obj.test_acc, test_obj.test_losses, file_name)\n",
        "\n",
        "misclassified_images = test_obj.misclassified_images\n",
        "correctcassified_images = test_obj.trueclassified_images\n",
        "test_losses = test_obj.test_losses\n",
        "test_acc = test_obj.test_acc\n",
        "print(\"Maximum Training Accuracy = \", max(train_acc))\n",
        "print(\"Maximum Testing Accuracy = \", max(test_acc))"
      ],
      "execution_count": null,
      "outputs": [
        {
          "output_type": "stream",
          "text": [
            "\r  0%|          | 0/301 [00:00<?, ?it/s]"
          ],
          "name": "stderr"
        },
        {
          "output_type": "stream",
          "text": [
            "EPOCH: 1 LR:  0.0040833665229281215\n"
          ],
          "name": "stdout"
        },
        {
          "output_type": "stream",
          "text": [
            "Train Set: Train Loss=4.025679111480713 Batch_id=300 Accuracy=6.05: 100%|██████████| 301/301 [11:32<00:00,  2.30s/it]\n",
            "  0%|          | 0/301 [00:00<?, ?it/s]"
          ],
          "name": "stderr"
        },
        {
          "output_type": "stream",
          "text": [
            "\n",
            "Test set: Average loss: 0.0167, Accuracy: 3111/33000 (9.43%)\n",
            "\n",
            "EPOCH: 2 LR:  0.011438313272005436\n"
          ],
          "name": "stdout"
        },
        {
          "output_type": "stream",
          "text": [
            "Train Set: Train Loss=3.864513874053955 Batch_id=300 Accuracy=13.35: 100%|██████████| 301/301 [11:50<00:00,  2.36s/it]\n",
            "  0%|          | 0/301 [00:00<?, ?it/s]"
          ],
          "name": "stderr"
        },
        {
          "output_type": "stream",
          "text": [
            "\n",
            "Test set: Average loss: 0.0154, Accuracy: 4701/33000 (14.25%)\n",
            "\n",
            "EPOCH: 3 LR:  0.01879326002108275\n"
          ],
          "name": "stdout"
        },
        {
          "output_type": "stream",
          "text": [
            "Train Set: Train Loss=3.4998667240142822 Batch_id=300 Accuracy=18.06: 100%|██████████| 301/301 [11:32<00:00,  2.30s/it]\n",
            "  0%|          | 0/301 [00:00<?, ?it/s]"
          ],
          "name": "stderr"
        },
        {
          "output_type": "stream",
          "text": [
            "\n",
            "Test set: Average loss: 0.0142, Accuracy: 6058/33000 (18.36%)\n",
            "\n",
            "EPOCH: 4 LR:  0.026148206770160068\n"
          ],
          "name": "stdout"
        },
        {
          "output_type": "stream",
          "text": [
            "Train Set: Train Loss=3.736910343170166 Batch_id=300 Accuracy=20.83: 100%|██████████| 301/301 [11:41<00:00,  2.33s/it]\n",
            "  0%|          | 0/301 [00:00<?, ?it/s]"
          ],
          "name": "stderr"
        },
        {
          "output_type": "stream",
          "text": [
            "\n",
            "Test set: Average loss: 0.0158, Accuracy: 4057/33000 (12.29%)\n",
            "\n",
            "EPOCH: 5 LR:  0.033503153519237376\n"
          ],
          "name": "stdout"
        },
        {
          "output_type": "stream",
          "text": [
            "Train Set: Train Loss=3.4600372314453125 Batch_id=300 Accuracy=22.16: 100%|██████████| 301/301 [11:43<00:00,  2.34s/it]\n"
          ],
          "name": "stderr"
        },
        {
          "output_type": "stream",
          "text": [
            "\n",
            "Test set: Average loss: 0.0148, Accuracy: 5532/33000 (16.76%)\n",
            "\n"
          ],
          "name": "stdout"
        },
        {
          "output_type": "stream",
          "text": [
            "\r  0%|          | 0/301 [00:00<?, ?it/s]"
          ],
          "name": "stderr"
        },
        {
          "output_type": "stream",
          "text": [
            "EPOCH: 6 LR:  0.04083068070889901\n"
          ],
          "name": "stdout"
        },
        {
          "output_type": "stream",
          "text": [
            "Train Set: Train Loss=3.0533828735351562 Batch_id=300 Accuracy=23.64: 100%|██████████| 301/301 [12:04<00:00,  2.41s/it]\n",
            "  0%|          | 0/301 [00:00<?, ?it/s]"
          ],
          "name": "stderr"
        },
        {
          "output_type": "stream",
          "text": [
            "\n",
            "Test set: Average loss: 0.0158, Accuracy: 4820/33000 (14.61%)\n",
            "\n",
            "EPOCH: 7 LR:  0.03993234007385482\n"
          ],
          "name": "stdout"
        },
        {
          "output_type": "stream",
          "text": [
            "Train Set: Train Loss=3.2979576587677 Batch_id=300 Accuracy=25.36: 100%|██████████| 301/301 [12:06<00:00,  2.41s/it]\n",
            "  0%|          | 0/301 [00:00<?, ?it/s]"
          ],
          "name": "stderr"
        },
        {
          "output_type": "stream",
          "text": [
            "\n",
            "Test set: Average loss: 0.0145, Accuracy: 5646/33000 (17.11%)\n",
            "\n",
            "EPOCH: 8 LR:  0.03903399943881064\n"
          ],
          "name": "stdout"
        },
        {
          "output_type": "stream",
          "text": [
            "Train Set: Train Loss=2.9909474849700928 Batch_id=300 Accuracy=26.72: 100%|██████████| 301/301 [12:45<00:00,  2.54s/it]\n",
            "  0%|          | 0/301 [00:00<?, ?it/s]"
          ],
          "name": "stderr"
        },
        {
          "output_type": "stream",
          "text": [
            "\n",
            "Test set: Average loss: 0.0158, Accuracy: 5137/33000 (15.57%)\n",
            "\n",
            "EPOCH: 9 LR:  0.03813565880376645\n"
          ],
          "name": "stdout"
        },
        {
          "output_type": "stream",
          "text": [
            "Train Set: Train Loss=3.0900866985321045 Batch_id=300 Accuracy=28.16: 100%|██████████| 301/301 [12:17<00:00,  2.45s/it]\n",
            "  0%|          | 0/301 [00:00<?, ?it/s]"
          ],
          "name": "stderr"
        },
        {
          "output_type": "stream",
          "text": [
            "\n",
            "Test set: Average loss: 0.0157, Accuracy: 5465/33000 (16.56%)\n",
            "\n",
            "EPOCH: 10 LR:  0.037237318168722264\n"
          ],
          "name": "stdout"
        },
        {
          "output_type": "stream",
          "text": [
            "Train Set: Train Loss=2.970823287963867 Batch_id=300 Accuracy=29.45: 100%|██████████| 301/301 [12:18<00:00,  2.45s/it]\n"
          ],
          "name": "stderr"
        },
        {
          "output_type": "stream",
          "text": [
            "\n",
            "Test set: Average loss: 0.0136, Accuracy: 7066/33000 (21.41%)\n",
            "\n"
          ],
          "name": "stdout"
        },
        {
          "output_type": "stream",
          "text": [
            "\r  0%|          | 0/301 [00:00<?, ?it/s]"
          ],
          "name": "stderr"
        },
        {
          "output_type": "stream",
          "text": [
            "EPOCH: 11 LR:  0.036338977533678075\n"
          ],
          "name": "stdout"
        },
        {
          "output_type": "stream",
          "text": [
            "Train Set: Train Loss=2.8923697471618652 Batch_id=300 Accuracy=30.61: 100%|██████████| 301/301 [12:12<00:00,  2.44s/it]\n",
            "  0%|          | 0/301 [00:00<?, ?it/s]"
          ],
          "name": "stderr"
        },
        {
          "output_type": "stream",
          "text": [
            "\n",
            "Test set: Average loss: 0.0144, Accuracy: 6242/33000 (18.92%)\n",
            "\n",
            "EPOCH: 12 LR:  0.03544063689863389\n"
          ],
          "name": "stdout"
        },
        {
          "output_type": "stream",
          "text": [
            "Train Set: Train Loss=2.854405164718628 Batch_id=300 Accuracy=31.78: 100%|██████████| 301/301 [11:25<00:00,  2.28s/it]\n",
            "  0%|          | 0/301 [00:00<?, ?it/s]"
          ],
          "name": "stderr"
        },
        {
          "output_type": "stream",
          "text": [
            "\n",
            "Test set: Average loss: 0.0154, Accuracy: 5676/33000 (17.20%)\n",
            "\n",
            "EPOCH: 13 LR:  0.034542296263589706\n"
          ],
          "name": "stdout"
        },
        {
          "output_type": "stream",
          "text": [
            "Train Set: Train Loss=2.74977970123291 Batch_id=300 Accuracy=32.55: 100%|██████████| 301/301 [11:29<00:00,  2.29s/it]\n",
            "  0%|          | 0/301 [00:00<?, ?it/s]"
          ],
          "name": "stderr"
        },
        {
          "output_type": "stream",
          "text": [
            "\n",
            "Test set: Average loss: 0.0142, Accuracy: 6500/33000 (19.70%)\n",
            "\n",
            "EPOCH: 14 LR:  0.03364395562854552\n"
          ],
          "name": "stdout"
        },
        {
          "output_type": "stream",
          "text": [
            "Train Set: Train Loss=2.9456446170806885 Batch_id=300 Accuracy=33.19: 100%|██████████| 301/301 [11:37<00:00,  2.32s/it]\n",
            "  0%|          | 0/301 [00:00<?, ?it/s]"
          ],
          "name": "stderr"
        },
        {
          "output_type": "stream",
          "text": [
            "\n",
            "Test set: Average loss: 0.0144, Accuracy: 6517/33000 (19.75%)\n",
            "\n",
            "EPOCH: 15 LR:  0.03274561499350133\n"
          ],
          "name": "stdout"
        },
        {
          "output_type": "stream",
          "text": [
            "Train Set: Train Loss=2.772456645965576 Batch_id=300 Accuracy=34.23: 100%|██████████| 301/301 [11:33<00:00,  2.31s/it]\n"
          ],
          "name": "stderr"
        },
        {
          "output_type": "stream",
          "text": [
            "\n",
            "Test set: Average loss: 0.0134, Accuracy: 7833/33000 (23.74%)\n",
            "\n"
          ],
          "name": "stdout"
        },
        {
          "output_type": "stream",
          "text": [
            "\r  0%|          | 0/301 [00:00<?, ?it/s]"
          ],
          "name": "stderr"
        },
        {
          "output_type": "stream",
          "text": [
            "EPOCH: 16 LR:  0.03184727435845714\n"
          ],
          "name": "stdout"
        },
        {
          "output_type": "stream",
          "text": [
            "Train Set: Train Loss=2.577866315841675 Batch_id=300 Accuracy=34.90: 100%|██████████| 301/301 [11:27<00:00,  2.28s/it]\n",
            "  0%|          | 0/301 [00:00<?, ?it/s]"
          ],
          "name": "stderr"
        },
        {
          "output_type": "stream",
          "text": [
            "\n",
            "Test set: Average loss: 0.0125, Accuracy: 8650/33000 (26.21%)\n",
            "\n",
            "EPOCH: 17 LR:  0.030948933723412956\n"
          ],
          "name": "stdout"
        },
        {
          "output_type": "stream",
          "text": [
            "Train Set: Train Loss=2.8863887786865234 Batch_id=300 Accuracy=35.49: 100%|██████████| 301/301 [11:33<00:00,  2.30s/it]\n",
            "  0%|          | 0/301 [00:00<?, ?it/s]"
          ],
          "name": "stderr"
        },
        {
          "output_type": "stream",
          "text": [
            "\n",
            "Test set: Average loss: 0.0136, Accuracy: 7691/33000 (23.31%)\n",
            "\n",
            "EPOCH: 18 LR:  0.03005059308836877\n"
          ],
          "name": "stdout"
        },
        {
          "output_type": "stream",
          "text": [
            "Train Set: Train Loss=2.7857298851013184 Batch_id=300 Accuracy=36.16: 100%|██████████| 301/301 [11:35<00:00,  2.31s/it]\n",
            "  0%|          | 0/301 [00:00<?, ?it/s]"
          ],
          "name": "stderr"
        },
        {
          "output_type": "stream",
          "text": [
            "\n",
            "Test set: Average loss: 0.0122, Accuracy: 9154/33000 (27.74%)\n",
            "\n",
            "EPOCH: 19 LR:  0.029152252453324583\n"
          ],
          "name": "stdout"
        },
        {
          "output_type": "stream",
          "text": [
            "Train Set: Train Loss=2.7641477584838867 Batch_id=300 Accuracy=36.87: 100%|██████████| 301/301 [11:32<00:00,  2.30s/it]\n",
            "  0%|          | 0/301 [00:00<?, ?it/s]"
          ],
          "name": "stderr"
        },
        {
          "output_type": "stream",
          "text": [
            "\n",
            "Test set: Average loss: 0.0144, Accuracy: 6830/33000 (20.70%)\n",
            "\n",
            "EPOCH: 20 LR:  0.028253911818280394\n"
          ],
          "name": "stdout"
        },
        {
          "output_type": "stream",
          "text": [
            "Train Set: Train Loss=2.8291702270507812 Batch_id=300 Accuracy=37.64: 100%|██████████| 301/301 [11:37<00:00,  2.32s/it]\n"
          ],
          "name": "stderr"
        },
        {
          "output_type": "stream",
          "text": [
            "\n",
            "Test set: Average loss: 0.0118, Accuracy: 9993/33000 (30.28%)\n",
            "\n"
          ],
          "name": "stdout"
        },
        {
          "output_type": "stream",
          "text": [
            "\r  0%|          | 0/301 [00:00<?, ?it/s]"
          ],
          "name": "stderr"
        },
        {
          "output_type": "stream",
          "text": [
            "EPOCH: 21 LR:  0.02735557118323621\n"
          ],
          "name": "stdout"
        },
        {
          "output_type": "stream",
          "text": [
            "Train Set: Train Loss=2.714543104171753 Batch_id=300 Accuracy=38.17: 100%|██████████| 301/301 [11:46<00:00,  2.35s/it]\n",
            "  0%|          | 0/301 [00:00<?, ?it/s]"
          ],
          "name": "stderr"
        },
        {
          "output_type": "stream",
          "text": [
            "\n",
            "Test set: Average loss: 0.0126, Accuracy: 9012/33000 (27.31%)\n",
            "\n",
            "EPOCH: 22 LR:  0.026457230548192025\n"
          ],
          "name": "stdout"
        },
        {
          "output_type": "stream",
          "text": [
            "Train Set: Train Loss=2.687965154647827 Batch_id=300 Accuracy=38.92: 100%|██████████| 301/301 [11:34<00:00,  2.31s/it]\n",
            "  0%|          | 0/301 [00:00<?, ?it/s]"
          ],
          "name": "stderr"
        },
        {
          "output_type": "stream",
          "text": [
            "\n",
            "Test set: Average loss: 0.0124, Accuracy: 9039/33000 (27.39%)\n",
            "\n",
            "EPOCH: 23 LR:  0.025558889913147836\n"
          ],
          "name": "stdout"
        },
        {
          "output_type": "stream",
          "text": [
            "Train Set: Train Loss=2.533367872238159 Batch_id=300 Accuracy=39.76: 100%|██████████| 301/301 [11:35<00:00,  2.31s/it]\n",
            "  0%|          | 0/301 [00:00<?, ?it/s]"
          ],
          "name": "stderr"
        },
        {
          "output_type": "stream",
          "text": [
            "\n",
            "Test set: Average loss: 0.0116, Accuracy: 10533/33000 (31.92%)\n",
            "\n",
            "EPOCH: 24 LR:  0.024660549278103648\n"
          ],
          "name": "stdout"
        },
        {
          "output_type": "stream",
          "text": [
            "Train Set: Train Loss=2.4740984439849854 Batch_id=300 Accuracy=40.22: 100%|██████████| 301/301 [11:51<00:00,  2.36s/it]\n",
            "  0%|          | 0/301 [00:00<?, ?it/s]"
          ],
          "name": "stderr"
        },
        {
          "output_type": "stream",
          "text": [
            "\n",
            "Test set: Average loss: 0.0123, Accuracy: 9363/33000 (28.37%)\n",
            "\n",
            "EPOCH: 25 LR:  0.02376220864305946\n"
          ],
          "name": "stdout"
        },
        {
          "output_type": "stream",
          "text": [
            "Train Set: Train Loss=2.8128552436828613 Batch_id=300 Accuracy=40.84: 100%|██████████| 301/301 [11:56<00:00,  2.38s/it]\n"
          ],
          "name": "stderr"
        },
        {
          "output_type": "stream",
          "text": [
            "\n",
            "Test set: Average loss: 0.0110, Accuracy: 11228/33000 (34.02%)\n",
            "\n"
          ],
          "name": "stdout"
        },
        {
          "output_type": "stream",
          "text": [
            "\r  0%|          | 0/301 [00:00<?, ?it/s]"
          ],
          "name": "stderr"
        },
        {
          "output_type": "stream",
          "text": [
            "EPOCH: 26 LR:  0.022863868008015275\n"
          ],
          "name": "stdout"
        },
        {
          "output_type": "stream",
          "text": [
            "Train Set: Train Loss=2.437657356262207 Batch_id=300 Accuracy=41.49: 100%|██████████| 301/301 [11:37<00:00,  2.32s/it]\n",
            "  0%|          | 0/301 [00:00<?, ?it/s]"
          ],
          "name": "stderr"
        },
        {
          "output_type": "stream",
          "text": [
            "\n",
            "Test set: Average loss: 0.0114, Accuracy: 10622/33000 (32.19%)\n",
            "\n",
            "EPOCH: 27 LR:  0.021965527372971087\n"
          ],
          "name": "stdout"
        },
        {
          "output_type": "stream",
          "text": [
            "Train Set: Train Loss=2.475924491882324 Batch_id=300 Accuracy=42.31: 100%|██████████| 301/301 [11:47<00:00,  2.35s/it]\n",
            "  0%|          | 0/301 [00:00<?, ?it/s]"
          ],
          "name": "stderr"
        },
        {
          "output_type": "stream",
          "text": [
            "\n",
            "Test set: Average loss: 0.0119, Accuracy: 9692/33000 (29.37%)\n",
            "\n",
            "EPOCH: 28 LR:  0.021067186737926902\n"
          ],
          "name": "stdout"
        },
        {
          "output_type": "stream",
          "text": [
            "Train Set: Train Loss=2.5082666873931885 Batch_id=300 Accuracy=42.81: 100%|██████████| 301/301 [11:07<00:00,  2.22s/it]\n",
            "  0%|          | 0/301 [00:00<?, ?it/s]"
          ],
          "name": "stderr"
        },
        {
          "output_type": "stream",
          "text": [
            "\n",
            "Test set: Average loss: 0.0126, Accuracy: 9416/33000 (28.53%)\n",
            "\n",
            "EPOCH: 29 LR:  0.020168846102882713\n"
          ],
          "name": "stdout"
        },
        {
          "output_type": "stream",
          "text": [
            "Train Set: Train Loss=2.5919055938720703 Batch_id=300 Accuracy=43.42: 100%|██████████| 301/301 [11:36<00:00,  2.31s/it]\n",
            "  0%|          | 0/301 [00:00<?, ?it/s]"
          ],
          "name": "stderr"
        },
        {
          "output_type": "stream",
          "text": [
            "\n",
            "Test set: Average loss: 0.0111, Accuracy: 11189/33000 (33.91%)\n",
            "\n",
            "EPOCH: 30 LR:  0.01927050546783853\n"
          ],
          "name": "stdout"
        },
        {
          "output_type": "stream",
          "text": [
            "Train Set: Train Loss=2.4582176208496094 Batch_id=300 Accuracy=44.17: 100%|██████████| 301/301 [11:12<00:00,  2.23s/it]\n"
          ],
          "name": "stderr"
        },
        {
          "output_type": "stream",
          "text": [
            "\n",
            "Test set: Average loss: 0.0112, Accuracy: 10860/33000 (32.91%)\n",
            "\n"
          ],
          "name": "stdout"
        },
        {
          "output_type": "stream",
          "text": [
            "\r  0%|          | 0/301 [00:00<?, ?it/s]"
          ],
          "name": "stderr"
        },
        {
          "output_type": "stream",
          "text": [
            "EPOCH: 31 LR:  0.01837216483279434\n"
          ],
          "name": "stdout"
        },
        {
          "output_type": "stream",
          "text": [
            "Train Set: Train Loss=2.287076711654663 Batch_id=300 Accuracy=45.26: 100%|██████████| 301/301 [11:07<00:00,  2.22s/it]\n",
            "  0%|          | 0/301 [00:00<?, ?it/s]"
          ],
          "name": "stderr"
        },
        {
          "output_type": "stream",
          "text": [
            "\n",
            "Test set: Average loss: 0.0118, Accuracy: 10228/33000 (30.99%)\n",
            "\n",
            "EPOCH: 32 LR:  0.017473824197750152\n"
          ],
          "name": "stdout"
        },
        {
          "output_type": "stream",
          "text": [
            "Train Set: Train Loss=2.4266583919525146 Batch_id=300 Accuracy=45.76: 100%|██████████| 301/301 [11:07<00:00,  2.22s/it]\n",
            "  0%|          | 0/301 [00:00<?, ?it/s]"
          ],
          "name": "stderr"
        },
        {
          "output_type": "stream",
          "text": [
            "\n",
            "Test set: Average loss: 0.0101, Accuracy: 12766/33000 (38.68%)\n",
            "\n",
            "EPOCH: 33 LR:  0.016575483562705967\n"
          ],
          "name": "stdout"
        },
        {
          "output_type": "stream",
          "text": [
            "Train Set: Train Loss=2.313767671585083 Batch_id=300 Accuracy=46.70: 100%|██████████| 301/301 [11:08<00:00,  2.22s/it]\n",
            "  0%|          | 0/301 [00:00<?, ?it/s]"
          ],
          "name": "stderr"
        },
        {
          "output_type": "stream",
          "text": [
            "\n",
            "Test set: Average loss: 0.0111, Accuracy: 11188/33000 (33.90%)\n",
            "\n",
            "EPOCH: 34 LR:  0.015677142927661782\n"
          ],
          "name": "stdout"
        },
        {
          "output_type": "stream",
          "text": [
            "Train Set: Train Loss=2.2414276599884033 Batch_id=300 Accuracy=47.34: 100%|██████████| 301/301 [11:27<00:00,  2.29s/it]\n",
            "  0%|          | 0/301 [00:00<?, ?it/s]"
          ],
          "name": "stderr"
        },
        {
          "output_type": "stream",
          "text": [
            "\n",
            "Test set: Average loss: 0.0103, Accuracy: 12722/33000 (38.55%)\n",
            "\n",
            "EPOCH: 35 LR:  0.014778802292617594\n"
          ],
          "name": "stdout"
        },
        {
          "output_type": "stream",
          "text": [
            "Train Set: Train Loss=2.1893601417541504 Batch_id=300 Accuracy=48.31: 100%|██████████| 301/301 [12:24<00:00,  2.47s/it]\n"
          ],
          "name": "stderr"
        },
        {
          "output_type": "stream",
          "text": [
            "\n",
            "Test set: Average loss: 0.0096, Accuracy: 13787/33000 (41.78%)\n",
            "\n"
          ],
          "name": "stdout"
        },
        {
          "output_type": "stream",
          "text": [
            "\r  0%|          | 0/301 [00:00<?, ?it/s]"
          ],
          "name": "stderr"
        },
        {
          "output_type": "stream",
          "text": [
            "EPOCH: 36 LR:  0.013880461657573406\n"
          ],
          "name": "stdout"
        },
        {
          "output_type": "stream",
          "text": [
            "Train Set: Train Loss=2.265302896499634 Batch_id=300 Accuracy=48.83: 100%|██████████| 301/301 [11:03<00:00,  2.20s/it]\n",
            "  0%|          | 0/301 [00:00<?, ?it/s]"
          ],
          "name": "stderr"
        },
        {
          "output_type": "stream",
          "text": [
            "\n",
            "Test set: Average loss: 0.0099, Accuracy: 13286/33000 (40.26%)\n",
            "\n",
            "EPOCH: 37 LR:  0.01298212102252922\n"
          ],
          "name": "stdout"
        },
        {
          "output_type": "stream",
          "text": [
            "Train Set: Train Loss=2.2441844940185547 Batch_id=300 Accuracy=49.88: 100%|██████████| 301/301 [11:10<00:00,  2.23s/it]\n",
            "  0%|          | 0/301 [00:00<?, ?it/s]"
          ],
          "name": "stderr"
        },
        {
          "output_type": "stream",
          "text": [
            "\n",
            "Test set: Average loss: 0.0099, Accuracy: 13220/33000 (40.06%)\n",
            "\n",
            "EPOCH: 38 LR:  0.012083780387485036\n"
          ],
          "name": "stdout"
        },
        {
          "output_type": "stream",
          "text": [
            "Train Set: Train Loss=2.15421724319458 Batch_id=300 Accuracy=51.18: 100%|██████████| 301/301 [11:27<00:00,  2.28s/it]\n",
            "  0%|          | 0/301 [00:00<?, ?it/s]"
          ],
          "name": "stderr"
        },
        {
          "output_type": "stream",
          "text": [
            "\n",
            "Test set: Average loss: 0.0093, Accuracy: 14328/33000 (43.42%)\n",
            "\n",
            "EPOCH: 39 LR:  0.011185439752440848\n"
          ],
          "name": "stdout"
        },
        {
          "output_type": "stream",
          "text": [
            "Train Set: Train Loss=2.025883197784424 Batch_id=300 Accuracy=52.33: 100%|██████████| 301/301 [12:28<00:00,  2.49s/it]\n"
          ],
          "name": "stderr"
        }
      ]
    },
    {
      "cell_type": "code",
      "metadata": {
        "id": "Q4A3QyXJFqi4",
        "colab_type": "code",
        "colab": {}
      },
      "source": [
        "def load_checkpoint(model, optimizer, scheduler, criterion,filename='checkpoint.pth'):\n",
        "    # Note: Input model & optimizer should be pre-defined.  This routine only updates their states.\n",
        "    start_epoch = 0\n",
        "    if os.path.isfile(filename):\n",
        "        print(\"=> loading checkpoint '{}'\".format(filename))\n",
        "        checkpoint = torch.load(filename)\n",
        "        start_epoch = checkpoint['epochs']\n",
        "        criterion = checkpoint['criterion']\n",
        "        train_acc = checkpoint['train_acc']\n",
        "        train_loss = checkpoint['train_loss']\n",
        "        lr = checkpoint['lr']\n",
        "        test_acc = checkpoint['test_acc']\n",
        "        test_loss = checkpoint['test_loss']\n",
        "        model = model.load_state_dict(checkpoint['state_dict'])\n",
        "        optimizer = optimizer.load_state_dict(checkpoint['optimizer'])\n",
        "        scheduler = scheduler.load_state_dict(checkpoint['scheduler'])\n",
        "        print(\"=> loaded checkpoint '{}' (epoch {})\"\n",
        "                  .format(filename, checkpoint['epochs']))\n",
        "    else:\n",
        "        print(\"=> no checkpoint found at '{}'\".format(filename))\n",
        "    return model, optimizer, scheduler, criterion, start_epoch, train_acc, train_loss, lr, test_acc, test_loss"
      ],
      "execution_count": 32,
      "outputs": []
    },
    {
      "cell_type": "code",
      "metadata": {
        "id": "L2_JdkZHLfEa",
        "colab_type": "code",
        "colab": {
          "base_uri": "https://localhost:8080/",
          "height": 51
        },
        "outputId": "857343d5-e1bc-475b-e174-97f086d59064"
      },
      "source": [
        "file_name = \"tiny_imagenet_35.pth\"\n",
        "model, optimizer, scheduler, criterion, start_epoch, train_acc, train_loss, lr, test_acc, test_loss= load_checkpoint(model, optimizer, scheduler, criterion, filename=file_name)"
      ],
      "execution_count": 38,
      "outputs": [
        {
          "output_type": "stream",
          "text": [
            "=> loading checkpoint 'tiny_imagenet_35.pth'\n",
            "=> loaded checkpoint 'tiny_imagenet_35.pth' (epoch 35)\n"
          ],
          "name": "stdout"
        }
      ]
    },
    {
      "cell_type": "code",
      "metadata": {
        "id": "LO3o10vE1GmE",
        "colab_type": "code",
        "colab": {
          "base_uri": "https://localhost:8080/",
          "height": 34
        },
        "outputId": "230bb10b-54ed-4450-be60-2a4f5ca097c8"
      },
      "source": [
        ""
      ],
      "execution_count": 43,
      "outputs": [
        {
          "output_type": "stream",
          "text": [
            "None\n"
          ],
          "name": "stdout"
        }
      ]
    },
    {
      "cell_type": "code",
      "metadata": {
        "id": "wOSg3jHzKxZV",
        "colab_type": "code",
        "colab": {
          "base_uri": "https://localhost:8080/",
          "height": 367
        },
        "outputId": "397d141d-ec2b-40b0-882f-6f39de93c606"
      },
      "source": [
        "max_lr = 0.04083366522928122  #best lr from lrfinder w.r.t max accuracy\n",
        "EPOCHS = 50\n",
        "start_epoch= start_epoch+1\n",
        "train_obj = Train()\n",
        "test_obj = Test()\n",
        "train_acc = train_acc\n",
        "train_loss = train_loss\n",
        "lr_update = lr\n",
        "for epoch in range(start_epoch, EPOCHS+1):\n",
        "    lr_update.append(optimizer.param_groups[0]['lr'])\n",
        "    print(\"EPOCH:\", epoch, \"LR: \",lr_update[-1])\n",
        "    train_obj.train(model, device, train_loader, optimizer, criterion, scheduler=scheduler)\n",
        "    if epoch < EPOCHS:\n",
        "        test_obj.test(model, device, test_loader, criterion, misclassfied_required=False, trueclassified_required=False, classes=classes, class_accuracy=90)\n",
        "    else:\n",
        "        # store only last epochsreult for misclassfied and trueclassified images\n",
        "        test_obj.test(model, device, test_loader, criterion, misclassfied_required=True, trueclassified_required=True, classes=classes, class_accuracy=90)\n",
        "    train_acc.append(train_obj.train_acc[-1])\n",
        "    train_loss.append(train_obj.train_losses[-1])\n",
        "    if epoch % 5 == 0:\n",
        "      file_name = \"tiny_imagenet_{0}.pth\".format(epoch)\n",
        "      save_model(model, optimizer, criterion, file_name, epoch, train_acc, train_loss, lr_update, test_obj.test_acc, test_obj.test_losses)\n",
        "\n",
        "misclassified_images = test_obj.misclassified_images\n",
        "correctcassified_images = test_obj.trueclassified_images\n",
        "test_losses = test_obj.test_losses\n",
        "test_acc = test_obj.test_acc\n",
        "print(\"Maximum Training Accuracy = \", max(train_acc))\n",
        "print(\"Maximum Testing Accuracy = \", max(test_acc))"
      ],
      "execution_count": 45,
      "outputs": [
        {
          "output_type": "stream",
          "text": [
            "EPOCH: 37 LR:  0.001\n"
          ],
          "name": "stdout"
        },
        {
          "output_type": "error",
          "ename": "AttributeError",
          "evalue": "ignored",
          "traceback": [
            "\u001b[0;31m---------------------------------------------------------------------------\u001b[0m",
            "\u001b[0;31mAttributeError\u001b[0m                            Traceback (most recent call last)",
            "\u001b[0;32m<ipython-input-45-409e4b06dfb1>\u001b[0m in \u001b[0;36m<module>\u001b[0;34m()\u001b[0m\n\u001b[1;32m     10\u001b[0m     \u001b[0mlr_update\u001b[0m\u001b[0;34m.\u001b[0m\u001b[0mappend\u001b[0m\u001b[0;34m(\u001b[0m\u001b[0moptimizer\u001b[0m\u001b[0;34m.\u001b[0m\u001b[0mparam_groups\u001b[0m\u001b[0;34m[\u001b[0m\u001b[0;36m0\u001b[0m\u001b[0;34m]\u001b[0m\u001b[0;34m[\u001b[0m\u001b[0;34m'lr'\u001b[0m\u001b[0;34m]\u001b[0m\u001b[0;34m)\u001b[0m\u001b[0;34m\u001b[0m\u001b[0;34m\u001b[0m\u001b[0m\n\u001b[1;32m     11\u001b[0m     \u001b[0mprint\u001b[0m\u001b[0;34m(\u001b[0m\u001b[0;34m\"EPOCH:\"\u001b[0m\u001b[0;34m,\u001b[0m \u001b[0mepoch\u001b[0m\u001b[0;34m,\u001b[0m \u001b[0;34m\"LR: \"\u001b[0m\u001b[0;34m,\u001b[0m\u001b[0mlr_update\u001b[0m\u001b[0;34m[\u001b[0m\u001b[0;34m-\u001b[0m\u001b[0;36m1\u001b[0m\u001b[0;34m]\u001b[0m\u001b[0;34m)\u001b[0m\u001b[0;34m\u001b[0m\u001b[0;34m\u001b[0m\u001b[0m\n\u001b[0;32m---> 12\u001b[0;31m     \u001b[0mtrain_obj\u001b[0m\u001b[0;34m.\u001b[0m\u001b[0mtrain\u001b[0m\u001b[0;34m(\u001b[0m\u001b[0mmodel\u001b[0m\u001b[0;34m,\u001b[0m \u001b[0mdevice\u001b[0m\u001b[0;34m,\u001b[0m \u001b[0mtrain_loader\u001b[0m\u001b[0;34m,\u001b[0m \u001b[0moptimizer\u001b[0m\u001b[0;34m,\u001b[0m \u001b[0mcriterion\u001b[0m\u001b[0;34m,\u001b[0m \u001b[0mscheduler\u001b[0m\u001b[0;34m=\u001b[0m\u001b[0mscheduler\u001b[0m\u001b[0;34m)\u001b[0m\u001b[0;34m\u001b[0m\u001b[0;34m\u001b[0m\u001b[0m\n\u001b[0m\u001b[1;32m     13\u001b[0m     \u001b[0;32mif\u001b[0m \u001b[0mepoch\u001b[0m \u001b[0;34m<\u001b[0m \u001b[0mEPOCHS\u001b[0m\u001b[0;34m:\u001b[0m\u001b[0;34m\u001b[0m\u001b[0;34m\u001b[0m\u001b[0m\n\u001b[1;32m     14\u001b[0m         \u001b[0mtest_obj\u001b[0m\u001b[0;34m.\u001b[0m\u001b[0mtest\u001b[0m\u001b[0;34m(\u001b[0m\u001b[0mmodel\u001b[0m\u001b[0;34m,\u001b[0m \u001b[0mdevice\u001b[0m\u001b[0;34m,\u001b[0m \u001b[0mtest_loader\u001b[0m\u001b[0;34m,\u001b[0m \u001b[0mcriterion\u001b[0m\u001b[0;34m,\u001b[0m \u001b[0mmisclassfied_required\u001b[0m\u001b[0;34m=\u001b[0m\u001b[0;32mFalse\u001b[0m\u001b[0;34m,\u001b[0m \u001b[0mtrueclassified_required\u001b[0m\u001b[0;34m=\u001b[0m\u001b[0;32mFalse\u001b[0m\u001b[0;34m,\u001b[0m \u001b[0mclasses\u001b[0m\u001b[0;34m=\u001b[0m\u001b[0mclasses\u001b[0m\u001b[0;34m,\u001b[0m \u001b[0mclass_accuracy\u001b[0m\u001b[0;34m=\u001b[0m\u001b[0;36m90\u001b[0m\u001b[0;34m)\u001b[0m\u001b[0;34m\u001b[0m\u001b[0;34m\u001b[0m\u001b[0m\n",
            "\u001b[0;32m/content/gdrive/My Drive/Colab Notebooks/my_project1/deep-learning/utils/train.py\u001b[0m in \u001b[0;36mtrain\u001b[0;34m(self, model, device, train_loader, optimizer, criterion, l1_factor, scheduler)\u001b[0m\n\u001b[1;32m     10\u001b[0m \u001b[0;34m\u001b[0m\u001b[0m\n\u001b[1;32m     11\u001b[0m     \u001b[0;32mdef\u001b[0m \u001b[0mtrain\u001b[0m\u001b[0;34m(\u001b[0m\u001b[0mself\u001b[0m\u001b[0;34m,\u001b[0m \u001b[0mmodel\u001b[0m\u001b[0;34m,\u001b[0m \u001b[0mdevice\u001b[0m\u001b[0;34m,\u001b[0m \u001b[0mtrain_loader\u001b[0m\u001b[0;34m,\u001b[0m \u001b[0moptimizer\u001b[0m\u001b[0;34m,\u001b[0m \u001b[0mcriterion\u001b[0m\u001b[0;34m,\u001b[0m \u001b[0ml1_factor\u001b[0m\u001b[0;34m=\u001b[0m\u001b[0;32mNone\u001b[0m\u001b[0;34m,\u001b[0m \u001b[0mscheduler\u001b[0m\u001b[0;34m=\u001b[0m\u001b[0;32mNone\u001b[0m\u001b[0;34m)\u001b[0m\u001b[0;34m:\u001b[0m\u001b[0;34m\u001b[0m\u001b[0;34m\u001b[0m\u001b[0m\n\u001b[0;32m---> 12\u001b[0;31m         \u001b[0mmodel\u001b[0m\u001b[0;34m.\u001b[0m\u001b[0mtrain\u001b[0m\u001b[0;34m(\u001b[0m\u001b[0;34m)\u001b[0m\u001b[0;34m\u001b[0m\u001b[0;34m\u001b[0m\u001b[0m\n\u001b[0m\u001b[1;32m     13\u001b[0m         \u001b[0mpbar\u001b[0m \u001b[0;34m=\u001b[0m \u001b[0mtqdm\u001b[0m\u001b[0;34m(\u001b[0m\u001b[0mtrain_loader\u001b[0m\u001b[0;34m)\u001b[0m\u001b[0;34m\u001b[0m\u001b[0;34m\u001b[0m\u001b[0m\n\u001b[1;32m     14\u001b[0m         \u001b[0mcorrect\u001b[0m \u001b[0;34m=\u001b[0m \u001b[0;36m0\u001b[0m\u001b[0;34m\u001b[0m\u001b[0;34m\u001b[0m\u001b[0m\n",
            "\u001b[0;31mAttributeError\u001b[0m: '_IncompatibleKeys' object has no attribute 'train'"
          ]
        }
      ]
    },
    {
      "cell_type": "markdown",
      "metadata": {
        "id": "WIh5Z2Xc7sjf",
        "colab_type": "text"
      },
      "source": [
        "### **Visualizing gradcam results for miss classified images in all layers**"
      ]
    },
    {
      "cell_type": "code",
      "metadata": {
        "id": "1PJRF4L569rT",
        "colab_type": "code",
        "colab": {}
      },
      "source": [
        "layers = [model.layer1, model.resnet_layer1, model.layer2, model.layer3, model.resnet_layer3]\n",
        "Plot.plot_gradcam_images(model, layers, miscassified_images, classes)"
      ],
      "execution_count": null,
      "outputs": []
    },
    {
      "cell_type": "markdown",
      "metadata": {
        "id": "MfnkoT0oGh2t",
        "colab_type": "text"
      },
      "source": [
        "### **Visualize the CYCLIC triangle plot using learning rates which used for each epochs**"
      ]
    },
    {
      "cell_type": "code",
      "metadata": {
        "id": "hjWyCAnPDxQ_",
        "colab_type": "code",
        "colab": {}
      },
      "source": [
        "Plot.plot_cycle_lr(EPOCHS, lr_update)"
      ],
      "execution_count": null,
      "outputs": []
    },
    {
      "cell_type": "markdown",
      "metadata": {
        "id": "teyl8NHYTlD1",
        "colab_type": "text"
      },
      "source": [
        "### **Plot graphs**"
      ]
    },
    {
      "cell_type": "code",
      "metadata": {
        "id": "nN0o7Pz-TjQt",
        "colab_type": "code",
        "colab": {}
      },
      "source": [
        "plt_obj = Plot(train_max_acc, train_min_loss, test_acc, test_losses)\n",
        "# Plot all graph\n",
        "plt_obj.display_all_plot()\n",
        "plt_obj.plot_train_graph()\n",
        "plt_obj.plot_validation_graph()\n",
        "plt_obj.plot_graph(plot_case=\"Accuracy\")"
      ],
      "execution_count": null,
      "outputs": []
    },
    {
      "cell_type": "markdown",
      "metadata": {
        "id": "9yPYMOVcU1Cd",
        "colab_type": "text"
      },
      "source": [
        "### **Plot misclassified images**"
      ]
    },
    {
      "cell_type": "code",
      "metadata": {
        "id": "G80vU74CUtXV",
        "colab_type": "code",
        "colab": {}
      },
      "source": [
        "Plot.plot_classified_images(classes, miscassified_images, image_name=\"gradcam_misclssified.png\")"
      ],
      "execution_count": null,
      "outputs": []
    },
    {
      "cell_type": "code",
      "metadata": {
        "id": "hHmAD47wzK-c",
        "colab_type": "code",
        "colab": {}
      },
      "source": [
        ""
      ],
      "execution_count": null,
      "outputs": []
    }
  ]
}