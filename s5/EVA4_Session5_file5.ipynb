{
  "nbformat": 4,
  "nbformat_minor": 0,
  "metadata": {
    "colab": {
      "name": "EVA4 - Session5_file5.ipynb",
      "provenance": [],
      "collapsed_sections": []
    },
    "kernelspec": {
      "name": "python3",
      "display_name": "Python 3"
    },
    "accelerator": "GPU"
  },
  "cells": [
    {
      "cell_type": "code",
      "metadata": {
        "id": "qd-_B-JDqIBe",
        "colab_type": "code",
        "outputId": "6cb11429-e229-4d08-991f-c34e00211e6e",
        "colab": {
          "base_uri": "https://localhost:8080/",
          "height": 35
        }
      },
      "source": [
        "!pip install torchsummary\n",
        "from torchsummary import summary\n",
        "from tqdm import tqdm\n",
        "from __future__ import print_function\n",
        "import torch\n",
        "import torch.nn as nn\n",
        "import torch.nn.functional as F\n",
        "import torch.optim as optim\n",
        "from torchvision import datasets, transforms\n",
        "%matplotlib inline\n",
        "import matplotlib.pyplot as plt\n",
        "\n",
        "class Helper(object):\n",
        "\n",
        "    def __init__(self):\n",
        "        self.train_losses = []\n",
        "        self.test_losses = []\n",
        "        self.train_acc = []\n",
        "        self.test_acc = []\n",
        "        self.train_min_loss = []\n",
        "        self.train_max_acc = []\n",
        "\n",
        "    @staticmethod\n",
        "    def get_device():\n",
        "        use_cuda = torch.cuda.is_available()\n",
        "        device = torch.device(\"cuda\" if use_cuda else \"cpu\")\n",
        "        return device\n",
        "\n",
        "    @staticmethod\n",
        "    def display_summary(model_obj, input_image_size):\n",
        "        # model_obj: class objec\n",
        "        # input_image_size: type int size of the image\n",
        "        device = Helper.get_device()\n",
        "        print(\"device\")\n",
        "        model = model_obj.to(device)\n",
        "        summary(model, input_size=(1, input_image_size, input_image_size))\n",
        "\n",
        "    @staticmethod\n",
        "    def get_train_transforms(mean=0.1307, std=0.3081):\n",
        "        # Train Phase transformations\n",
        "        train_transforms = transforms.Compose([\n",
        "            #  transforms.Resize((28, 28)),\n",
        "            #  transforms.ColorJitter(brightness=0.10, contrast=0.1, saturation=0.10, hue=0.1),\n",
        "            transforms.ToTensor(),\n",
        "            transforms.Normalize((mean,), (std,))  # The mean and std have to be sequences (e.g., tuples), therefore you should add a comma after the values.\n",
        "            # Note the difference between (0.1307) and (0.1307,)\n",
        "        ])\n",
        "        return train_transforms\n",
        "\n",
        "    @staticmethod\n",
        "    def get_test_transforms(mean=0.1307, std=0.3081):\n",
        "        # Test Phase transformations\n",
        "        test_transforms = transforms.Compose([\n",
        "            #  transforms.Resize((28, 28)),\n",
        "            #  transforms.ColorJitter(brightness=0.10, contrast=0.1, saturation=0.10, hue=0.1),\n",
        "            transforms.ToTensor(),\n",
        "            transforms.Normalize((mean,), (std,))\n",
        "        ])\n",
        "        return test_transforms\n",
        "\n",
        "\n",
        "    @staticmethod\n",
        "    def get_mean_std(path='./data', print_log=False, display_log=True):\n",
        "        # simple transform\n",
        "        simple_transforms = transforms.Compose([\n",
        "            transforms.ToTensor(),\n",
        "        ])\n",
        "        exp = datasets.MNIST(path, train=True, download=True, transform=simple_transforms)\n",
        "        exp_data = exp.train_data\n",
        "        exp_data = exp.transform(exp_data.numpy())\n",
        "        mean = torch.mean(exp_data)\n",
        "        std =  torch.std(exp_data)\n",
        "        if display_log:\n",
        "          print('[Train]')\n",
        "          print(' - Numpy Shape:', exp.train_data.cpu().numpy().shape)\n",
        "          print(' - Tensor Shape:', exp.train_data.size())\n",
        "          print(' - min:', torch.min(exp_data))\n",
        "          print(' - max:', torch.max(exp_data))\n",
        "          print(' - mean:', mean)\n",
        "          print(' - std:', std)\n",
        "          print(' - var:', torch.var(exp_data))\n",
        "        return mean, std\n",
        "\n",
        "    # First step\n",
        "    def get_train_test_data_set(self, train_transforms=None, test_transforms=None, path='./data', display_log=False):\n",
        "        mean, std = Helper.get_mean_std(path=path, display_log=display_log)\n",
        "        if train_transforms is None:\n",
        "            train_transforms = Helper.get_test_transforms(mean, std)\n",
        "        if test_transforms is None:\n",
        "            test_transforms = Helper.get_test_transforms(mean, std)\n",
        "        train = datasets.MNIST(path, train=True, download=True, transform=train_transforms)\n",
        "        test = datasets.MNIST(path, train=False, download=True, transform=test_transforms)\n",
        "        return train, test\n",
        "\n",
        "    def view_images(self, path='./data', num_of_images=60, display_log=True):\n",
        "        # We'd need to convert it into Numpy! Remember above we have converted it into tensors already\n",
        "        print(\"The initial stastics:\")\n",
        "        train, test = self.get_train_test_data_set(path=path, display_log=True)\n",
        "        train_data = train.train_data\n",
        "        train_data = train.transform(train_data.numpy())\n",
        "\n",
        "        print('Image data stastics')\n",
        "        print(' - Numpy Shape:', train.train_data.cpu().numpy().shape)\n",
        "        print(' - Tensor Shape:', train.train_data.size())\n",
        "        print(' - min:', torch.min(train_data))\n",
        "        print(' - max:', torch.max(train_data))\n",
        "        print(' - mean:', torch.mean(train_data))\n",
        "        print(' - std:', torch.std(train_data))\n",
        "        print(' - var:', torch.var(train_data))\n",
        "\n",
        "        train_loader, test_loader = self.get_data_loader(train, test, batch_size=128)\n",
        "        dataiter = iter(train_loader)\n",
        "        images, labels = dataiter.next()\n",
        "\n",
        "        print(images.shape)\n",
        "        print(labels.shape)\n",
        "\n",
        "        plt.imshow(images[0].numpy().squeeze(), cmap='gray_r')\n",
        "        print(\"\")\n",
        "        self.view_defined_images(images, num_of_images)\n",
        "\n",
        "\n",
        "    def view_defined_images(self, images, num_of_images):\n",
        "        figure = plt.figure()\n",
        "        for index in range(1, num_of_images + 1):\n",
        "            plt.subplot(6, 10, index)\n",
        "            plt.axis('off')\n",
        "            plt.imshow(images[index].numpy().squeeze(), cmap='gray_r')\n",
        "\n",
        "    def get_data_loader(self, train, test, batch_size=128):\n",
        "        SEED = 1\n",
        "        # CUDA?\n",
        "        cuda = torch.cuda.is_available()\n",
        "        print(\"CUDA Available?\", cuda)\n",
        "\n",
        "        # For reproducibility\n",
        "        torch.manual_seed(SEED)\n",
        "\n",
        "        if cuda:\n",
        "            torch.cuda.manual_seed(SEED)\n",
        "\n",
        "        # dataloader arguments - something you'll fetch these from cmdprmt\n",
        "        dataloader_args = dict(shuffle=True, batch_size=batch_size, num_workers=4, pin_memory=True) if cuda else dict(shuffle=True, batch_size=64)\n",
        "\n",
        "        # train dataloader\n",
        "        train_loader = torch.utils.data.DataLoader(train, **dataloader_args)\n",
        "\n",
        "        # test dataloader\n",
        "        test_loader = torch.utils.data.DataLoader(test, **dataloader_args)\n",
        "        return train_loader, test_loader\n",
        "\n",
        "    def train(self, model, device, train_loader, optimizer, epoch):\n",
        "      model.train()\n",
        "      pbar = tqdm(train_loader)\n",
        "      correct = 0\n",
        "      processed = 0\n",
        "      for batch_idx, (data, target) in enumerate(pbar):\n",
        "        # get samples\n",
        "        data, target = data.to(device), target.to(device)\n",
        "\n",
        "        # Init\n",
        "        optimizer.zero_grad()\n",
        "        # In PyTorch, we need to set the gradients to zero before starting to do backpropragation because PyTorch accumulates the gradients on subsequent backward passes. \n",
        "        # Because of this, when you start your training loop, ideally you should zero out the gradients so that you do the parameter update correctly.\n",
        "\n",
        "        # Predict\n",
        "        y_pred = model(data)\n",
        "\n",
        "        # Calculate loss\n",
        "        loss = F.nll_loss(y_pred, target)\n",
        "        self.train_losses.append(loss.item())\n",
        "\n",
        "        # Backpropagation\n",
        "        loss.backward()\n",
        "        optimizer.step()\n",
        "\n",
        "        # Update pbar-tqdm\n",
        "        \n",
        "        pred = y_pred.argmax(dim=1, keepdim=True)  # get the index of the max log-probability\n",
        "        correct += pred.eq(target.view_as(pred)).sum().item()\n",
        "        processed += len(data)\n",
        "\n",
        "        pbar.set_description(desc= f'Train Set: Train Loss={loss.item()} Batch_id={batch_idx} Accuracy={100*correct/processed:0.2f}')\n",
        "        acc = float(\"{:.2f}\".format(100*correct/processed))\n",
        "        #self.train_acc.append(100*correct/processed)\n",
        "        self.train_acc.append(acc)\n",
        "\n",
        "    def test(self, model, device, test_loader):\n",
        "        model.eval()\n",
        "        test_loss = 0\n",
        "        correct = 0\n",
        "        with torch.no_grad():\n",
        "            for data, target in test_loader:\n",
        "                data, target = data.to(device), target.to(device)\n",
        "                output = model(data)\n",
        "                test_loss += F.nll_loss(output, target, reduction='sum').item()  # sum up batch loss\n",
        "                pred = output.argmax(dim=1, keepdim=True)  # get the index of the max log-probability\n",
        "                correct += pred.eq(target.view_as(pred)).sum().item()\n",
        "\n",
        "        test_loss /= len(test_loader.dataset)\n",
        "        self.test_losses.append(test_loss)\n",
        "\n",
        "        print('\\nTest set: Average loss: {:.4f}, Accuracy: {}/{} ({:.2f}%)\\n'.format(\n",
        "            test_loss, correct, len(test_loader.dataset),\n",
        "            100. * correct / len(test_loader.dataset)))\n",
        "\n",
        "        self.test_acc.append(100. * correct / len(test_loader.dataset))\n",
        "\n",
        "\n",
        "    # second step\n",
        "    def train_test_model(self, model_obj, EPOCHS=20, batch_size=128, path='./data', optimizer=None, train_transforms=None, test_transforms=None):\n",
        "        # Train and test our model\n",
        "        device = Helper.get_device()\n",
        "        model = model_obj.to(device)\n",
        "        if optimizer is None:\n",
        "            optimizer = optim.SGD(model.parameters(), lr=0.01, momentum=0.9)\n",
        "        train, test =  self.get_train_test_data_set(path=path, train_transforms=train_transforms, test_transforms=test_transforms)\n",
        "        train_loader, test_loader = self.get_data_loader(train, test, batch_size)\n",
        "        for epoch in range(1, EPOCHS+1):\n",
        "            print(\"EPOCH:\", epoch)\n",
        "            self.train(model, device, train_loader, optimizer, epoch)\n",
        "            self.test(model, device, test_loader)\n",
        "            self.train_max_acc.append(self.train_acc[-1])\n",
        "            self.train_min_loss.append(self.train_losses[-1])\n",
        "\n",
        "    @staticmethod\n",
        "    def calculate_diff(train, test):\n",
        "        zip_obj = zip(train, test)\n",
        "        diff = [train_i-test_i for train_i, test_i in zip_obj]\n",
        "        return diff\n",
        "\n",
        "    def display_plot(self):\n",
        "        try:\n",
        "            fig, axs = plt.subplots(2,2,figsize=(15,10))\n",
        "            axs[0, 0].plot(self.train_losses)\n",
        "            axs[0, 0].set_title(\"Training Loss\")\n",
        "            axs[1, 0].plot(self.train_acc)\n",
        "            axs[1, 0].set_title(\"Training Accuracy\")\n",
        "            axs[0, 1].plot(self.test_losses)\n",
        "            axs[0, 1].set_title(\"Test Loss\")\n",
        "            axs[1, 1].plot(self.test_acc)\n",
        "            axs[1, 1].set_title(\"Test Accuracy\")\n",
        "            print('Train loss: ',self.train_min_loss)\n",
        "            print('Test loss: ',self.test_losses)\n",
        "            print(\"Difference in loss : \", Helper.calculate_diff(self.train_min_loss, self.test_losses))\n",
        "            print('Train Accuracy: ',self.train_max_acc)\n",
        "            print('Test Accuracy: ',self.test_acc)\n",
        "            print(\"Difference in Accuracy : \", Helper.calculate_diff(self.train_max_acc, self.test_acc))\n",
        "            max_element = max(self.train_max_acc)\n",
        "            print(\"Maximum Train accuracy : \",max_element)\n",
        "            print(\"Test accuracy : \",max(self.test_acc))\n",
        "        except Exception as e:\n",
        "            print(\"First train the model\")\n",
        "\n",
        "    def __enter__(self):\n",
        "        return self\n",
        "\n",
        "    def __exit__(self, exc_type, exc_value, traceback):\n",
        "        try:\n",
        "            return False\n",
        "        except Exception as e:\n",
        "            print(str(e))\n",
        "            pass"
      ],
      "execution_count": 0,
      "outputs": [
        {
          "output_type": "stream",
          "text": [
            "Requirement already satisfied: torchsummary in /usr/local/lib/python3.6/dist-packages (1.5.1)\n"
          ],
          "name": "stdout"
        }
      ]
    },
    {
      "cell_type": "code",
      "metadata": {
        "id": "EfPQKLP-qmAK",
        "colab_type": "code",
        "colab": {}
      },
      "source": [
        "class Net5(nn.Module):\n",
        "    def __init__(self):\n",
        "        super(Net5, self).__init__()\n",
        "        p = 0.05\n",
        "        # Input Block\n",
        "        self.convblock1 = nn.Sequential(\n",
        "            nn.Conv2d(in_channels=1, out_channels=12, kernel_size=(3, 3), padding=0, bias=False),\n",
        "            nn.BatchNorm2d(12),\n",
        "            nn.ReLU(),\n",
        "            # nn.Dropout2d(p)\n",
        "        ) # output_size = 26, RF=3\n",
        "\n",
        "        # CONVOLUTION BLOCK 1\n",
        "        self.convblock2 = nn.Sequential(\n",
        "            nn.Conv2d(in_channels=12, out_channels=12, kernel_size=(3, 3), padding=0, bias=False),\n",
        "            nn.BatchNorm2d(12),\n",
        "            nn.ReLU(),\n",
        "            # nn.Dropout2d(p)\n",
        "        ) # output_size = 24, RF=5\n",
        "        self.convblock3 = nn.Sequential(\n",
        "            nn.Conv2d(in_channels=12, out_channels=12, kernel_size=(3, 3), padding=0, bias=False),\n",
        "            nn.BatchNorm2d(12),\n",
        "            nn.ReLU(),\n",
        "            # nn.Dropout2d(p)\n",
        "        ) # output_size = 22,  RF=7\n",
        "        self.convblock4 = nn.Sequential(\n",
        "            nn.Conv2d(in_channels=12, out_channels=12, kernel_size=(1, 1), padding=0, bias=False),\n",
        "            nn.BatchNorm2d(12),\n",
        "            nn.ReLU(),\n",
        "            # nn.Dropout2d(p)\n",
        "        ) # output_size = 22,  RF=7\n",
        "\n",
        "        # TRANSITION BLOCK 1\n",
        "        self.pool1 = nn.MaxPool2d(2, 2) # output_size = 11, RF=8\n",
        "                # OUTPUT BLOCK\n",
        "        # self.convblock4 = nn.Sequential(\n",
        "        #     nn.Conv2d(in_channels=16, out_channels=16, kernel_size=(1, 1), padding=0, bias=False),\n",
        "        #     nn.BatchNorm2d(16),\n",
        "        #     nn.ReLU(),\n",
        "        #     # nn.Dropout2d(p)\n",
        "        # ) # output_size = 11\n",
        "\n",
        "        # CONVOLUTION BLOCK 2\n",
        "        self.convblock5 = nn.Sequential(\n",
        "            nn.Conv2d(in_channels=12, out_channels=16, kernel_size=(3, 3), padding=0, bias=False),\n",
        "            nn.BatchNorm2d(16),\n",
        "            nn.ReLU(),\n",
        "            # nn.Dropout2d(p)\n",
        "        ) # output_size = 9, RF=10\n",
        "        self.convblock6 = nn.Sequential(\n",
        "            nn.Conv2d(in_channels=16, out_channels=16, kernel_size=(3, 3), padding=1, bias=False),\n",
        "            nn.BatchNorm2d(16), RF=12\n",
        "            nn.ReLU(),\n",
        "            # nn.Dropout2d(p)\n",
        "        ) # output_size = 7, RF=14\n",
        "        self.convblock7 = nn.Sequential(\n",
        "            nn.Conv2d(in_channels=16, out_channels=16, kernel_size=(3, 3), padding=1, bias=False),\n",
        "            nn.BatchNorm2d(16),\n",
        "            nn.ReLU(),\n",
        "            # nn.Dropout2d(p)\n",
        "        ) # output_size = 7, RF=18\n",
        "        self.gap = nn.Sequential(\n",
        "            nn.AvgPool2d(kernel_size=7)\n",
        "        ) # output_size = 1, RF=30\n",
        "\n",
        "        self.convblock8 = nn.Sequential(\n",
        "            nn.Conv2d(in_channels=16, out_channels=10, kernel_size=(1, 1), padding=0, bias=False),\n",
        "        ) # output_size = 8, RF=30\n",
        "\n",
        "    def forward(self, x):\n",
        "        x = self.convblock1(x)\n",
        "        x = self.convblock2(x)\n",
        "        x = self.convblock3(x)\n",
        "        x = self.convblock4(x)\n",
        "        x = self.pool1(x)\n",
        "        #x = self.convblock4(x)\n",
        "        x = self.convblock5(x)\n",
        "        x = self.convblock6(x)\n",
        "        x = self.convblock7(x)\n",
        "        x = self.gap(x)\n",
        "        x = self.convblock8(x)\n",
        "        x = x.view(-1, 10)\n",
        "        return F.log_softmax(x)"
      ],
      "execution_count": 0,
      "outputs": []
    },
    {
      "cell_type": "code",
      "metadata": {
        "id": "5Mhzpx4cqoqx",
        "colab_type": "code",
        "outputId": "676ab0a3-5446-4489-dea8-37b525addf20",
        "colab": {
          "base_uri": "https://localhost:8080/",
          "height": 1000
        }
      },
      "source": [
        "from torch.optim.lr_scheduler import StepLR\n",
        "with Helper() as helper_obj:\n",
        "  obj1 = Net5()\n",
        "  device = helper_obj.get_device()\n",
        "  helper_obj.display_summary(obj1, 28)\n",
        "  #helper_obj.view_images()\n",
        "  #update optimizer\n",
        "  model =  obj1.to(device)\n",
        "  optimizer = optim.SGD(model.parameters(), lr=0.01, momentum=0.9)\n",
        "  scheduler = StepLR(optimizer, step_size=1, gamma=0.1)\n",
        "  #apply image augumentaion\n",
        "  train_transforms = transforms.Compose([\n",
        "                                      #  transforms.Resize((28, 28)),\n",
        "                                      #  transforms.ColorJitter(brightness=0.10, contrast=0.1, saturation=0.10, hue=0.1),\n",
        "                                       transforms.RandomRotation((-9.0, 9.0), fill=(1,)),\n",
        "                                       transforms.ToTensor(),\n",
        "                                       transforms.Normalize((0.1307,), (0.3081,)) # The mean and std have to be sequences (e.g., tuples), therefore you should add a comma after the values. \n",
        "                                       # Note the difference between (0.1307) and (0.1307,)\n",
        "                                       ])\n",
        "  helper_obj.train_test_model(obj1, EPOCHS=14, batch_size=64, optimizer=optimizer, train_transforms=train_transforms)\n",
        "  helper_obj.display_plot()"
      ],
      "execution_count": 0,
      "outputs": [
        {
          "output_type": "stream",
          "text": [
            "device\n",
            "----------------------------------------------------------------\n",
            "        Layer (type)               Output Shape         Param #\n",
            "================================================================\n",
            "            Conv2d-1           [-1, 12, 26, 26]             108\n",
            "       BatchNorm2d-2           [-1, 12, 26, 26]              24\n",
            "              ReLU-3           [-1, 12, 26, 26]               0\n",
            "            Conv2d-4           [-1, 12, 24, 24]           1,296\n",
            "       BatchNorm2d-5           [-1, 12, 24, 24]              24\n",
            "              ReLU-6           [-1, 12, 24, 24]               0\n",
            "            Conv2d-7           [-1, 12, 22, 22]           1,296\n",
            "       BatchNorm2d-8           [-1, 12, 22, 22]              24\n",
            "              ReLU-9           [-1, 12, 22, 22]               0\n",
            "           Conv2d-10           [-1, 12, 22, 22]             144\n",
            "      BatchNorm2d-11           [-1, 12, 22, 22]              24\n",
            "             ReLU-12           [-1, 12, 22, 22]               0\n",
            "        MaxPool2d-13           [-1, 12, 11, 11]               0\n",
            "           Conv2d-14             [-1, 16, 9, 9]           1,728\n",
            "      BatchNorm2d-15             [-1, 16, 9, 9]              32\n",
            "             ReLU-16             [-1, 16, 9, 9]               0\n",
            "           Conv2d-17             [-1, 16, 9, 9]           2,304\n",
            "      BatchNorm2d-18             [-1, 16, 9, 9]              32\n",
            "             ReLU-19             [-1, 16, 9, 9]               0\n",
            "           Conv2d-20             [-1, 16, 9, 9]           2,304\n",
            "      BatchNorm2d-21             [-1, 16, 9, 9]              32\n",
            "             ReLU-22             [-1, 16, 9, 9]               0\n",
            "        AvgPool2d-23             [-1, 16, 1, 1]               0\n",
            "           Conv2d-24             [-1, 10, 1, 1]             160\n",
            "================================================================\n",
            "Total params: 9,532\n",
            "Trainable params: 9,532\n",
            "Non-trainable params: 0\n",
            "----------------------------------------------------------------\n",
            "Input size (MB): 0.00\n",
            "Forward/backward pass size (MB): 0.71\n",
            "Params size (MB): 0.04\n",
            "Estimated Total Size (MB): 0.75\n",
            "----------------------------------------------------------------\n"
          ],
          "name": "stdout"
        },
        {
          "output_type": "stream",
          "text": [
            "/usr/local/lib/python3.6/dist-packages/ipykernel_launcher.py:83: UserWarning: Implicit dimension choice for log_softmax has been deprecated. Change the call to include dim=X as an argument.\n",
            "/usr/local/lib/python3.6/dist-packages/torchvision/datasets/mnist.py:55: UserWarning: train_data has been renamed data\n",
            "  warnings.warn(\"train_data has been renamed data\")\n",
            "  0%|          | 0/938 [00:00<?, ?it/s]"
          ],
          "name": "stderr"
        },
        {
          "output_type": "stream",
          "text": [
            "CUDA Available? True\n",
            "EPOCH: 1\n"
          ],
          "name": "stdout"
        },
        {
          "output_type": "stream",
          "text": [
            "Train Set: Train Loss=0.07279279828071594 Batch_id=937 Accuracy=89.53: 100%|██████████| 938/938 [00:14<00:00, 62.66it/s]\n",
            "  0%|          | 0/938 [00:00<?, ?it/s]"
          ],
          "name": "stderr"
        },
        {
          "output_type": "stream",
          "text": [
            "\n",
            "Test set: Average loss: 0.0779, Accuracy: 9797/10000 (97.97%)\n",
            "\n",
            "EPOCH: 2\n"
          ],
          "name": "stdout"
        },
        {
          "output_type": "stream",
          "text": [
            "Train Set: Train Loss=0.06675375252962112 Batch_id=937 Accuracy=97.55: 100%|██████████| 938/938 [00:15<00:00, 62.39it/s]\n",
            "  0%|          | 0/938 [00:00<?, ?it/s]"
          ],
          "name": "stderr"
        },
        {
          "output_type": "stream",
          "text": [
            "\n",
            "Test set: Average loss: 0.0390, Accuracy: 9898/10000 (98.98%)\n",
            "\n",
            "EPOCH: 3\n"
          ],
          "name": "stdout"
        },
        {
          "output_type": "stream",
          "text": [
            "Train Set: Train Loss=0.03062346577644348 Batch_id=937 Accuracy=98.26: 100%|██████████| 938/938 [00:15<00:00, 60.41it/s]\n",
            "  0%|          | 0/938 [00:00<?, ?it/s]"
          ],
          "name": "stderr"
        },
        {
          "output_type": "stream",
          "text": [
            "\n",
            "Test set: Average loss: 0.0519, Accuracy: 9845/10000 (98.45%)\n",
            "\n",
            "EPOCH: 4\n"
          ],
          "name": "stdout"
        },
        {
          "output_type": "stream",
          "text": [
            "Train Set: Train Loss=0.009872883558273315 Batch_id=937 Accuracy=98.41: 100%|██████████| 938/938 [00:14<00:00, 63.12it/s]\n",
            "  0%|          | 0/938 [00:00<?, ?it/s]"
          ],
          "name": "stderr"
        },
        {
          "output_type": "stream",
          "text": [
            "\n",
            "Test set: Average loss: 0.0301, Accuracy: 9914/10000 (99.14%)\n",
            "\n",
            "EPOCH: 5\n"
          ],
          "name": "stdout"
        },
        {
          "output_type": "stream",
          "text": [
            "Train Set: Train Loss=0.016279876232147217 Batch_id=937 Accuracy=98.67: 100%|██████████| 938/938 [00:14<00:00, 63.47it/s]\n",
            "  0%|          | 0/938 [00:00<?, ?it/s]"
          ],
          "name": "stderr"
        },
        {
          "output_type": "stream",
          "text": [
            "\n",
            "Test set: Average loss: 0.0276, Accuracy: 9927/10000 (99.27%)\n",
            "\n",
            "EPOCH: 6\n"
          ],
          "name": "stdout"
        },
        {
          "output_type": "stream",
          "text": [
            "Train Set: Train Loss=0.005090087652206421 Batch_id=937 Accuracy=98.80: 100%|██████████| 938/938 [00:14<00:00, 63.10it/s]\n",
            "  0%|          | 0/938 [00:00<?, ?it/s]"
          ],
          "name": "stderr"
        },
        {
          "output_type": "stream",
          "text": [
            "\n",
            "Test set: Average loss: 0.0278, Accuracy: 9916/10000 (99.16%)\n",
            "\n",
            "EPOCH: 7\n"
          ],
          "name": "stdout"
        },
        {
          "output_type": "stream",
          "text": [
            "Train Set: Train Loss=0.05121275782585144 Batch_id=937 Accuracy=98.81: 100%|██████████| 938/938 [00:14<00:00, 63.05it/s]\n",
            "  0%|          | 0/938 [00:00<?, ?it/s]"
          ],
          "name": "stderr"
        },
        {
          "output_type": "stream",
          "text": [
            "\n",
            "Test set: Average loss: 0.0243, Accuracy: 9923/10000 (99.23%)\n",
            "\n",
            "EPOCH: 8\n"
          ],
          "name": "stdout"
        },
        {
          "output_type": "stream",
          "text": [
            "Train Set: Train Loss=0.034058719873428345 Batch_id=937 Accuracy=98.92: 100%|██████████| 938/938 [00:14<00:00, 63.69it/s]\n",
            "  0%|          | 0/938 [00:00<?, ?it/s]"
          ],
          "name": "stderr"
        },
        {
          "output_type": "stream",
          "text": [
            "\n",
            "Test set: Average loss: 0.0228, Accuracy: 9933/10000 (99.33%)\n",
            "\n",
            "EPOCH: 9\n"
          ],
          "name": "stdout"
        },
        {
          "output_type": "stream",
          "text": [
            "Train Set: Train Loss=0.05687260627746582 Batch_id=937 Accuracy=98.94: 100%|██████████| 938/938 [00:14<00:00, 63.62it/s]\n",
            "  0%|          | 0/938 [00:00<?, ?it/s]"
          ],
          "name": "stderr"
        },
        {
          "output_type": "stream",
          "text": [
            "\n",
            "Test set: Average loss: 0.0227, Accuracy: 9928/10000 (99.28%)\n",
            "\n",
            "EPOCH: 10\n"
          ],
          "name": "stdout"
        },
        {
          "output_type": "stream",
          "text": [
            "Train Set: Train Loss=0.048510968685150146 Batch_id=937 Accuracy=99.04: 100%|██████████| 938/938 [00:14<00:00, 63.33it/s]\n",
            "  0%|          | 0/938 [00:00<?, ?it/s]"
          ],
          "name": "stderr"
        },
        {
          "output_type": "stream",
          "text": [
            "\n",
            "Test set: Average loss: 0.0179, Accuracy: 9945/10000 (99.45%)\n",
            "\n",
            "EPOCH: 11\n"
          ],
          "name": "stdout"
        },
        {
          "output_type": "stream",
          "text": [
            "Train Set: Train Loss=0.0046535879373550415 Batch_id=937 Accuracy=99.05: 100%|██████████| 938/938 [00:14<00:00, 63.49it/s]\n",
            "  0%|          | 0/938 [00:00<?, ?it/s]"
          ],
          "name": "stderr"
        },
        {
          "output_type": "stream",
          "text": [
            "\n",
            "Test set: Average loss: 0.0246, Accuracy: 9924/10000 (99.24%)\n",
            "\n",
            "EPOCH: 12\n"
          ],
          "name": "stdout"
        },
        {
          "output_type": "stream",
          "text": [
            "Train Set: Train Loss=0.02361828088760376 Batch_id=937 Accuracy=99.15: 100%|██████████| 938/938 [00:14<00:00, 63.66it/s]\n",
            "  0%|          | 0/938 [00:00<?, ?it/s]"
          ],
          "name": "stderr"
        },
        {
          "output_type": "stream",
          "text": [
            "\n",
            "Test set: Average loss: 0.0177, Accuracy: 9950/10000 (99.50%)\n",
            "\n",
            "EPOCH: 13\n"
          ],
          "name": "stdout"
        },
        {
          "output_type": "stream",
          "text": [
            "Train Set: Train Loss=0.014323264360427856 Batch_id=937 Accuracy=99.14: 100%|██████████| 938/938 [00:14<00:00, 64.16it/s]\n",
            "  0%|          | 0/938 [00:00<?, ?it/s]"
          ],
          "name": "stderr"
        },
        {
          "output_type": "stream",
          "text": [
            "\n",
            "Test set: Average loss: 0.0200, Accuracy: 9941/10000 (99.41%)\n",
            "\n",
            "EPOCH: 14\n"
          ],
          "name": "stdout"
        },
        {
          "output_type": "stream",
          "text": [
            "Train Set: Train Loss=0.08445188403129578 Batch_id=937 Accuracy=99.20: 100%|██████████| 938/938 [00:15<00:00, 62.28it/s]\n"
          ],
          "name": "stderr"
        },
        {
          "output_type": "stream",
          "text": [
            "\n",
            "Test set: Average loss: 0.0187, Accuracy: 9944/10000 (99.44%)\n",
            "\n",
            "Train loss:  [0.07279279828071594, 0.06675375252962112, 0.03062346577644348, 0.009872883558273315, 0.016279876232147217, 0.005090087652206421, 0.05121275782585144, 0.034058719873428345, 0.05687260627746582, 0.048510968685150146, 0.0046535879373550415, 0.02361828088760376, 0.014323264360427856, 0.08445188403129578]\n",
            "Test loss:  [0.07787879683971405, 0.0390258985042572, 0.05188203489780426, 0.030096834564208984, 0.02755422043800354, 0.027831522083282472, 0.02434769859313965, 0.022830949449539183, 0.022739779376983644, 0.017922511100769044, 0.024596883153915405, 0.017711749124526978, 0.019957317876815796, 0.01873582663536072]\n",
            "Difference in loss :  [-0.005085998558998106, 0.027727854025363922, -0.02125856912136078, -0.02022395100593567, -0.011274344205856324, -0.02274143443107605, 0.02686505923271179, 0.011227770423889161, 0.03413282690048218, 0.030588457584381102, -0.019943295216560363, 0.005906531763076782, -0.005634053516387939, 0.06571605739593506]\n",
            "Train Accuracy:  [89.53, 97.55, 98.26, 98.41, 98.67, 98.8, 98.81, 98.92, 98.94, 99.04, 99.05, 99.15, 99.14, 99.2]\n",
            "Test Accuracy:  [97.97, 98.98, 98.45, 99.14, 99.27, 99.16, 99.23, 99.33, 99.28, 99.45, 99.24, 99.5, 99.41, 99.44]\n",
            "Difference in Accuracy :  [-8.439999999999998, -1.4300000000000068, -0.18999999999999773, -0.730000000000004, -0.5999999999999943, -0.35999999999999943, -0.4200000000000017, -0.4099999999999966, -0.3400000000000034, -0.4099999999999966, -0.18999999999999773, -0.3499999999999943, -0.269999999999996, -0.23999999999999488]\n",
            "Maximum Train accuracy :  99.2\n",
            "Test accuracy :  99.5\n"
          ],
          "name": "stdout"
        },
        {
          "output_type": "display_data",
          "data": {
            "image/png": "[encoded data removed]",
            "text/plain": [
              "<Figure size 1080x720 with 4 Axes>"
            ]
          },
          "metadata": {
            "tags": [],
            "needs_background": "light"
          }
        }
      ]
    },
    {
      "cell_type": "code",
      "metadata": {
        "id": "-sRCyGf0rmR-",
        "colab_type": "code",
        "colab": {}
      },
      "source": [
        ""
      ],
      "execution_count": 0,
      "outputs": []
    },
    {
      "cell_type": "code",
      "metadata": {
        "id": "pasp9qv_dsdq",
        "colab_type": "code",
        "colab": {}
      },
      "source": [
        ""
      ],
      "execution_count": 0,
      "outputs": []
    }
  ]
}