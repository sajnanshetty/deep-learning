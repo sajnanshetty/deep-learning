{
  "nbformat": 4,
  "nbformat_minor": 0,
  "metadata": {
    "colab": {
      "name": "EVA4 - Session5_file2.ipynb",
      "provenance": []
    },
    "kernelspec": {
      "name": "python3",
      "display_name": "Python 3"
    },
    "accelerator": "GPU"
  },
  "cells": [
    {
      "cell_type": "code",
      "metadata": {
        "id": "Rlk6b3gY15rh",
        "colab_type": "code",
        "outputId": "3c12691c-581d-4259-f3a5-679d0fcbf7de",
        "colab": {
          "base_uri": "https://localhost:8080/",
          "height": 35
        }
      },
      "source": [
        "!pip install torchsummary\n",
        "from torchsummary import summary\n",
        "from tqdm import tqdm\n",
        "from __future__ import print_function\n",
        "import torch\n",
        "import torch.nn as nn\n",
        "import torch.nn.functional as F\n",
        "import torch.optim as optim\n",
        "from torchvision import datasets, transforms\n",
        "%matplotlib inline\n",
        "import matplotlib.pyplot as plt\n",
        "\n",
        "class Helper(object):\n",
        "\n",
        "    def __init__(self):\n",
        "        self.train_losses = []\n",
        "        self.test_losses = []\n",
        "        self.train_acc = []\n",
        "        self.test_acc = []\n",
        "        self.train_min_loss = []\n",
        "        self.train_max_acc = []\n",
        "\n",
        "    @staticmethod\n",
        "    def get_device():\n",
        "        use_cuda = torch.cuda.is_available()\n",
        "        device = torch.device(\"cuda\" if use_cuda else \"cpu\")\n",
        "        return device\n",
        "\n",
        "    @staticmethod\n",
        "    def display_summary(model_obj, input_image_size):\n",
        "        # model_obj: class objec\n",
        "        # input_image_size: type int size of the image\n",
        "        device = Helper.get_device()\n",
        "        print(\"device\")\n",
        "        model = model_obj.to(device)\n",
        "        summary(model, input_size=(1, input_image_size, input_image_size))\n",
        "\n",
        "    @staticmethod\n",
        "    def get_train_transforms(mean=0.1307, std=0.3081):\n",
        "        # Train Phase transformations\n",
        "        train_transforms = transforms.Compose([\n",
        "            #  transforms.Resize((28, 28)),\n",
        "            #  transforms.ColorJitter(brightness=0.10, contrast=0.1, saturation=0.10, hue=0.1),\n",
        "            transforms.ToTensor(),\n",
        "            transforms.Normalize((mean,), (std,))  # The mean and std have to be sequences (e.g., tuples), therefore you should add a comma after the values.\n",
        "            # Note the difference between (0.1307) and (0.1307,)\n",
        "        ])\n",
        "        return train_transforms\n",
        "\n",
        "    @staticmethod\n",
        "    def get_test_transforms(mean=0.1307, std=0.3081):\n",
        "        # Test Phase transformations\n",
        "        test_transforms = transforms.Compose([\n",
        "            #  transforms.Resize((28, 28)),\n",
        "            #  transforms.ColorJitter(brightness=0.10, contrast=0.1, saturation=0.10, hue=0.1),\n",
        "            transforms.ToTensor(),\n",
        "            transforms.Normalize((mean,), (std,))\n",
        "        ])\n",
        "        return test_transforms\n",
        "\n",
        "\n",
        "    @staticmethod\n",
        "    def get_mean_std(path='./data', print_log=False, display_log=True):\n",
        "        # simple transform\n",
        "        simple_transforms = transforms.Compose([\n",
        "            transforms.ToTensor(),\n",
        "        ])\n",
        "        exp = datasets.MNIST(path, train=True, download=True, transform=simple_transforms)\n",
        "        exp_data = exp.train_data\n",
        "        exp_data = exp.transform(exp_data.numpy())\n",
        "        mean = torch.mean(exp_data)\n",
        "        std =  torch.std(exp_data)\n",
        "        if display_log:\n",
        "          print('[Train]')\n",
        "          print(' - Numpy Shape:', exp.train_data.cpu().numpy().shape)\n",
        "          print(' - Tensor Shape:', exp.train_data.size())\n",
        "          print(' - min:', torch.min(exp_data))\n",
        "          print(' - max:', torch.max(exp_data))\n",
        "          print(' - mean:', mean)\n",
        "          print(' - std:', std)\n",
        "          print(' - var:', torch.var(exp_data))\n",
        "        return mean, std\n",
        "\n",
        "    # First step\n",
        "    def get_train_test_data_set(self, train_transforms=None, test_transforms=None, path='./data', display_log=False):\n",
        "        mean, std = Helper.get_mean_std(path=path, display_log=display_log)\n",
        "        if train_transforms is None:\n",
        "            train_transforms = Helper.get_test_transforms(mean, std)\n",
        "        if test_transforms is None:\n",
        "            test_transforms = Helper.get_test_transforms(mean, std)\n",
        "        train = datasets.MNIST(path, train=True, download=True, transform=train_transforms)\n",
        "        test = datasets.MNIST(path, train=False, download=True, transform=test_transforms)\n",
        "        return train, test\n",
        "\n",
        "    def view_images(self, path='./data', num_of_images=60, display_log=True):\n",
        "        # We'd need to convert it into Numpy! Remember above we have converted it into tensors already\n",
        "        print(\"The initial stastics:\")\n",
        "        train, test = self.get_train_test_data_set(path=path, display_log=True)\n",
        "        train_data = train.train_data\n",
        "        train_data = train.transform(train_data.numpy())\n",
        "\n",
        "        print('Image data stastics')\n",
        "        print(' - Numpy Shape:', train.train_data.cpu().numpy().shape)\n",
        "        print(' - Tensor Shape:', train.train_data.size())\n",
        "        print(' - min:', torch.min(train_data))\n",
        "        print(' - max:', torch.max(train_data))\n",
        "        print(' - mean:', torch.mean(train_data))\n",
        "        print(' - std:', torch.std(train_data))\n",
        "        print(' - var:', torch.var(train_data))\n",
        "\n",
        "        train_loader, test_loader = self.get_data_loader(train, test, batch_size=128)\n",
        "        dataiter = iter(train_loader)\n",
        "        images, labels = dataiter.next()\n",
        "\n",
        "        print(images.shape)\n",
        "        print(labels.shape)\n",
        "\n",
        "        plt.imshow(images[0].numpy().squeeze(), cmap='gray_r')\n",
        "        print(\"\")\n",
        "        self.view_defined_images(images, num_of_images)\n",
        "\n",
        "\n",
        "    def view_defined_images(self, images, num_of_images):\n",
        "        figure = plt.figure()\n",
        "        for index in range(1, num_of_images + 1):\n",
        "            plt.subplot(6, 10, index)\n",
        "            plt.axis('off')\n",
        "            plt.imshow(images[index].numpy().squeeze(), cmap='gray_r')\n",
        "\n",
        "    def get_data_loader(self, train, test, batch_size=128):\n",
        "        SEED = 1\n",
        "        # CUDA?\n",
        "        cuda = torch.cuda.is_available()\n",
        "        print(\"CUDA Available?\", cuda)\n",
        "\n",
        "        # For reproducibility\n",
        "        torch.manual_seed(SEED)\n",
        "\n",
        "        if cuda:\n",
        "            torch.cuda.manual_seed(SEED)\n",
        "\n",
        "        # dataloader arguments - something you'll fetch these from cmdprmt\n",
        "        dataloader_args = dict(shuffle=True, batch_size=batch_size, num_workers=4, pin_memory=True) if cuda else dict(shuffle=True, batch_size=64)\n",
        "\n",
        "        # train dataloader\n",
        "        train_loader = torch.utils.data.DataLoader(train, **dataloader_args)\n",
        "\n",
        "        # test dataloader\n",
        "        test_loader = torch.utils.data.DataLoader(test, **dataloader_args)\n",
        "        return train_loader, test_loader\n",
        "\n",
        "    def train(self, model, device, train_loader, optimizer, epoch):\n",
        "      model.train()\n",
        "      pbar = tqdm(train_loader)\n",
        "      correct = 0\n",
        "      processed = 0\n",
        "      for batch_idx, (data, target) in enumerate(pbar):\n",
        "        # get samples\n",
        "        data, target = data.to(device), target.to(device)\n",
        "\n",
        "        # Init\n",
        "        optimizer.zero_grad()\n",
        "        # In PyTorch, we need to set the gradients to zero before starting to do backpropragation because PyTorch accumulates the gradients on subsequent backward passes. \n",
        "        # Because of this, when you start your training loop, ideally you should zero out the gradients so that you do the parameter update correctly.\n",
        "\n",
        "        # Predict\n",
        "        y_pred = model(data)\n",
        "\n",
        "        # Calculate loss\n",
        "        loss = F.nll_loss(y_pred, target)\n",
        "        self.train_losses.append(loss.item())\n",
        "\n",
        "        # Backpropagation\n",
        "        loss.backward()\n",
        "        optimizer.step()\n",
        "\n",
        "        # Update pbar-tqdm\n",
        "        \n",
        "        pred = y_pred.argmax(dim=1, keepdim=True)  # get the index of the max log-probability\n",
        "        correct += pred.eq(target.view_as(pred)).sum().item()\n",
        "        processed += len(data)\n",
        "\n",
        "        pbar.set_description(desc= f'Train Set: Train Loss={loss.item()} Batch_id={batch_idx} Accuracy={100*correct/processed:0.2f}')\n",
        "        acc = float(\"{:.2f}\".format(100*correct/processed))\n",
        "        #self.train_acc.append(100*correct/processed)\n",
        "        self.train_acc.append(acc)\n",
        "\n",
        "    def test(self, model, device, test_loader):\n",
        "        model.eval()\n",
        "        test_loss = 0\n",
        "        correct = 0\n",
        "        with torch.no_grad():\n",
        "            for data, target in test_loader:\n",
        "                data, target = data.to(device), target.to(device)\n",
        "                output = model(data)\n",
        "                test_loss += F.nll_loss(output, target, reduction='sum').item()  # sum up batch loss\n",
        "                pred = output.argmax(dim=1, keepdim=True)  # get the index of the max log-probability\n",
        "                correct += pred.eq(target.view_as(pred)).sum().item()\n",
        "\n",
        "        test_loss /= len(test_loader.dataset)\n",
        "        self.test_losses.append(test_loss)\n",
        "\n",
        "        print('\\nTest set: Average loss: {:.4f}, Accuracy: {}/{} ({:.2f}%)\\n'.format(\n",
        "            test_loss, correct, len(test_loader.dataset),\n",
        "            100. * correct / len(test_loader.dataset)))\n",
        "\n",
        "        self.test_acc.append(100. * correct / len(test_loader.dataset))\n",
        "\n",
        "\n",
        "    # second step\n",
        "    def train_test_model(self, model_obj, EPOCHS=20, batch_size=128, path='./data', optimizer=None):\n",
        "        # Train and test our model\n",
        "        device = Helper.get_device()\n",
        "        model = model_obj.to(device)\n",
        "        if optimizer is None:\n",
        "            optimizer = optim.SGD(model.parameters(), lr=0.01, momentum=0.9)\n",
        "        train, test =  self.get_train_test_data_set(path=path)\n",
        "        train_loader, test_loader = self.get_data_loader(train, test, batch_size)\n",
        "        for epoch in range(1, EPOCHS+1):\n",
        "            print(\"EPOCH:\", epoch)\n",
        "            self.train(model, device, train_loader, optimizer, epoch)\n",
        "            self.test(model, device, test_loader)\n",
        "            self.train_max_acc.append(self.train_acc[-1])\n",
        "            self.train_min_loss.append(self.train_losses[-1])\n",
        "\n",
        "    @staticmethod\n",
        "    def calculate_diff(train, test):\n",
        "        zip_obj = zip(train, test)\n",
        "        diff = [train_i-test_i for train_i, test_i in zip_obj]\n",
        "        return diff\n",
        "\n",
        "    def display_plot(self):\n",
        "        try:\n",
        "            fig, axs = plt.subplots(2,2,figsize=(15,10))\n",
        "            axs[0, 0].plot(self.train_losses)\n",
        "            axs[0, 0].set_title(\"Training Loss\")\n",
        "            axs[1, 0].plot(self.train_acc)\n",
        "            axs[1, 0].set_title(\"Training Accuracy\")\n",
        "            axs[0, 1].plot(self.test_losses)\n",
        "            axs[0, 1].set_title(\"Test Loss\")\n",
        "            axs[1, 1].plot(self.test_acc)\n",
        "            axs[1, 1].set_title(\"Test Accuracy\")\n",
        "            print('Train loss: ',self.train_min_loss)\n",
        "            print('Test loss: ',self.test_losses)\n",
        "            print(\"Difference in loss : \", Helper.calculate_diff(self.train_min_loss, self.test_losses))\n",
        "            print('Train Accuracy: ',self.train_max_acc)\n",
        "            print('Test Accuracy: ',self.test_acc)\n",
        "            print(\"Difference in Accuracy : \", Helper.calculate_diff(self.train_max_acc, self.test_acc))\n",
        "        except Exception as e:\n",
        "            print(\"First train the model\")\n",
        "\n",
        "    def __enter__(self):\n",
        "        return self\n",
        "\n",
        "    def __exit__(self, exc_type, exc_value, traceback):\n",
        "        try:\n",
        "            return False\n",
        "        except Exception as e:\n",
        "            print(str(e))\n",
        "            pass"
      ],
      "execution_count": 0,
      "outputs": [
        {
          "output_type": "stream",
          "text": [
            "Requirement already satisfied: torchsummary in /usr/local/lib/python3.6/dist-packages (1.5.1)\n"
          ],
          "name": "stdout"
        }
      ]
    },
    {
      "cell_type": "code",
      "metadata": {
        "id": "A8aOvWI12GbP",
        "colab_type": "code",
        "colab": {}
      },
      "source": [
        "class Net2(nn.Module):\n",
        "    def __init__(self):\n",
        "        super(Net2, self).__init__()\n",
        "        # Input Block\n",
        "        self.convblock1 = nn.Sequential(\n",
        "            nn.Conv2d(in_channels=1, out_channels=10, kernel_size=(3, 3), padding=0, bias=False),\n",
        "            nn.BatchNorm2d(10),\n",
        "            nn.ReLU()\n",
        "        ) # output_size = 26\n",
        "\n",
        "        # CONVOLUTION BLOCK 1\n",
        "        self.convblock2 = nn.Sequential(\n",
        "            nn.Conv2d(in_channels=10, out_channels=10, kernel_size=(3, 3), padding=0, bias=False),\n",
        "            nn.BatchNorm2d(10),\n",
        "            nn.ReLU()\n",
        "        ) # output_size = 24\n",
        "        self.convblock3 = nn.Sequential(\n",
        "            nn.Conv2d(in_channels=10, out_channels=20, kernel_size=(3, 3), padding=0, bias=False),\n",
        "            nn.BatchNorm2d(20),\n",
        "            nn.ReLU()\n",
        "        ) # output_size = 22\n",
        "\n",
        "        # TRANSITION BLOCK 1\n",
        "        self.pool1 = nn.MaxPool2d(2, 2) # output_size = 11\n",
        "                # OUTPUT BLOCK\n",
        "        self.convblock4 = nn.Sequential(\n",
        "            nn.Conv2d(in_channels=20, out_channels=10, kernel_size=(1, 1), padding=0, bias=False),\n",
        "            nn.BatchNorm2d(10),\n",
        "            nn.ReLU()\n",
        "        ) # output_size = 11\n",
        "\n",
        "        # CONVOLUTION BLOCK 2\n",
        "        self.convblock5 = nn.Sequential(\n",
        "            nn.Conv2d(in_channels=10, out_channels=10, kernel_size=(3, 3), padding=0, bias=False),\n",
        "            nn.BatchNorm2d(10),\n",
        "            nn.ReLU()\n",
        "        ) # output_size = 9\n",
        "        self.convblock6 = nn.Sequential(\n",
        "            nn.Conv2d(in_channels=10, out_channels=20, kernel_size=(3, 3), padding=0, bias=False),\n",
        "            nn.BatchNorm2d(20),\n",
        "            nn.ReLU()\n",
        "        ) # output_size = 7\n",
        "\n",
        "        # OUTPUT BLOCK\n",
        "        self.convblock7 = nn.Sequential(\n",
        "            nn.Conv2d(in_channels=20, out_channels=10, kernel_size=(1, 1), padding=0, bias=False),\n",
        "            nn.BatchNorm2d(10),\n",
        "            nn.ReLU()\n",
        "        ) # output_size = 7\n",
        "        self.convblock8 = nn.Sequential(\n",
        "            nn.Conv2d(in_channels=10, out_channels=10, kernel_size=(7, 7), padding=0, bias=False),\n",
        "            # nn.BatchNorm2d(10), NEVER\n",
        "            # nn.ReLU() NEVER!\n",
        "        ) # output_size = 1\n",
        "    def forward(self, x):\n",
        "        x = self.convblock1(x)\n",
        "        x = self.convblock2(x)\n",
        "        x = self.convblock3(x)\n",
        "        x = self.pool1(x)\n",
        "        x = self.convblock4(x)\n",
        "        x = self.convblock5(x)\n",
        "        x = self.convblock6(x)\n",
        "        x = self.convblock7(x)\n",
        "        x = self.convblock8(x)\n",
        "        x = x.view(-1, 10)\n",
        "        return F.log_softmax(x, dim=-1)"
      ],
      "execution_count": 0,
      "outputs": []
    },
    {
      "cell_type": "code",
      "metadata": {
        "id": "wCHeuOHc3oI7",
        "colab_type": "code",
        "outputId": "0e6d483a-8e7e-40f3-c91c-f384bc518852",
        "colab": {
          "base_uri": "https://localhost:8080/",
          "height": 1000
        }
      },
      "source": [
        "with Helper() as helper_obj:\n",
        "  obj1 = Net2()\n",
        "  helper_obj.display_summary(obj1, 28)\n",
        "  #helper_obj.view_images()\n",
        "  helper_obj.train_test_model(obj1, EPOCHS=15, batch_size=128)\n",
        "  helper_obj.display_plot()"
      ],
      "execution_count": 0,
      "outputs": [
        {
          "output_type": "stream",
          "text": [
            "device\n",
            "----------------------------------------------------------------\n",
            "        Layer (type)               Output Shape         Param #\n",
            "================================================================\n",
            "            Conv2d-1           [-1, 10, 26, 26]              90\n",
            "       BatchNorm2d-2           [-1, 10, 26, 26]              20\n",
            "              ReLU-3           [-1, 10, 26, 26]               0\n",
            "            Conv2d-4           [-1, 10, 24, 24]             900\n",
            "       BatchNorm2d-5           [-1, 10, 24, 24]              20\n",
            "              ReLU-6           [-1, 10, 24, 24]               0\n",
            "            Conv2d-7           [-1, 20, 22, 22]           1,800\n",
            "       BatchNorm2d-8           [-1, 20, 22, 22]              40\n",
            "              ReLU-9           [-1, 20, 22, 22]               0\n",
            "        MaxPool2d-10           [-1, 20, 11, 11]               0\n",
            "           Conv2d-11           [-1, 10, 11, 11]             200\n",
            "      BatchNorm2d-12           [-1, 10, 11, 11]              20\n",
            "             ReLU-13           [-1, 10, 11, 11]               0\n",
            "           Conv2d-14             [-1, 10, 9, 9]             900\n",
            "      BatchNorm2d-15             [-1, 10, 9, 9]              20\n",
            "             ReLU-16             [-1, 10, 9, 9]               0\n",
            "           Conv2d-17             [-1, 20, 7, 7]           1,800\n",
            "      BatchNorm2d-18             [-1, 20, 7, 7]              40\n",
            "             ReLU-19             [-1, 20, 7, 7]               0\n",
            "           Conv2d-20             [-1, 10, 7, 7]             200\n",
            "      BatchNorm2d-21             [-1, 10, 7, 7]              20\n",
            "             ReLU-22             [-1, 10, 7, 7]               0\n",
            "           Conv2d-23             [-1, 10, 1, 1]           4,900\n",
            "================================================================\n",
            "Total params: 10,970\n",
            "Trainable params: 10,970\n",
            "Non-trainable params: 0\n",
            "----------------------------------------------------------------\n",
            "Input size (MB): 0.00\n",
            "Forward/backward pass size (MB): 0.61\n",
            "Params size (MB): 0.04\n",
            "Estimated Total Size (MB): 0.65\n",
            "----------------------------------------------------------------\n"
          ],
          "name": "stdout"
        },
        {
          "output_type": "stream",
          "text": [
            "/usr/local/lib/python3.6/dist-packages/torchvision/datasets/mnist.py:55: UserWarning: train_data has been renamed data\n",
            "  warnings.warn(\"train_data has been renamed data\")\n",
            "  0%|          | 0/469 [00:00<?, ?it/s]"
          ],
          "name": "stderr"
        },
        {
          "output_type": "stream",
          "text": [
            "CUDA Available? True\n",
            "EPOCH: 1\n"
          ],
          "name": "stdout"
        },
        {
          "output_type": "stream",
          "text": [
            "Train Set: Train Loss=0.09498176723718643 Batch_id=468 Accuracy=94.15: 100%|██████████| 469/469 [00:15<00:00, 30.49it/s]\n",
            "  0%|          | 0/469 [00:00<?, ?it/s]"
          ],
          "name": "stderr"
        },
        {
          "output_type": "stream",
          "text": [
            "\n",
            "Test set: Average loss: 0.0618, Accuracy: 9805/10000 (98.05%)\n",
            "\n",
            "EPOCH: 2\n"
          ],
          "name": "stdout"
        },
        {
          "output_type": "stream",
          "text": [
            "Train Set: Train Loss=0.0682760551571846 Batch_id=468 Accuracy=98.29: 100%|██████████| 469/469 [00:15<00:00, 30.66it/s]\n",
            "  0%|          | 0/469 [00:00<?, ?it/s]"
          ],
          "name": "stderr"
        },
        {
          "output_type": "stream",
          "text": [
            "\n",
            "Test set: Average loss: 0.0461, Accuracy: 9869/10000 (98.69%)\n",
            "\n",
            "EPOCH: 3\n"
          ],
          "name": "stdout"
        },
        {
          "output_type": "stream",
          "text": [
            "Train Set: Train Loss=0.05459217727184296 Batch_id=468 Accuracy=98.77: 100%|██████████| 469/469 [00:15<00:00, 31.18it/s]\n",
            "  0%|          | 0/469 [00:00<?, ?it/s]"
          ],
          "name": "stderr"
        },
        {
          "output_type": "stream",
          "text": [
            "\n",
            "Test set: Average loss: 0.0340, Accuracy: 9892/10000 (98.92%)\n",
            "\n",
            "EPOCH: 4\n"
          ],
          "name": "stdout"
        },
        {
          "output_type": "stream",
          "text": [
            "Train Set: Train Loss=0.014920681715011597 Batch_id=468 Accuracy=98.95: 100%|██████████| 469/469 [00:15<00:00, 30.54it/s]\n",
            "  0%|          | 0/469 [00:00<?, ?it/s]"
          ],
          "name": "stderr"
        },
        {
          "output_type": "stream",
          "text": [
            "\n",
            "Test set: Average loss: 0.0337, Accuracy: 9883/10000 (98.83%)\n",
            "\n",
            "EPOCH: 5\n"
          ],
          "name": "stdout"
        },
        {
          "output_type": "stream",
          "text": [
            "Train Set: Train Loss=0.018449073657393456 Batch_id=468 Accuracy=99.16: 100%|██████████| 469/469 [00:14<00:00, 31.40it/s]\n",
            "  0%|          | 0/469 [00:00<?, ?it/s]"
          ],
          "name": "stderr"
        },
        {
          "output_type": "stream",
          "text": [
            "\n",
            "Test set: Average loss: 0.0297, Accuracy: 9910/10000 (99.10%)\n",
            "\n",
            "EPOCH: 6\n"
          ],
          "name": "stdout"
        },
        {
          "output_type": "stream",
          "text": [
            "Train Set: Train Loss=0.010723615996539593 Batch_id=468 Accuracy=99.27: 100%|██████████| 469/469 [00:15<00:00, 30.87it/s]\n",
            "  0%|          | 0/469 [00:00<?, ?it/s]"
          ],
          "name": "stderr"
        },
        {
          "output_type": "stream",
          "text": [
            "\n",
            "Test set: Average loss: 0.0359, Accuracy: 9877/10000 (98.77%)\n",
            "\n",
            "EPOCH: 7\n"
          ],
          "name": "stdout"
        },
        {
          "output_type": "stream",
          "text": [
            "Train Set: Train Loss=0.001377443433739245 Batch_id=468 Accuracy=99.33: 100%|██████████| 469/469 [00:15<00:00, 30.43it/s]\n",
            "  0%|          | 0/469 [00:00<?, ?it/s]"
          ],
          "name": "stderr"
        },
        {
          "output_type": "stream",
          "text": [
            "\n",
            "Test set: Average loss: 0.0332, Accuracy: 9897/10000 (98.97%)\n",
            "\n",
            "EPOCH: 8\n"
          ],
          "name": "stdout"
        },
        {
          "output_type": "stream",
          "text": [
            "Train Set: Train Loss=0.01000263262540102 Batch_id=468 Accuracy=99.41: 100%|██████████| 469/469 [00:14<00:00, 31.54it/s]\n",
            "  0%|          | 0/469 [00:00<?, ?it/s]"
          ],
          "name": "stderr"
        },
        {
          "output_type": "stream",
          "text": [
            "\n",
            "Test set: Average loss: 0.0290, Accuracy: 9905/10000 (99.05%)\n",
            "\n",
            "EPOCH: 9\n"
          ],
          "name": "stdout"
        },
        {
          "output_type": "stream",
          "text": [
            "Train Set: Train Loss=0.00922850240021944 Batch_id=468 Accuracy=99.48: 100%|██████████| 469/469 [00:15<00:00, 31.00it/s]\n",
            "  0%|          | 0/469 [00:00<?, ?it/s]"
          ],
          "name": "stderr"
        },
        {
          "output_type": "stream",
          "text": [
            "\n",
            "Test set: Average loss: 0.0266, Accuracy: 9920/10000 (99.20%)\n",
            "\n",
            "EPOCH: 10\n"
          ],
          "name": "stdout"
        },
        {
          "output_type": "stream",
          "text": [
            "Train Set: Train Loss=0.02418769896030426 Batch_id=468 Accuracy=99.56: 100%|██████████| 469/469 [00:15<00:00, 30.71it/s]\n",
            "  0%|          | 0/469 [00:00<?, ?it/s]"
          ],
          "name": "stderr"
        },
        {
          "output_type": "stream",
          "text": [
            "\n",
            "Test set: Average loss: 0.0326, Accuracy: 9891/10000 (98.91%)\n",
            "\n",
            "EPOCH: 11\n"
          ],
          "name": "stdout"
        },
        {
          "output_type": "stream",
          "text": [
            "Train Set: Train Loss=0.0012089014053344727 Batch_id=468 Accuracy=99.62: 100%|██████████| 469/469 [00:15<00:00, 31.14it/s]\n",
            "  0%|          | 0/469 [00:00<?, ?it/s]"
          ],
          "name": "stderr"
        },
        {
          "output_type": "stream",
          "text": [
            "\n",
            "Test set: Average loss: 0.0273, Accuracy: 9919/10000 (99.19%)\n",
            "\n",
            "EPOCH: 12\n"
          ],
          "name": "stdout"
        },
        {
          "output_type": "stream",
          "text": [
            "Train Set: Train Loss=0.00574059272184968 Batch_id=468 Accuracy=99.67: 100%|██████████| 469/469 [00:14<00:00, 31.77it/s]\n",
            "  0%|          | 0/469 [00:00<?, ?it/s]"
          ],
          "name": "stderr"
        },
        {
          "output_type": "stream",
          "text": [
            "\n",
            "Test set: Average loss: 0.0317, Accuracy: 9896/10000 (98.96%)\n",
            "\n",
            "EPOCH: 13\n"
          ],
          "name": "stdout"
        },
        {
          "output_type": "stream",
          "text": [
            "Train Set: Train Loss=0.0065494379960000515 Batch_id=468 Accuracy=99.70: 100%|██████████| 469/469 [00:14<00:00, 32.08it/s]\n",
            "  0%|          | 0/469 [00:00<?, ?it/s]"
          ],
          "name": "stderr"
        },
        {
          "output_type": "stream",
          "text": [
            "\n",
            "Test set: Average loss: 0.0324, Accuracy: 9898/10000 (98.98%)\n",
            "\n",
            "EPOCH: 14\n"
          ],
          "name": "stdout"
        },
        {
          "output_type": "stream",
          "text": [
            "Train Set: Train Loss=0.0030000607948750257 Batch_id=468 Accuracy=99.73: 100%|██████████| 469/469 [00:15<00:00, 30.41it/s]\n",
            "  0%|          | 0/469 [00:00<?, ?it/s]"
          ],
          "name": "stderr"
        },
        {
          "output_type": "stream",
          "text": [
            "\n",
            "Test set: Average loss: 0.0273, Accuracy: 9909/10000 (99.09%)\n",
            "\n",
            "EPOCH: 15\n"
          ],
          "name": "stdout"
        },
        {
          "output_type": "stream",
          "text": [
            "Train Set: Train Loss=0.004320735577493906 Batch_id=468 Accuracy=99.77: 100%|██████████| 469/469 [00:14<00:00, 31.40it/s]\n"
          ],
          "name": "stderr"
        },
        {
          "output_type": "stream",
          "text": [
            "\n",
            "Test set: Average loss: 0.0272, Accuracy: 9920/10000 (99.20%)\n",
            "\n",
            "Train loss:  [0.09498176723718643, 0.0682760551571846, 0.05459217727184296, 0.014920681715011597, 0.018449073657393456, 0.010723615996539593, 0.001377443433739245, 0.01000263262540102, 0.00922850240021944, 0.02418769896030426, 0.0012089014053344727, 0.00574059272184968, 0.0065494379960000515, 0.0030000607948750257, 0.004320735577493906]\n",
            "Test loss:  [0.06184329867362976, 0.04614128663539886, 0.03404009737968445, 0.03374745626449585, 0.029701774144172667, 0.03594408829212189, 0.03319660153388977, 0.029017632293701173, 0.026562687039375307, 0.03261679842472076, 0.02734262022972107, 0.0317336407661438, 0.032379222083091734, 0.027260423755645753, 0.0271895521402359]\n",
            "Difference in loss :  [0.03313846856355667, 0.02213476852178574, 0.020552079892158508, -0.018826774549484254, -0.011252700486779212, -0.025220472295582295, -0.03181915810015053, -0.019014999668300153, -0.017334184639155866, -0.0084290994644165, -0.026133718824386597, -0.02599304804429412, -0.025829784087091683, -0.024260362960770727, -0.022868816562741996]\n",
            "Train Accuracy:  [94.15, 98.29, 98.77, 98.95, 99.16, 99.27, 99.33, 99.41, 99.48, 99.56, 99.62, 99.67, 99.7, 99.73, 99.77]\n",
            "Test Accuracy:  [98.05, 98.69, 98.92, 98.83, 99.1, 98.77, 98.97, 99.05, 99.2, 98.91, 99.19, 98.96, 98.98, 99.09, 99.2]\n",
            "Difference in Accuracy :  [-3.8999999999999915, -0.3999999999999915, -0.15000000000000568, 0.12000000000000455, 0.060000000000002274, 0.5, 0.35999999999999943, 0.35999999999999943, 0.28000000000000114, 0.6500000000000057, 0.4300000000000068, 0.710000000000008, 0.7199999999999989, 0.6400000000000006, 0.5699999999999932]\n"
          ],
          "name": "stdout"
        },
        {
          "output_type": "display_data",
          "data": {
            "image/png": "[encoded data removed]",
            "text/plain": [
              "<Figure size 1080x720 with 4 Axes>"
            ]
          },
          "metadata": {
            "tags": [],
            "needs_background": "light"
          }
        }
      ]
    },
    {
      "cell_type": "code",
      "metadata": {
        "id": "kpNCCWS14i2S",
        "colab_type": "code",
        "colab": {}
      },
      "source": [
        ""
      ],
      "execution_count": 0,
      "outputs": []
    },
    {
      "cell_type": "code",
      "metadata": {
        "id": "9LdAiYT-5Me2",
        "colab_type": "code",
        "colab": {}
      },
      "source": [
        ""
      ],
      "execution_count": 0,
      "outputs": []
    }
  ]
}