{
  "nbformat": 4,
  "nbformat_minor": 0,
  "metadata": {
    "colab": {
      "name": "EVA4 - Session5_file1.ipynb",
      "provenance": [],
      "collapsed_sections": []
    },
    "kernelspec": {
      "name": "python3",
      "display_name": "Python 3"
    },
    "accelerator": "GPU"
  },
  "cells": [
    {
      "cell_type": "code",
      "metadata": {
        "id": "Ll5grumbqT9H",
        "colab_type": "code",
        "colab": {
          "base_uri": "https://localhost:8080/",
          "height": 35
        },
        "outputId": "a30f185b-5cbb-4149-cf4e-ae8e4de91e2d"
      },
      "source": [
        "!pip install torchsummary\n",
        "from torchsummary import summary\n",
        "from tqdm import tqdm\n",
        "from __future__ import print_function\n",
        "import torch\n",
        "import torch.nn as nn\n",
        "import torch.nn.functional as F\n",
        "import torch.optim as optim\n",
        "from torchvision import datasets, transforms\n",
        "%matplotlib inline\n",
        "import matplotlib.pyplot as plt\n",
        "\n",
        "class Helper(object):\n",
        "\n",
        "    def __init__(self):\n",
        "        self.train_losses = []\n",
        "        self.test_losses = []\n",
        "        self.train_acc = []\n",
        "        self.test_acc = []\n",
        "        self.train_min_loss = []\n",
        "        self.train_max_acc = []\n",
        "\n",
        "    @staticmethod\n",
        "    def get_device():\n",
        "        use_cuda = torch.cuda.is_available()\n",
        "        device = torch.device(\"cuda\" if use_cuda else \"cpu\")\n",
        "        return device\n",
        "\n",
        "    @staticmethod\n",
        "    def display_summary(model_obj, input_image_size):\n",
        "        # model_obj: class objec\n",
        "        # input_image_size: type int size of the image\n",
        "        device = Helper.get_device()\n",
        "        print(\"device\")\n",
        "        model = model_obj.to(device)\n",
        "        summary(model, input_size=(1, input_image_size, input_image_size))\n",
        "\n",
        "    @staticmethod\n",
        "    def get_train_transforms(mean=0.1307, std=0.3081):\n",
        "        # Train Phase transformations\n",
        "        train_transforms = transforms.Compose([\n",
        "            #  transforms.Resize((28, 28)),\n",
        "            #  transforms.ColorJitter(brightness=0.10, contrast=0.1, saturation=0.10, hue=0.1),\n",
        "            transforms.ToTensor(),\n",
        "            transforms.Normalize((mean,), (std,))  # The mean and std have to be sequences (e.g., tuples), therefore you should add a comma after the values.\n",
        "            # Note the difference between (0.1307) and (0.1307,)\n",
        "        ])\n",
        "        return train_transforms\n",
        "\n",
        "    @staticmethod\n",
        "    def get_test_transforms(mean=0.1307, std=0.3081):\n",
        "        # Test Phase transformations\n",
        "        test_transforms = transforms.Compose([\n",
        "            #  transforms.Resize((28, 28)),\n",
        "            #  transforms.ColorJitter(brightness=0.10, contrast=0.1, saturation=0.10, hue=0.1),\n",
        "            transforms.ToTensor(),\n",
        "            transforms.Normalize((mean,), (std,))\n",
        "        ])\n",
        "        return test_transforms\n",
        "\n",
        "\n",
        "    @staticmethod\n",
        "    def get_mean_std(path='./data', print_log=False, display_log=True):\n",
        "        # simple transform\n",
        "        simple_transforms = transforms.Compose([\n",
        "            transforms.ToTensor(),\n",
        "        ])\n",
        "        exp = datasets.MNIST(path, train=True, download=True, transform=simple_transforms)\n",
        "        exp_data = exp.train_data\n",
        "        exp_data = exp.transform(exp_data.numpy())\n",
        "        mean = torch.mean(exp_data)\n",
        "        std =  torch.std(exp_data)\n",
        "        if display_log:\n",
        "          print('[Train]')\n",
        "          print(' - Numpy Shape:', exp.train_data.cpu().numpy().shape)\n",
        "          print(' - Tensor Shape:', exp.train_data.size())\n",
        "          print(' - min:', torch.min(exp_data))\n",
        "          print(' - max:', torch.max(exp_data))\n",
        "          print(' - mean:', mean)\n",
        "          print(' - std:', std)\n",
        "          print(' - var:', torch.var(exp_data))\n",
        "        return mean, std\n",
        "\n",
        "    # First step\n",
        "    def get_train_test_data_set(self, train_transforms=None, test_transforms=None, path='./data', display_log=False):\n",
        "        mean, std = Helper.get_mean_std(path=path, display_log=display_log)\n",
        "        if train_transforms is None:\n",
        "            train_transforms = Helper.get_test_transforms(mean, std)\n",
        "        if test_transforms is None:\n",
        "            test_transforms = Helper.get_test_transforms(mean, std)\n",
        "        train = datasets.MNIST(path, train=True, download=True, transform=train_transforms)\n",
        "        test = datasets.MNIST(path, train=False, download=True, transform=test_transforms)\n",
        "        return train, test\n",
        "\n",
        "    def view_images(self, path='./data', num_of_images=60, display_log=True):\n",
        "        # We'd need to convert it into Numpy! Remember above we have converted it into tensors already\n",
        "        print(\"The initial stastics:\")\n",
        "        train, test = self.get_train_test_data_set(path=path, display_log=True)\n",
        "        train_data = train.train_data\n",
        "        train_data = train.transform(train_data.numpy())\n",
        "\n",
        "        print('Image data stastics')\n",
        "        print(' - Numpy Shape:', train.train_data.cpu().numpy().shape)\n",
        "        print(' - Tensor Shape:', train.train_data.size())\n",
        "        print(' - min:', torch.min(train_data))\n",
        "        print(' - max:', torch.max(train_data))\n",
        "        print(' - mean:', torch.mean(train_data))\n",
        "        print(' - std:', torch.std(train_data))\n",
        "        print(' - var:', torch.var(train_data))\n",
        "\n",
        "        train_loader, test_loader = self.get_data_loader(train, test, batch_size=128)\n",
        "        dataiter = iter(train_loader)\n",
        "        images, labels = dataiter.next()\n",
        "\n",
        "        print(images.shape)\n",
        "        print(labels.shape)\n",
        "\n",
        "        plt.imshow(images[0].numpy().squeeze(), cmap='gray_r')\n",
        "        print(\"\")\n",
        "        self.view_defined_images(images, num_of_images)\n",
        "\n",
        "\n",
        "    def view_defined_images(self, images, num_of_images):\n",
        "        figure = plt.figure()\n",
        "        for index in range(1, num_of_images + 1):\n",
        "            plt.subplot(6, 10, index)\n",
        "            plt.axis('off')\n",
        "            plt.imshow(images[index].numpy().squeeze(), cmap='gray_r')\n",
        "\n",
        "    def get_data_loader(self, train, test, batch_size=128):\n",
        "        SEED = 1\n",
        "        # CUDA?\n",
        "        cuda = torch.cuda.is_available()\n",
        "        print(\"CUDA Available?\", cuda)\n",
        "\n",
        "        # For reproducibility\n",
        "        torch.manual_seed(SEED)\n",
        "\n",
        "        if cuda:\n",
        "            torch.cuda.manual_seed(SEED)\n",
        "\n",
        "        # dataloader arguments - something you'll fetch these from cmdprmt\n",
        "        dataloader_args = dict(shuffle=True, batch_size=batch_size, num_workers=4, pin_memory=True) if cuda else dict(shuffle=True, batch_size=64)\n",
        "\n",
        "        # train dataloader\n",
        "        train_loader = torch.utils.data.DataLoader(train, **dataloader_args)\n",
        "\n",
        "        # test dataloader\n",
        "        test_loader = torch.utils.data.DataLoader(test, **dataloader_args)\n",
        "        return train_loader, test_loader\n",
        "\n",
        "    def train(self, model, device, train_loader, optimizer, epoch):\n",
        "      model.train()\n",
        "      pbar = tqdm(train_loader)\n",
        "      correct = 0\n",
        "      processed = 0\n",
        "      for batch_idx, (data, target) in enumerate(pbar):\n",
        "        # get samples\n",
        "        data, target = data.to(device), target.to(device)\n",
        "\n",
        "        # Init\n",
        "        optimizer.zero_grad()\n",
        "        # In PyTorch, we need to set the gradients to zero before starting to do backpropragation because PyTorch accumulates the gradients on subsequent backward passes. \n",
        "        # Because of this, when you start your training loop, ideally you should zero out the gradients so that you do the parameter update correctly.\n",
        "\n",
        "        # Predict\n",
        "        y_pred = model(data)\n",
        "\n",
        "        # Calculate loss\n",
        "        loss = F.nll_loss(y_pred, target)\n",
        "        self.train_losses.append(loss.item())\n",
        "\n",
        "        # Backpropagation\n",
        "        loss.backward()\n",
        "        optimizer.step()\n",
        "\n",
        "        # Update pbar-tqdm\n",
        "        \n",
        "        pred = y_pred.argmax(dim=1, keepdim=True)  # get the index of the max log-probability\n",
        "        correct += pred.eq(target.view_as(pred)).sum().item()\n",
        "        processed += len(data)\n",
        "\n",
        "        pbar.set_description(desc= f'Train Set: Train Loss={loss.item()} Batch_id={batch_idx} Accuracy={100*correct/processed:0.2f}')\n",
        "        acc = float(\"{:.2f}\".format(100*correct/processed))\n",
        "        #self.train_acc.append(100*correct/processed)\n",
        "        self.train_acc.append(acc)\n",
        "\n",
        "    def test(self, model, device, test_loader):\n",
        "        model.eval()\n",
        "        test_loss = 0\n",
        "        correct = 0\n",
        "        with torch.no_grad():\n",
        "            for data, target in test_loader:\n",
        "                data, target = data.to(device), target.to(device)\n",
        "                output = model(data)\n",
        "                test_loss += F.nll_loss(output, target, reduction='sum').item()  # sum up batch loss\n",
        "                pred = output.argmax(dim=1, keepdim=True)  # get the index of the max log-probability\n",
        "                correct += pred.eq(target.view_as(pred)).sum().item()\n",
        "\n",
        "        test_loss /= len(test_loader.dataset)\n",
        "        self.test_losses.append(test_loss)\n",
        "\n",
        "        print('\\nTest set: Average loss: {:.4f}, Accuracy: {}/{} ({:.2f}%)\\n'.format(\n",
        "            test_loss, correct, len(test_loader.dataset),\n",
        "            100. * correct / len(test_loader.dataset)))\n",
        "\n",
        "        self.test_acc.append(100. * correct / len(test_loader.dataset))\n",
        "\n",
        "\n",
        "    # second step\n",
        "    def train_test_model(self, model_obj, EPOCHS=20, batch_size=128, path='./data', optimizer=None):\n",
        "        # Train and test our model\n",
        "        device = Helper.get_device()\n",
        "        model = model_obj.to(device)\n",
        "        if optimizer is None:\n",
        "            optimizer = optim.SGD(model.parameters(), lr=0.01, momentum=0.9)\n",
        "        train, test =  self.get_train_test_data_set(path=path)\n",
        "        train_loader, test_loader = self.get_data_loader(train, test, batch_size)\n",
        "        for epoch in range(1, EPOCHS+1):\n",
        "            print(\"EPOCH:\", epoch)\n",
        "            self.train(model, device, train_loader, optimizer, epoch)\n",
        "            self.test(model, device, test_loader)\n",
        "            self.train_max_acc.append(self.train_acc[-1])\n",
        "            self.train_min_loss.append(self.train_losses[-1])\n",
        "\n",
        "    @staticmethod\n",
        "    def calculate_diff(train, test):\n",
        "        zip_obj = zip(train, test)\n",
        "        diff = [train_i-test_i for train_i, test_i in zip_obj]\n",
        "        return diff\n",
        "\n",
        "    def display_plot(self):\n",
        "        try:\n",
        "            fig, axs = plt.subplots(2,2,figsize=(15,10))\n",
        "            axs[0, 0].plot(self.train_losses)\n",
        "            axs[0, 0].set_title(\"Training Loss\")\n",
        "            axs[1, 0].plot(self.train_acc)\n",
        "            axs[1, 0].set_title(\"Training Accuracy\")\n",
        "            axs[0, 1].plot(self.test_losses)\n",
        "            axs[0, 1].set_title(\"Test Loss\")\n",
        "            axs[1, 1].plot(self.test_acc)\n",
        "            axs[1, 1].set_title(\"Test Accuracy\")\n",
        "            print('Train loss: ',self.train_min_loss)\n",
        "            print('Test loss: ',self.test_losses)\n",
        "            print(\"Difference in loss : \", Helper.calculate_diff(self.train_min_loss, self.test_losses))\n",
        "            print('Train Accuracy: ',self.train_max_acc)\n",
        "            print('Test Accuracy: ',self.test_acc)\n",
        "            print(\"Difference in Accuracy : \", Helper.calculate_diff(self.train_max_acc, self.test_acc))\n",
        "        except Exception as e:\n",
        "            print(\"First train the model\")\n",
        "\n",
        "    def __enter__(self):\n",
        "        return self\n",
        "\n",
        "    def __exit__(self, exc_type, exc_value, traceback):\n",
        "        try:\n",
        "            return False\n",
        "        except Exception as e:\n",
        "            print(str(e))\n",
        "            pass"
      ],
      "execution_count": 1,
      "outputs": [
        {
          "output_type": "stream",
          "text": [
            "Requirement already satisfied: torchsummary in /usr/local/lib/python3.6/dist-packages (1.5.1)\n"
          ],
          "name": "stdout"
        }
      ]
    },
    {
      "cell_type": "code",
      "metadata": {
        "id": "5C4mxxbzrAq4",
        "colab_type": "code",
        "colab": {}
      },
      "source": [
        "class Net1(nn.Module):\n",
        "    def __init__(self):\n",
        "        super(Net1, self).__init__()\n",
        "        self.conv1 = nn.Conv2d(1, 32, 3, padding=1) #input -? OUtput? RF\n",
        "        self.conv2 = nn.Conv2d(32, 64, 3, padding=1)\n",
        "        self.pool1 = nn.MaxPool2d(2, 2)\n",
        "        self.conv3 = nn.Conv2d(64, 128, 3, padding=1)\n",
        "        self.conv4 = nn.Conv2d(128, 256, 3, padding=1)\n",
        "        self.pool2 = nn.MaxPool2d(2, 2)\n",
        "        self.conv5 = nn.Conv2d(256, 512, 3)\n",
        "        self.conv6 = nn.Conv2d(512, 1024, 3)\n",
        "        self.conv7 = nn.Conv2d(1024, 10, 3)\n",
        "\n",
        "    def forward(self, x):\n",
        "        x = self.pool1(F.relu(self.conv2(F.relu(self.conv1(x)))))\n",
        "        x = self.pool2(F.relu(self.conv4(F.relu(self.conv3(x)))))\n",
        "        x = F.relu(self.conv6(F.relu(self.conv5(x))))\n",
        "        x = self.conv7(x)\n",
        "        x = x.view(-1, 10)\n",
        "        return F.log_softmax(x, dim=-1)"
      ],
      "execution_count": 0,
      "outputs": []
    },
    {
      "cell_type": "code",
      "metadata": {
        "id": "p54BAQfYrOlO",
        "colab_type": "code",
        "colab": {
          "base_uri": "https://localhost:8080/",
          "height": 1000
        },
        "outputId": "7d318095-e2d6-4b96-88f1-ed4aa0e1b304"
      },
      "source": [
        "with Helper() as helper_obj:\n",
        "  obj1 = Net1()\n",
        "  helper_obj.display_summary(obj1, 28)\n",
        "  helper_obj.view_images()\n",
        "  helper_obj.train_test_model(obj1, EPOCHS=20)\n",
        "  helper_obj.display_plot()"
      ],
      "execution_count": 3,
      "outputs": [
        {
          "output_type": "stream",
          "text": [
            "device\n",
            "----------------------------------------------------------------\n",
            "        Layer (type)               Output Shape         Param #\n",
            "================================================================\n",
            "            Conv2d-1           [-1, 32, 28, 28]             320\n",
            "            Conv2d-2           [-1, 64, 28, 28]          18,496\n",
            "         MaxPool2d-3           [-1, 64, 14, 14]               0\n",
            "            Conv2d-4          [-1, 128, 14, 14]          73,856\n",
            "            Conv2d-5          [-1, 256, 14, 14]         295,168\n",
            "         MaxPool2d-6            [-1, 256, 7, 7]               0\n",
            "            Conv2d-7            [-1, 512, 5, 5]       1,180,160\n",
            "            Conv2d-8           [-1, 1024, 3, 3]       4,719,616\n",
            "            Conv2d-9             [-1, 10, 1, 1]          92,170\n",
            "================================================================\n",
            "Total params: 6,379,786\n",
            "Trainable params: 6,379,786\n",
            "Non-trainable params: 0\n",
            "----------------------------------------------------------------\n",
            "Input size (MB): 0.00\n",
            "Forward/backward pass size (MB): 1.51\n",
            "Params size (MB): 24.34\n",
            "Estimated Total Size (MB): 25.85\n",
            "----------------------------------------------------------------\n",
            "The initial stastics:\n"
          ],
          "name": "stdout"
        },
        {
          "output_type": "stream",
          "text": [
            "/usr/local/lib/python3.6/dist-packages/torchvision/datasets/mnist.py:55: UserWarning: train_data has been renamed data\n",
            "  warnings.warn(\"train_data has been renamed data\")\n"
          ],
          "name": "stderr"
        },
        {
          "output_type": "stream",
          "text": [
            "[Train]\n",
            " - Numpy Shape: (60000, 28, 28)\n",
            " - Tensor Shape: torch.Size([60000, 28, 28])\n",
            " - min: tensor(0.)\n",
            " - max: tensor(1.)\n",
            " - mean: tensor(0.1305)\n",
            " - std: tensor(0.3081)\n",
            " - var: tensor(0.0949)\n",
            "Image data stastics\n",
            " - Numpy Shape: (60000, 28, 28)\n",
            " - Tensor Shape: torch.Size([60000, 28, 28])\n",
            " - min: tensor(-0.4237)\n",
            " - max: tensor(2.8219)\n",
            " - mean: tensor(0.0016)\n",
            " - std: tensor(1.0000)\n",
            " - var: tensor(1.0000)\n",
            "CUDA Available? True\n",
            "torch.Size([128, 1, 28, 28])\n",
            "torch.Size([128])\n",
            "\n"
          ],
          "name": "stdout"
        },
        {
          "output_type": "stream",
          "text": [
            "\r  0%|          | 0/469 [00:00<?, ?it/s]"
          ],
          "name": "stderr"
        },
        {
          "output_type": "stream",
          "text": [
            "CUDA Available? True\n",
            "EPOCH: 1\n"
          ],
          "name": "stdout"
        },
        {
          "output_type": "stream",
          "text": [
            "Train Set: Train Loss=0.10697311908006668 Batch_id=468 Accuracy=84.65: 100%|██████████| 469/469 [00:19<00:00, 24.47it/s]\n",
            "  0%|          | 0/469 [00:00<?, ?it/s]"
          ],
          "name": "stderr"
        },
        {
          "output_type": "stream",
          "text": [
            "\n",
            "Test set: Average loss: 0.0626, Accuracy: 9806/10000 (98.06%)\n",
            "\n",
            "EPOCH: 2\n"
          ],
          "name": "stdout"
        },
        {
          "output_type": "stream",
          "text": [
            "Train Set: Train Loss=0.04308191314339638 Batch_id=468 Accuracy=98.20: 100%|██████████| 469/469 [00:19<00:00, 24.18it/s]\n",
            "  0%|          | 0/469 [00:00<?, ?it/s]"
          ],
          "name": "stderr"
        },
        {
          "output_type": "stream",
          "text": [
            "\n",
            "Test set: Average loss: 0.0523, Accuracy: 9833/10000 (98.33%)\n",
            "\n",
            "EPOCH: 3\n"
          ],
          "name": "stdout"
        },
        {
          "output_type": "stream",
          "text": [
            "Train Set: Train Loss=0.03999421373009682 Batch_id=468 Accuracy=98.86: 100%|██████████| 469/469 [00:19<00:00, 23.74it/s]\n",
            "  0%|          | 0/469 [00:00<?, ?it/s]"
          ],
          "name": "stderr"
        },
        {
          "output_type": "stream",
          "text": [
            "\n",
            "Test set: Average loss: 0.0317, Accuracy: 9891/10000 (98.91%)\n",
            "\n",
            "EPOCH: 4\n"
          ],
          "name": "stdout"
        },
        {
          "output_type": "stream",
          "text": [
            "Train Set: Train Loss=0.008621658198535442 Batch_id=468 Accuracy=99.17: 100%|██████████| 469/469 [00:19<00:00, 23.98it/s]\n",
            "  0%|          | 0/469 [00:00<?, ?it/s]"
          ],
          "name": "stderr"
        },
        {
          "output_type": "stream",
          "text": [
            "\n",
            "Test set: Average loss: 0.0345, Accuracy: 9886/10000 (98.86%)\n",
            "\n",
            "EPOCH: 5\n"
          ],
          "name": "stdout"
        },
        {
          "output_type": "stream",
          "text": [
            "Train Set: Train Loss=0.015313406474888325 Batch_id=468 Accuracy=99.41: 100%|██████████| 469/469 [00:19<00:00, 24.18it/s]\n",
            "  0%|          | 0/469 [00:00<?, ?it/s]"
          ],
          "name": "stderr"
        },
        {
          "output_type": "stream",
          "text": [
            "\n",
            "Test set: Average loss: 0.0261, Accuracy: 9917/10000 (99.17%)\n",
            "\n",
            "EPOCH: 6\n"
          ],
          "name": "stdout"
        },
        {
          "output_type": "stream",
          "text": [
            "Train Set: Train Loss=0.003619035007432103 Batch_id=468 Accuracy=99.51: 100%|██████████| 469/469 [00:19<00:00, 24.22it/s]\n",
            "  0%|          | 0/469 [00:00<?, ?it/s]"
          ],
          "name": "stderr"
        },
        {
          "output_type": "stream",
          "text": [
            "\n",
            "Test set: Average loss: 0.0283, Accuracy: 9907/10000 (99.07%)\n",
            "\n",
            "EPOCH: 7\n"
          ],
          "name": "stdout"
        },
        {
          "output_type": "stream",
          "text": [
            "Train Set: Train Loss=0.0017806589603424072 Batch_id=468 Accuracy=99.66: 100%|██████████| 469/469 [00:19<00:00, 24.08it/s]\n",
            "  0%|          | 0/469 [00:00<?, ?it/s]"
          ],
          "name": "stderr"
        },
        {
          "output_type": "stream",
          "text": [
            "\n",
            "Test set: Average loss: 0.0294, Accuracy: 9912/10000 (99.12%)\n",
            "\n",
            "EPOCH: 8\n"
          ],
          "name": "stdout"
        },
        {
          "output_type": "stream",
          "text": [
            "Train Set: Train Loss=0.009838610887527466 Batch_id=468 Accuracy=99.69: 100%|██████████| 469/469 [00:19<00:00, 24.06it/s]\n",
            "  0%|          | 0/469 [00:00<?, ?it/s]"
          ],
          "name": "stderr"
        },
        {
          "output_type": "stream",
          "text": [
            "\n",
            "Test set: Average loss: 0.0295, Accuracy: 9914/10000 (99.14%)\n",
            "\n",
            "EPOCH: 9\n"
          ],
          "name": "stdout"
        },
        {
          "output_type": "stream",
          "text": [
            "Train Set: Train Loss=0.002654383657500148 Batch_id=468 Accuracy=99.77: 100%|██████████| 469/469 [00:19<00:00, 24.18it/s]\n",
            "  0%|          | 0/469 [00:00<?, ?it/s]"
          ],
          "name": "stderr"
        },
        {
          "output_type": "stream",
          "text": [
            "\n",
            "Test set: Average loss: 0.0230, Accuracy: 9926/10000 (99.26%)\n",
            "\n",
            "EPOCH: 10\n"
          ],
          "name": "stdout"
        },
        {
          "output_type": "stream",
          "text": [
            "Train Set: Train Loss=0.011859267950057983 Batch_id=468 Accuracy=99.79: 100%|██████████| 469/469 [00:19<00:00, 24.28it/s]\n",
            "  0%|          | 0/469 [00:00<?, ?it/s]"
          ],
          "name": "stderr"
        },
        {
          "output_type": "stream",
          "text": [
            "\n",
            "Test set: Average loss: 0.0302, Accuracy: 9910/10000 (99.10%)\n",
            "\n",
            "EPOCH: 11\n"
          ],
          "name": "stdout"
        },
        {
          "output_type": "stream",
          "text": [
            "Train Set: Train Loss=0.0019473135471343994 Batch_id=468 Accuracy=99.88: 100%|██████████| 469/469 [00:19<00:00, 24.09it/s]\n",
            "  0%|          | 0/469 [00:00<?, ?it/s]"
          ],
          "name": "stderr"
        },
        {
          "output_type": "stream",
          "text": [
            "\n",
            "Test set: Average loss: 0.0271, Accuracy: 9922/10000 (99.22%)\n",
            "\n",
            "EPOCH: 12\n"
          ],
          "name": "stdout"
        },
        {
          "output_type": "stream",
          "text": [
            "Train Set: Train Loss=0.0035751659888774157 Batch_id=468 Accuracy=99.89: 100%|██████████| 469/469 [00:19<00:00, 24.24it/s]\n",
            "  0%|          | 0/469 [00:00<?, ?it/s]"
          ],
          "name": "stderr"
        },
        {
          "output_type": "stream",
          "text": [
            "\n",
            "Test set: Average loss: 0.0330, Accuracy: 9911/10000 (99.11%)\n",
            "\n",
            "EPOCH: 13\n"
          ],
          "name": "stdout"
        },
        {
          "output_type": "stream",
          "text": [
            "Train Set: Train Loss=0.0003587007522583008 Batch_id=468 Accuracy=99.91: 100%|██████████| 469/469 [00:19<00:00, 24.28it/s]\n",
            "  0%|          | 0/469 [00:00<?, ?it/s]"
          ],
          "name": "stderr"
        },
        {
          "output_type": "stream",
          "text": [
            "\n",
            "Test set: Average loss: 0.0273, Accuracy: 9926/10000 (99.26%)\n",
            "\n",
            "EPOCH: 14\n"
          ],
          "name": "stdout"
        },
        {
          "output_type": "stream",
          "text": [
            "Train Set: Train Loss=0.00037980079650878906 Batch_id=468 Accuracy=99.85: 100%|██████████| 469/469 [00:19<00:00, 24.21it/s]\n",
            "  0%|          | 0/469 [00:00<?, ?it/s]"
          ],
          "name": "stderr"
        },
        {
          "output_type": "stream",
          "text": [
            "\n",
            "Test set: Average loss: 0.0277, Accuracy: 9920/10000 (99.20%)\n",
            "\n",
            "EPOCH: 15\n"
          ],
          "name": "stdout"
        },
        {
          "output_type": "stream",
          "text": [
            "Train Set: Train Loss=0.0004057983460370451 Batch_id=468 Accuracy=99.94: 100%|██████████| 469/469 [00:19<00:00, 24.23it/s]\n",
            "  0%|          | 0/469 [00:00<?, ?it/s]"
          ],
          "name": "stderr"
        },
        {
          "output_type": "stream",
          "text": [
            "\n",
            "Test set: Average loss: 0.0303, Accuracy: 9930/10000 (99.30%)\n",
            "\n",
            "EPOCH: 16\n"
          ],
          "name": "stdout"
        },
        {
          "output_type": "stream",
          "text": [
            "Train Set: Train Loss=0.0010309318313375115 Batch_id=468 Accuracy=99.94: 100%|██████████| 469/469 [00:19<00:00, 24.20it/s]\n",
            "  0%|          | 0/469 [00:00<?, ?it/s]"
          ],
          "name": "stderr"
        },
        {
          "output_type": "stream",
          "text": [
            "\n",
            "Test set: Average loss: 0.0325, Accuracy: 9921/10000 (99.21%)\n",
            "\n",
            "EPOCH: 17\n"
          ],
          "name": "stdout"
        },
        {
          "output_type": "stream",
          "text": [
            "Train Set: Train Loss=0.000958045304287225 Batch_id=468 Accuracy=99.97: 100%|██████████| 469/469 [00:19<00:00, 24.16it/s]\n",
            "  0%|          | 0/469 [00:00<?, ?it/s]"
          ],
          "name": "stderr"
        },
        {
          "output_type": "stream",
          "text": [
            "\n",
            "Test set: Average loss: 0.0324, Accuracy: 9925/10000 (99.25%)\n",
            "\n",
            "EPOCH: 18\n"
          ],
          "name": "stdout"
        },
        {
          "output_type": "stream",
          "text": [
            "Train Set: Train Loss=1.637140849197749e-05 Batch_id=468 Accuracy=99.99: 100%|██████████| 469/469 [00:19<00:00, 24.21it/s]\n",
            "  0%|          | 0/469 [00:00<?, ?it/s]"
          ],
          "name": "stderr"
        },
        {
          "output_type": "stream",
          "text": [
            "\n",
            "Test set: Average loss: 0.0318, Accuracy: 9926/10000 (99.26%)\n",
            "\n",
            "EPOCH: 19\n"
          ],
          "name": "stdout"
        },
        {
          "output_type": "stream",
          "text": [
            "Train Set: Train Loss=1.3321638107299805e-05 Batch_id=468 Accuracy=100.00: 100%|██████████| 469/469 [00:19<00:00, 24.29it/s]\n",
            "  0%|          | 0/469 [00:00<?, ?it/s]"
          ],
          "name": "stderr"
        },
        {
          "output_type": "stream",
          "text": [
            "\n",
            "Test set: Average loss: 0.0349, Accuracy: 9930/10000 (99.30%)\n",
            "\n",
            "EPOCH: 20\n"
          ],
          "name": "stdout"
        },
        {
          "output_type": "stream",
          "text": [
            "Train Set: Train Loss=1.1026859283447266e-05 Batch_id=468 Accuracy=99.99: 100%|██████████| 469/469 [00:19<00:00, 24.17it/s]\n"
          ],
          "name": "stderr"
        },
        {
          "output_type": "stream",
          "text": [
            "\n",
            "Test set: Average loss: 0.0321, Accuracy: 9929/10000 (99.29%)\n",
            "\n",
            "Train loss:  [0.10697311908006668, 0.04308191314339638, 0.03999421373009682, 0.008621658198535442, 0.015313406474888325, 0.003619035007432103, 0.0017806589603424072, 0.009838610887527466, 0.002654383657500148, 0.011859267950057983, 0.0019473135471343994, 0.0035751659888774157, 0.0003587007522583008, 0.00037980079650878906, 0.0004057983460370451, 0.0010309318313375115, 0.000958045304287225, 1.637140849197749e-05, 1.3321638107299805e-05, 1.1026859283447266e-05]\n",
            "Test loss:  [0.06255048999786376, 0.052252521467208865, 0.031731178855896, 0.03449487645626068, 0.02607515971660614, 0.0282976508975029, 0.029362699460983275, 0.029459399080276488, 0.023041244411468507, 0.03021694531440735, 0.027116591000556946, 0.033027761793136594, 0.027343254899978638, 0.027734262490272523, 0.03026121234893799, 0.032482225322723386, 0.03236603555679321, 0.031767498850822445, 0.034939744925498964, 0.03210337920188904]\n",
            "Difference in loss :  [0.044422629082202916, -0.009170608323812487, 0.008263034874200818, -0.02587321825772524, -0.010761753241717815, -0.024678615890070796, -0.027582040500640868, -0.01962078819274902, -0.02038686075396836, -0.018357677364349366, -0.025169277453422546, -0.029452595804259178, -0.026984554147720337, -0.027354461693763734, -0.029855414002900944, -0.031451293491385875, -0.031407990252505985, -0.03175112744233047, -0.034926423287391664, -0.032092352342605594]\n",
            "Train Accuracy:  [84.65, 98.2, 98.86, 99.17, 99.41, 99.51, 99.66, 99.69, 99.77, 99.79, 99.88, 99.89, 99.91, 99.85, 99.94, 99.94, 99.97, 99.99, 100.0, 99.99]\n",
            "Test Accuracy:  [98.06, 98.33, 98.91, 98.86, 99.17, 99.07, 99.12, 99.14, 99.26, 99.1, 99.22, 99.11, 99.26, 99.2, 99.3, 99.21, 99.25, 99.26, 99.3, 99.29]\n",
            "Difference in Accuracy :  [-13.409999999999997, -0.12999999999999545, -0.04999999999999716, 0.3100000000000023, 0.23999999999999488, 0.44000000000001194, 0.539999999999992, 0.5499999999999972, 0.5099999999999909, 0.6900000000000119, 0.6599999999999966, 0.7800000000000011, 0.6499999999999915, 0.6499999999999915, 0.6400000000000006, 0.730000000000004, 0.7199999999999989, 0.7299999999999898, 0.7000000000000028, 0.6999999999999886]\n"
          ],
          "name": "stdout"
        },
        {
          "output_type": "display_data",
          "data": {
            "image/png": "[encoded data removed]",
            "text/plain": [
              "<Figure size 432x288 with 1 Axes>"
            ]
          },
          "metadata": {
            "tags": [],
            "needs_background": "light"
          }
        },
        {
          "output_type": "display_data",
          "data": {
            "image/png": "[encoded data removed]",
            "text/plain": [
              "<Figure size 432x288 with 60 Axes>"
            ]
          },
          "metadata": {
            "tags": [],
            "needs_background": "light"
          }
        },
        {
          "output_type": "display_data",
          "data": {
            "image/png": "[encoded data removed]",
            "text/plain": [
              "<Figure size 1080x720 with 4 Axes>"
            ]
          },
          "metadata": {
            "tags": [],
            "needs_background": "light"
          }
        }
      ]
    },
    {
      "cell_type": "code",
      "metadata": {
        "colab_type": "code",
        "id": "3R7W16KyuzKq",
        "colab": {}
      },
      "source": [
        ""
      ],
      "execution_count": 0,
      "outputs": []
    },
    {
      "cell_type": "code",
      "metadata": {
        "id": "eriQ3RqXr3SB",
        "colab_type": "code",
        "colab": {}
      },
      "source": [
        ""
      ],
      "execution_count": 0,
      "outputs": []
    },
    {
      "cell_type": "code",
      "metadata": {
        "id": "nstrnQe3f5J9",
        "colab_type": "code",
        "colab": {}
      },
      "source": [
        ""
      ],
      "execution_count": 0,
      "outputs": []
    }
  ]
}