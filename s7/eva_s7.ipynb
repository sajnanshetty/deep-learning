{
  "nbformat": 4,
  "nbformat_minor": 0,
  "metadata": {
    "colab": {
      "name": "eva_s7.ipynb",
      "provenance": [],
      "collapsed_sections": []
    },
    "kernelspec": {
      "name": "python3",
      "display_name": "Python 3"
    },
    "accelerator": "GPU"
  },
  "cells": [
    {
      "cell_type": "code",
      "metadata": {
        "id": "EsaufAbC_eDd",
        "colab_type": "code",
        "colab": {}
      },
      "source": [
        "import sys\n",
        "folder = '/content/gdrive/My Drive/Colab Notebooks/my_project1/deep-learning/utils'\n",
        "#sys.path.append(folder)\n",
        "sys.path.insert(0, folder)\n"
      ],
      "execution_count": 0,
      "outputs": []
    },
    {
      "cell_type": "code",
      "metadata": {
        "id": "SrzX9XgK2K_-",
        "colab_type": "code",
        "outputId": "dd7e535f-8d47-4b34-adbb-0afb1dec585f",
        "colab": {
          "base_uri": "https://localhost:8080/",
          "height": 124
        }
      },
      "source": [
        "from google.colab import drive\n",
        "ROOT = \"/content/gdrive\"\n",
        "drive.mount(ROOT, force_remount=True)"
      ],
      "execution_count": 6,
      "outputs": [
        {
          "output_type": "stream",
          "text": [
            "Go to this URL in a browser: https://accounts.google.com/o/oauth2/auth?client_id=947318989803-6bn6qk8qdgf4n4g3pfee6491hc0brc4i.apps.googleusercontent.com&redirect_uri=urn%3aietf%3awg%3aoauth%3a2.0%3aoob&response_type=code&scope=email%20https%3a%2f%2fwww.googleapis.com%2fauth%2fdocs.test%20https%3a%2f%2fwww.googleapis.com%2fauth%2fdrive%20https%3a%2f%2fwww.googleapis.com%2fauth%2fdrive.photos.readonly%20https%3a%2f%2fwww.googleapis.com%2fauth%2fpeopleapi.readonly\n",
            "\n",
            "Enter your authorization code:\n",
            "··········\n",
            "Mounted at /content/gdrive\n"
          ],
          "name": "stdout"
        }
      ]
    },
    {
      "cell_type": "code",
      "metadata": {
        "id": "jQ-V6NbMF3bD",
        "colab_type": "code",
        "colab": {}
      },
      "source": [
        "from helper import HelperModel\n",
        "from dataset_info import DataSet\n",
        "from dataloader import DataLoader\n",
        "from model import Net\n",
        "from transforms import Transform\n",
        "from train import Train\n",
        "from test import Test"
      ],
      "execution_count": 0,
      "outputs": []
    },
    {
      "cell_type": "markdown",
      "metadata": {
        "id": "tLyjuUcso-mL",
        "colab_type": "text"
      },
      "source": [
        "### Create model and display summary"
      ]
    },
    {
      "cell_type": "code",
      "metadata": {
        "id": "jHoIGLP6o6an",
        "colab_type": "code",
        "outputId": "f8055401-1eb2-4990-9be0-569c96c2f317",
        "colab": {
          "base_uri": "https://localhost:8080/",
          "height": 713
        }
      },
      "source": [
        "model_obj = Net()\n",
        "# create object for Model\n",
        "device = HelperModel.get_device()\n",
        "\n",
        "model = model_obj.to(device)\n",
        "\n",
        "#create object for helper with object\n",
        "helper_obj = HelperModel(model_obj)\n",
        "\n",
        "#display summaru of model\n",
        "helper_obj.display_model_summay(model, (1, 28, 28))\n",
        "\n"
      ],
      "execution_count": 4,
      "outputs": [
        {
          "output_type": "stream",
          "text": [
            "----------------------------------------------------------------\n",
            "        Layer (type)               Output Shape         Param #\n",
            "================================================================\n",
            "            Conv2d-1           [-1, 12, 26, 26]             108\n",
            "       BatchNorm2d-2           [-1, 12, 26, 26]              24\n",
            "              ReLU-3           [-1, 12, 26, 26]               0\n",
            "            Conv2d-4           [-1, 12, 24, 24]           1,296\n",
            "       BatchNorm2d-5           [-1, 12, 24, 24]              24\n",
            "              ReLU-6           [-1, 12, 24, 24]               0\n",
            "            Conv2d-7           [-1, 12, 22, 22]           1,296\n",
            "       BatchNorm2d-8           [-1, 12, 22, 22]              24\n",
            "              ReLU-9           [-1, 12, 22, 22]               0\n",
            "           Conv2d-10           [-1, 12, 22, 22]             144\n",
            "      BatchNorm2d-11           [-1, 12, 22, 22]              24\n",
            "             ReLU-12           [-1, 12, 22, 22]               0\n",
            "        MaxPool2d-13           [-1, 12, 11, 11]               0\n",
            "           Conv2d-14             [-1, 16, 9, 9]           1,728\n",
            "      BatchNorm2d-15             [-1, 16, 9, 9]              32\n",
            "             ReLU-16             [-1, 16, 9, 9]               0\n",
            "           Conv2d-17             [-1, 16, 9, 9]           2,304\n",
            "      BatchNorm2d-18             [-1, 16, 9, 9]              32\n",
            "             ReLU-19             [-1, 16, 9, 9]               0\n",
            "           Conv2d-20             [-1, 16, 9, 9]           2,304\n",
            "      BatchNorm2d-21             [-1, 16, 9, 9]              32\n",
            "             ReLU-22             [-1, 16, 9, 9]               0\n",
            "        AvgPool2d-23             [-1, 16, 1, 1]               0\n",
            "           Conv2d-24             [-1, 10, 1, 1]             160\n",
            "================================================================\n",
            "Total params: 9,532\n",
            "Trainable params: 9,532\n",
            "Non-trainable params: 0\n",
            "----------------------------------------------------------------\n",
            "Input size (MB): 0.00\n",
            "Forward/backward pass size (MB): 0.71\n",
            "Params size (MB): 0.04\n",
            "Estimated Total Size (MB): 0.75\n",
            "----------------------------------------------------------------\n"
          ],
          "name": "stdout"
        },
        {
          "output_type": "stream",
          "text": [
            "/content/gdrive/My Drive/Colab Notebooks/my_project1/deep-learning/utils/model.py:130: UserWarning: Implicit dimension choice for log_softmax has been deprecated. Change the call to include dim=X as an argument.\n",
            "  return F.log_softmax(x)\n"
          ],
          "name": "stderr"
        }
      ]
    },
    {
      "cell_type": "markdown",
      "metadata": {
        "id": "UWsKIkGcqnck",
        "colab_type": "text"
      },
      "source": [
        "### Get the mean, std "
      ]
    },
    {
      "cell_type": "code",
      "metadata": {
        "id": "QawgGdsXquL1",
        "colab_type": "code",
        "colab": {
          "base_uri": "https://localhost:8080/",
          "height": 191
        },
        "outputId": "1d25722a-8e1b-4dcb-9c74-f6f029082d15"
      },
      "source": [
        "data_set_type = \"mnist\"\n",
        "#get data set info\n",
        "data_set_obj = DataSet(\"mnist\", \"./data\")\n",
        "mean = data_set_obj.mean\n",
        "std = data_set_obj.std\n"
      ],
      "execution_count": 5,
      "outputs": [
        {
          "output_type": "stream",
          "text": [
            "/usr/local/lib/python3.6/dist-packages/torchvision/datasets/mnist.py:55: UserWarning: train_data has been renamed data\n",
            "  warnings.warn(\"train_data has been renamed data\")\n"
          ],
          "name": "stderr"
        },
        {
          "output_type": "stream",
          "text": [
            "[Train]\n",
            " - Numpy Shape: (60000, 28, 28)\n",
            " - Tensor Shape: torch.Size([60000, 28, 28])\n",
            " - min: tensor(0.)\n",
            " - max: tensor(1.)\n",
            " - mean: tensor(0.1305)\n",
            " - std: tensor(0.3081)\n",
            " - var: tensor(0.0949)\n"
          ],
          "name": "stdout"
        }
      ]
    },
    {
      "cell_type": "markdown",
      "metadata": {
        "id": "TdG7kSVerM50",
        "colab_type": "text"
      },
      "source": [
        "### Get the train test transforms "
      ]
    },
    {
      "cell_type": "code",
      "metadata": {
        "id": "C_Kjb6w5rK8_",
        "colab_type": "code",
        "colab": {}
      },
      "source": [
        "# Create Image Transform\n",
        "transform_obj = Transform(mean, std)\n",
        "train_transforms = transform_obj.train_transforms\n",
        "test_transforms = transform_obj.test_transforms"
      ],
      "execution_count": 0,
      "outputs": []
    },
    {
      "cell_type": "markdown",
      "metadata": {
        "id": "S-m8OxUPrsXr",
        "colab_type": "text"
      },
      "source": [
        "### Get Train and Test data set"
      ]
    },
    {
      "cell_type": "code",
      "metadata": {
        "id": "DQpRq7hYrq74",
        "colab_type": "code",
        "colab": {}
      },
      "source": [
        "train_set = data_set_obj.get_train_mnist_dataset(train_transforms)\n",
        "test_set = data_set_obj.get_test_mnist_dataset(test_transforms)"
      ],
      "execution_count": 0,
      "outputs": []
    },
    {
      "cell_type": "markdown",
      "metadata": {
        "id": "2chfqtObr6J7",
        "colab_type": "text"
      },
      "source": [
        "### Load the train and test data"
      ]
    },
    {
      "cell_type": "code",
      "metadata": {
        "id": "JYKuGSG_r5MD",
        "colab_type": "code",
        "colab": {
          "base_uri": "https://localhost:8080/",
          "height": 35
        },
        "outputId": "740f827c-8b00-49d3-c7ce-7628112f492b"
      },
      "source": [
        "data_loader_obj = DataLoader(train_set, test_set, batch_size=64)\n",
        "train_loader = data_loader_obj.train_loader\n",
        "test_loader = data_loader_obj.test_loader"
      ],
      "execution_count": 8,
      "outputs": [
        {
          "output_type": "stream",
          "text": [
            "CUDA Available? True\n"
          ],
          "name": "stdout"
        }
      ]
    },
    {
      "cell_type": "markdown",
      "metadata": {
        "id": "W4lAYvpMsE2u",
        "colab_type": "text"
      },
      "source": [
        "### Run the model"
      ]
    },
    {
      "cell_type": "code",
      "metadata": {
        "id": "qtXBooAjGQCW",
        "colab_type": "code",
        "colab": {
          "base_uri": "https://localhost:8080/",
          "height": 193
        },
        "outputId": "5960c911-3ffe-4dd5-99ff-519284d5604e"
      },
      "source": [
        "optimizer = helper_obj.get_l2_regularizer()\n",
        "EPOCHS = 1\n",
        "l1_factor=0.0001\n",
        "\n",
        "train_obj = Train()\n",
        "test_obj = Test()\n",
        "train_max_acc = []\n",
        "train_min_loss = []\n",
        "for epoch in range(1, EPOCHS+1):\n",
        "    print(\"EPOCH:\", epoch)\n",
        "    train_obj.train(model, device, train_loader, optimizer, l1_factor=l1_factor)\n",
        "    test_obj.test(model, device, test_loader, misclassfied_required=True)\n",
        "    train_max_acc.append(train_obj.train_acc[-1])\n",
        "    train_min_loss.append(train_obj.train_losses[-1])\n",
        "miscassified_images = test_obj.misclassified_images\n",
        "test_losses = test_obj.test_losses\n",
        "test_acc = test_obj.test_acc\n",
        "print(\"Maximum Training Accuracy = \", max(train_max_acc))\n",
        "print(\"Maximum Testing Accuracy = \", max(test_acc))"
      ],
      "execution_count": 14,
      "outputs": [
        {
          "output_type": "stream",
          "text": [
            "\r  0%|          | 0/938 [00:00<?, ?it/s]"
          ],
          "name": "stderr"
        },
        {
          "output_type": "stream",
          "text": [
            "EPOCH: 1\n"
          ],
          "name": "stdout"
        },
        {
          "output_type": "stream",
          "text": [
            "/content/gdrive/My Drive/Colab Notebooks/my_project1/deep-learning/utils/model.py:130: UserWarning: Implicit dimension choice for log_softmax has been deprecated. Change the call to include dim=X as an argument.\n",
            "  return F.log_softmax(x)\n",
            "Train Set: Train Loss=2.306746482849121 Batch_id=937 Accuracy=10.04: 100%|██████████| 938/938 [00:19<00:00, 47.21it/s]\n"
          ],
          "name": "stderr"
        },
        {
          "output_type": "stream",
          "text": [
            "\n",
            "Test set: Average loss: 2.3026, Accuracy: 1010/10000 (10.10%)\n",
            "\n",
            "Maximum Training Accuracy =  10.04\n",
            "Maximum Testing Accuracy =  10.1\n"
          ],
          "name": "stdout"
        }
      ]
    },
    {
      "cell_type": "code",
      "metadata": {
        "id": "IZZOXoo_z9vS",
        "colab_type": "code",
        "colab": {}
      },
      "source": [
        ""
      ],
      "execution_count": 0,
      "outputs": []
    }
  ]
}