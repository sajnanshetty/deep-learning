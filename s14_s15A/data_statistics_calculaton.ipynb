{
  "nbformat": 4,
  "nbformat_minor": 0,
  "metadata": {
    "colab": {
      "name": "data_statistics_calculaton.ipynb",
      "provenance": [],
      "collapsed_sections": [],
      "machine_shape": "hm"
    },
    "kernelspec": {
      "name": "python3",
      "display_name": "Python 3"
    },
    "accelerator": "GPU"
  },
  "cells": [
    {
      "cell_type": "code",
      "metadata": {
        "id": "zhHSdh6whbcj",
        "colab_type": "code",
        "colab": {
          "base_uri": "https://localhost:8080/",
          "height": 34
        },
        "outputId": "b7e7d402-adfa-42ac-d7ae-6142b2a4ade7"
      },
      "source": [
        "from google.colab import drive\n",
        "ROOT = \"/content/gdrive\"\n",
        "drive.mount(ROOT, force_remount=True)"
      ],
      "execution_count": null,
      "outputs": [
        {
          "output_type": "stream",
          "text": [
            "Mounted at /content/drive\n"
          ],
          "name": "stdout"
        }
      ]
    },
    {
      "cell_type": "code",
      "metadata": {
        "id": "BpaA550vxg24",
        "colab_type": "code",
        "colab": {}
      },
      "source": [
        "from tqdm.notebook import tqdm"
      ],
      "execution_count": null,
      "outputs": []
    },
    {
      "cell_type": "code",
      "metadata": {
        "id": "Wjl1vaeojmZ0",
        "colab_type": "code",
        "colab": {}
      },
      "source": [
        "import os\n",
        "basePath = '/content/gdrive/My Drive/Colab_Notebooks/my_project1/deep_learning/S15_A/'\n",
        "os.chdir(basePath)"
      ],
      "execution_count": null,
      "outputs": []
    },
    {
      "cell_type": "code",
      "metadata": {
        "colab_type": "code",
        "id": "ahGFI6M3Zpgh",
        "colab": {}
      },
      "source": [
        "import numpy as np\n",
        "import cv2\n",
        "import io\n",
        "from torch.utils.data import DataLoader, Dataset\n",
        "from torchvision.transforms import ToTensor\n",
        "import zipfile\n",
        "import matplotlib.pyplot as plt\n",
        "import torchvision\n",
        "from PIL import Image\n",
        "import glob\n",
        "import torch\n",
        "from tqdm import tqdm\n",
        "\n",
        "class ZipDataset(Dataset):\n",
        "    def __init__(self, zip_path,  transform=None):\n",
        "        self.transform = transform\n",
        "        f = open(zip_path, 'rb')\n",
        "        self.zip_content = f.read()\n",
        "        f.close()\n",
        "        self.zip_handle = zipfile.ZipFile(io.BytesIO(self.zip_content), 'r')\n",
        "        self.name_list = self.zip_handle.namelist()\n",
        "\n",
        "    def __getitem__(self, key):\n",
        "        buf = self.zip_handle.read(self.name_list[key])\n",
        "        dataEnc = io.BytesIO(buf)\n",
        "        images= np.array(Image.open(dataEnc ), dtype=float)/255.\n",
        "        if self.transform:\n",
        "          images = self.transform(images)\n",
        "        return images\n",
        "\n",
        "    def __len__(self):\n",
        "        return len(self.name_list)\n"
      ],
      "execution_count": null,
      "outputs": []
    },
    {
      "cell_type": "code",
      "metadata": {
        "id": "dBPuynqsWCPT",
        "colab_type": "code",
        "colab": {}
      },
      "source": [
        "class CustomDataset(Dataset):\n",
        "    def __init__(self, image_list, transform=None):\n",
        "        self.transform = transform\n",
        "        self.image_list = image_list\n",
        "\n",
        "    def __getitem__(self, key):\n",
        "        images = np.array(Image.open(self.image_list[key]))/255.\n",
        "        if self.transform:\n",
        "          images = self.transform(images)\n",
        "        return images\n",
        "\n",
        "    def __len__(self):\n",
        "        return len(self.image_list)"
      ],
      "execution_count": null,
      "outputs": []
    },
    {
      "cell_type": "code",
      "metadata": {
        "id": "6on9lKkRNs3A",
        "colab_type": "code",
        "colab": {}
      },
      "source": [
        "from torchvision import transforms\n",
        "def run_stastics_with_zip_files(zip_list, batch_size=256, num_channel=3):\n",
        "  nb_samples = 0.\n",
        "  channel_mean = torch.zeros(num_channel)\n",
        "  channel_std = torch.zeros(num_channel)\n",
        "  dataset_len = 0\n",
        "  dataloader_args = dict(shuffle=False, batch_size=batch_size, num_workers=1, pin_memory=True)\n",
        "  for i, zip_file in tqdm(enumerate(zip_list)):\n",
        "    dataset = ZipDataset(zip_file, transform=transforms.Compose([transforms.ToTensor()]))\n",
        "    dataloader = DataLoader(dataset, **dataloader_args)\n",
        "    dataset_len += len(dataset)\n",
        "    for images in dataloader:\n",
        "      batch_samples = images.size(0)\n",
        "      # Rearrange batch to be the shape of [B, C, W * H]\n",
        "      images = images.view(batch_samples, images.size(1), -1)\n",
        "      channel_mean += images.mean(2).sum(0)\n",
        "      channel_std += images.std(2).sum(0)\n",
        "  channel_mean /= dataset_len\n",
        "  channel_std /= dataset_len\n",
        "\n",
        "  return {\"mean\": channel_mean, \"std\": channel_std, \"size\": dataset_len}"
      ],
      "execution_count": null,
      "outputs": []
    },
    {
      "cell_type": "code",
      "metadata": {
        "id": "N9mO7KJVVClr",
        "colab_type": "code",
        "colab": {}
      },
      "source": [
        "import pdb\n",
        "def run_stastics_for_images(image_list, batch_size=256, num_channel=1):\n",
        "  dataset_len = 0.\n",
        "  channel_mean = torch.zeros(num_channel)\n",
        "  channel_std = torch.zeros(num_channel)\n",
        "  dataloader_args = dict(shuffle=False, batch_size=100, num_workers=1)\n",
        "  dataset = CustomDataset(image_list, transform=transforms.Compose([transforms.ToTensor()]))\n",
        "  dataloader = DataLoader(dataset, **dataloader_args)\n",
        "  dataset_len += len(dataset)\n",
        "  for images in dataloader:\n",
        "      batch_samples = images.size(0)\n",
        "      # Rearrange batch to be the shape of [B, C, W * H]\n",
        "      images = images.view(batch_samples, images.size(1), -1)\n",
        "      channel_mean += images.mean(2).sum(0)\n",
        "      channel_std += images.std(2).sum(0)\n",
        "  channel_mean /= dataset_len\n",
        "  channel_std /= dataset_len\n",
        "\n",
        "  return {\"mean\": channel_mean, \"std\": channel_std, \"size\": dataset_len}"
      ],
      "execution_count": null,
      "outputs": []
    },
    {
      "cell_type": "markdown",
      "metadata": {
        "id": "xrRVEvWXTMbg",
        "colab_type": "text"
      },
      "source": [
        "## **background images mean and std**"
      ]
    },
    {
      "cell_type": "code",
      "metadata": {
        "id": "yeiCy46sTNDw",
        "colab_type": "code",
        "colab": {
          "base_uri": "https://localhost:8080/",
          "height": 68
        },
        "outputId": "e67cdb74-f0f2-41f6-e858-cf48c09acb41"
      },
      "source": [
        "img_list = sorted([f for f in glob.glob('/content/drive/My Drive/Utils/S15A/Images/background/*.jpg')])\n",
        "val = run_stastics_for_images(img_list, batch_size=50, num_channel=3)\n",
        "print(\"bg mean: \" , val[\"mean\"].tolist())\n",
        "print(\"bg std: \" , val[\"std\"].tolist())\n",
        "print(\"bg size: \" , val[\"size\"])"
      ],
      "execution_count": null,
      "outputs": [
        {
          "output_type": "stream",
          "text": [
            "bg mean:  [0.5558092594146729, 0.5201340913772583, 0.463156521320343]\n",
            "bg std:  [0.2149990200996399, 0.21596555411815643, 0.23049025237560272]\n",
            "bg size:  100.0\n"
          ],
          "name": "stdout"
        }
      ]
    },
    {
      "cell_type": "markdown",
      "metadata": {
        "id": "CJCyR-MbO17V",
        "colab_type": "text"
      },
      "source": [
        "## **fg_bg images mean and std**"
      ]
    },
    {
      "cell_type": "code",
      "metadata": {
        "id": "lnnnGz45O0Yb",
        "colab_type": "code",
        "colab": {
          "base_uri": "https://localhost:8080/",
          "height": 85
        },
        "outputId": "923106c7-3261-4d13-92c2-1179fcf21f41"
      },
      "source": [
        "zip_list = sorted([f for f in glob.glob('/content/gdrive/My Drive/Colab_Notebooks/my_project1/deep_learning/S15_A/images/fg_bg/*.zip')])\n",
        "val = run_stastics_with_zip_files(zip_list, batch_size=1024, num_channel=3)\n",
        "print(\"fg bg mean: \" , val[\"mean\"].tolist())\n",
        "print(\"fg bg std: \" , val[\"std\"].tolist())\n",
        "print(\"fg bg size: \" , val[\"size\"])"
      ],
      "execution_count": null,
      "outputs": [
        {
          "output_type": "stream",
          "text": [
            "100it [24:54, 14.94s/it]"
          ],
          "name": "stderr"
        },
        {
          "output_type": "stream",
          "text": [
            "fg bg mean:  [0.5455222129821777, 0.5086212158203125, 0.45718181133270264]\n",
            "fg bg std:  [0.22610004246234894, 0.2249932438135147, 0.23590309917926788]\n",
            "fg bg size:  400000\n"
          ],
          "name": "stdout"
        },
        {
          "output_type": "stream",
          "text": [
            "\n"
          ],
          "name": "stderr"
        }
      ]
    },
    {
      "cell_type": "markdown",
      "metadata": {
        "id": "XhY4Y4rFSYZI",
        "colab_type": "text"
      },
      "source": [
        "## **fg_bg_mask images mean and std**"
      ]
    },
    {
      "cell_type": "code",
      "metadata": {
        "id": "10_PlDXDSXVC",
        "colab_type": "code",
        "colab": {
          "base_uri": "https://localhost:8080/",
          "height": 85
        },
        "outputId": "fa24ee97-e98f-422c-deaf-fc0850e75b0f"
      },
      "source": [
        "zip_list = sorted([f for f in glob.glob('/content/gdrive/My Drive/Colab_Notebooks/my_project1/deep_learning/S15_A/images/fg_bg_mask/*.zip')])\n",
        "val = run_stastics_with_zip_files(zip_list, batch_size=1024, num_channel=1)\n",
        "print(\"fg bg mask mean: \" , val[\"mean\"].tolist())\n",
        "print(\"fg bg mask std: \" , val[\"std\"].tolist())\n",
        "print(\"fg bg mask size: \" , val[\"size\"])"
      ],
      "execution_count": null,
      "outputs": [
        {
          "output_type": "stream",
          "text": [
            "100it [08:44,  5.25s/it]"
          ],
          "name": "stderr"
        },
        {
          "output_type": "stream",
          "text": [
            "fg bg mask mean:  [0.05790501832962036]\n",
            "fg bg mask std:  [0.22068527340888977]\n",
            "fg bg mask size:  400000\n"
          ],
          "name": "stdout"
        },
        {
          "output_type": "stream",
          "text": [
            "\n"
          ],
          "name": "stderr"
        }
      ]
    },
    {
      "cell_type": "markdown",
      "metadata": {
        "id": "S6V-WgQVknRY",
        "colab_type": "text"
      },
      "source": [
        "## **dense depth mean and std**"
      ]
    },
    {
      "cell_type": "code",
      "metadata": {
        "id": "GwD5lXW9kbKD",
        "colab_type": "code",
        "colab": {
          "base_uri": "https://localhost:8080/",
          "height": 85
        },
        "outputId": "59758b78-9447-427e-a131-88e3cb68dcc7"
      },
      "source": [
        "zip_list = sorted([f for f in glob.glob('/content/gdrive/My Drive/Colab_Notebooks/my_project1/deep_learning/S15_A/images/dense_depth/*.zip')])\n",
        "val = run_stastics_with_zip_files(zip_list, batch_size=1024, num_channel=1)\n",
        "print(\"fg bg dense depth mean: \" , val[\"mean\"].tolist())\n",
        "print(\"fg bg dense depth std: \" , val[\"std\"].tolist())\n",
        "print(\"fg bg dense depth size: \" , val[\"size\"])"
      ],
      "execution_count": null,
      "outputs": [
        {
          "output_type": "stream",
          "text": [
            "100it [09:26,  5.66s/it]"
          ],
          "name": "stderr"
        },
        {
          "output_type": "stream",
          "text": [
            "fg bg dense depth mean:  [0.40361160039901733]\n",
            "fg bg dense depth std:  [0.19922664761543274]\n",
            "fg bg dense depth size:  400000\n"
          ],
          "name": "stdout"
        },
        {
          "output_type": "stream",
          "text": [
            "\n"
          ],
          "name": "stderr"
        }
      ]
    },
    {
      "cell_type": "code",
      "metadata": {
        "id": "ha2m8_uHyfQd",
        "colab_type": "code",
        "colab": {}
      },
      "source": [
        ""
      ],
      "execution_count": null,
      "outputs": []
    }
  ]
}